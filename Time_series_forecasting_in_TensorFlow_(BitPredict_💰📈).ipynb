{
 "cells": [
  {
   "cell_type": "markdown",
   "metadata": {
    "id": "JHHgcWvzULmg"
   },
   "source": [
    "**Project: Time series forecasting in TensorFlow (BitPredict 💰📈)**"
   ]
  },
  {
   "cell_type": "code",
   "execution_count": 1,
   "metadata": {
    "colab": {
     "base_uri": "https://localhost:8080/"
    },
    "id": "op3xrYbZT63j",
    "outputId": "2702e96f-bce0-4919-e1e5-3036deb09f51"
   },
   "outputs": [
    {
     "name": "stdout",
     "output_type": "stream",
     "text": [
      "--2021-11-11 09:26:08--  https://raw.githubusercontent.com/mrdbourke/tensorflow-deep-learning/main/extras/BTC_USD_2013-10-01_2021-05-18-CoinDesk.csv\n",
      "Resolving raw.githubusercontent.com (raw.githubusercontent.com)... 185.199.111.133, 185.199.110.133, 185.199.108.133, ...\n",
      "Connecting to raw.githubusercontent.com (raw.githubusercontent.com)|185.199.111.133|:443... connected.\n",
      "HTTP request sent, awaiting response... 200 OK\n",
      "Length: 178509 (174K) [text/plain]\n",
      "Saving to: ‘BTC_USD_2013-10-01_2021-05-18-CoinDesk.csv’\n",
      "\n",
      "BTC_USD_2013-10-01_ 100%[===================>] 174.33K  --.-KB/s    in 0.03s   \n",
      "\n",
      "2021-11-11 09:26:08 (5.54 MB/s) - ‘BTC_USD_2013-10-01_2021-05-18-CoinDesk.csv’ saved [178509/178509]\n",
      "\n"
     ]
    }
   ],
   "source": [
    "# Download Bitcoin historical data from GitHub \n",
    "# Note: you'll need to select \"Raw\" to download the data in the correct format\n",
    "!wget https://raw.githubusercontent.com/mrdbourke/tensorflow-deep-learning/main/extras/BTC_USD_2013-10-01_2021-05-18-CoinDesk.csv"
   ]
  },
  {
   "cell_type": "code",
   "execution_count": 2,
   "metadata": {
    "colab": {
     "base_uri": "https://localhost:8080/",
     "height": 235
    },
    "id": "v83Esd0IUY5B",
    "outputId": "0e73cf75-afe7-4d85-b6e3-606f7516c7d4"
   },
   "outputs": [
    {
     "data": {
      "text/html": [
       "<div>\n",
       "<style scoped>\n",
       "    .dataframe tbody tr th:only-of-type {\n",
       "        vertical-align: middle;\n",
       "    }\n",
       "\n",
       "    .dataframe tbody tr th {\n",
       "        vertical-align: top;\n",
       "    }\n",
       "\n",
       "    .dataframe thead th {\n",
       "        text-align: right;\n",
       "    }\n",
       "</style>\n",
       "<table border=\"1\" class=\"dataframe\">\n",
       "  <thead>\n",
       "    <tr style=\"text-align: right;\">\n",
       "      <th></th>\n",
       "      <th>Currency</th>\n",
       "      <th>Closing Price (USD)</th>\n",
       "      <th>24h Open (USD)</th>\n",
       "      <th>24h High (USD)</th>\n",
       "      <th>24h Low (USD)</th>\n",
       "    </tr>\n",
       "    <tr>\n",
       "      <th>Date</th>\n",
       "      <th></th>\n",
       "      <th></th>\n",
       "      <th></th>\n",
       "      <th></th>\n",
       "      <th></th>\n",
       "    </tr>\n",
       "  </thead>\n",
       "  <tbody>\n",
       "    <tr>\n",
       "      <th>2013-10-01</th>\n",
       "      <td>BTC</td>\n",
       "      <td>123.65499</td>\n",
       "      <td>124.30466</td>\n",
       "      <td>124.75166</td>\n",
       "      <td>122.56349</td>\n",
       "    </tr>\n",
       "    <tr>\n",
       "      <th>2013-10-02</th>\n",
       "      <td>BTC</td>\n",
       "      <td>125.45500</td>\n",
       "      <td>123.65499</td>\n",
       "      <td>125.75850</td>\n",
       "      <td>123.63383</td>\n",
       "    </tr>\n",
       "    <tr>\n",
       "      <th>2013-10-03</th>\n",
       "      <td>BTC</td>\n",
       "      <td>108.58483</td>\n",
       "      <td>125.45500</td>\n",
       "      <td>125.66566</td>\n",
       "      <td>83.32833</td>\n",
       "    </tr>\n",
       "    <tr>\n",
       "      <th>2013-10-04</th>\n",
       "      <td>BTC</td>\n",
       "      <td>118.67466</td>\n",
       "      <td>108.58483</td>\n",
       "      <td>118.67500</td>\n",
       "      <td>107.05816</td>\n",
       "    </tr>\n",
       "    <tr>\n",
       "      <th>2013-10-05</th>\n",
       "      <td>BTC</td>\n",
       "      <td>121.33866</td>\n",
       "      <td>118.67466</td>\n",
       "      <td>121.93633</td>\n",
       "      <td>118.00566</td>\n",
       "    </tr>\n",
       "  </tbody>\n",
       "</table>\n",
       "</div>"
      ],
      "text/plain": [
       "           Currency  Closing Price (USD)  ...  24h High (USD)  24h Low (USD)\n",
       "Date                                      ...                               \n",
       "2013-10-01      BTC            123.65499  ...       124.75166      122.56349\n",
       "2013-10-02      BTC            125.45500  ...       125.75850      123.63383\n",
       "2013-10-03      BTC            108.58483  ...       125.66566       83.32833\n",
       "2013-10-04      BTC            118.67466  ...       118.67500      107.05816\n",
       "2013-10-05      BTC            121.33866  ...       121.93633      118.00566\n",
       "\n",
       "[5 rows x 5 columns]"
      ]
     },
     "execution_count": 2,
     "metadata": {},
     "output_type": "execute_result"
    }
   ],
   "source": [
    "# Import with pandas \n",
    "import pandas as pd\n",
    "# Parse dates and set date column to index\n",
    "df = pd.read_csv(\"/content/BTC_USD_2013-10-01_2021-05-18-CoinDesk.csv\", \n",
    "                 parse_dates=[\"Date\"], \n",
    "                 index_col=[\"Date\"]) # parse the date column (tell pandas column 1 is a datetime)\n",
    "df.head()"
   ]
  },
  {
   "cell_type": "code",
   "execution_count": 3,
   "metadata": {
    "colab": {
     "base_uri": "https://localhost:8080/"
    },
    "id": "RtFHxp5MUbHG",
    "outputId": "3e0d92a5-6d64-44f5-f243-5b33f4e7aea7"
   },
   "outputs": [
    {
     "name": "stdout",
     "output_type": "stream",
     "text": [
      "<class 'pandas.core.frame.DataFrame'>\n",
      "DatetimeIndex: 2787 entries, 2013-10-01 to 2021-05-18\n",
      "Data columns (total 5 columns):\n",
      " #   Column               Non-Null Count  Dtype  \n",
      "---  ------               --------------  -----  \n",
      " 0   Currency             2787 non-null   object \n",
      " 1   Closing Price (USD)  2787 non-null   float64\n",
      " 2   24h Open (USD)       2787 non-null   float64\n",
      " 3   24h High (USD)       2787 non-null   float64\n",
      " 4   24h Low (USD)        2787 non-null   float64\n",
      "dtypes: float64(4), object(1)\n",
      "memory usage: 130.6+ KB\n"
     ]
    }
   ],
   "source": [
    "df.info()"
   ]
  },
  {
   "cell_type": "code",
   "execution_count": 4,
   "metadata": {
    "colab": {
     "base_uri": "https://localhost:8080/"
    },
    "id": "6zDFDRMDUdGn",
    "outputId": "1a1f299b-44c2-4ce1-806e-08f0064daa4f"
   },
   "outputs": [
    {
     "data": {
      "text/plain": [
       "2787"
      ]
     },
     "execution_count": 4,
     "metadata": {},
     "output_type": "execute_result"
    }
   ],
   "source": [
    "\n",
    "# How many samples do we have?\n",
    "len(df)"
   ]
  },
  {
   "cell_type": "code",
   "execution_count": 5,
   "metadata": {
    "colab": {
     "base_uri": "https://localhost:8080/",
     "height": 235
    },
    "id": "zGP82WxmUfE2",
    "outputId": "7f66cdb7-4b16-4d8e-e883-afe1bd761ecd"
   },
   "outputs": [
    {
     "data": {
      "text/html": [
       "<div>\n",
       "<style scoped>\n",
       "    .dataframe tbody tr th:only-of-type {\n",
       "        vertical-align: middle;\n",
       "    }\n",
       "\n",
       "    .dataframe tbody tr th {\n",
       "        vertical-align: top;\n",
       "    }\n",
       "\n",
       "    .dataframe thead th {\n",
       "        text-align: right;\n",
       "    }\n",
       "</style>\n",
       "<table border=\"1\" class=\"dataframe\">\n",
       "  <thead>\n",
       "    <tr style=\"text-align: right;\">\n",
       "      <th></th>\n",
       "      <th>Price</th>\n",
       "    </tr>\n",
       "    <tr>\n",
       "      <th>Date</th>\n",
       "      <th></th>\n",
       "    </tr>\n",
       "  </thead>\n",
       "  <tbody>\n",
       "    <tr>\n",
       "      <th>2013-10-01</th>\n",
       "      <td>123.65499</td>\n",
       "    </tr>\n",
       "    <tr>\n",
       "      <th>2013-10-02</th>\n",
       "      <td>125.45500</td>\n",
       "    </tr>\n",
       "    <tr>\n",
       "      <th>2013-10-03</th>\n",
       "      <td>108.58483</td>\n",
       "    </tr>\n",
       "    <tr>\n",
       "      <th>2013-10-04</th>\n",
       "      <td>118.67466</td>\n",
       "    </tr>\n",
       "    <tr>\n",
       "      <th>2013-10-05</th>\n",
       "      <td>121.33866</td>\n",
       "    </tr>\n",
       "  </tbody>\n",
       "</table>\n",
       "</div>"
      ],
      "text/plain": [
       "                Price\n",
       "Date                 \n",
       "2013-10-01  123.65499\n",
       "2013-10-02  125.45500\n",
       "2013-10-03  108.58483\n",
       "2013-10-04  118.67466\n",
       "2013-10-05  121.33866"
      ]
     },
     "execution_count": 5,
     "metadata": {},
     "output_type": "execute_result"
    }
   ],
   "source": [
    "# Only want closing price for each day \n",
    "bitcoin_prices = pd.DataFrame(df[\"Closing Price (USD)\"]).rename(columns={\"Closing Price (USD)\": \"Price\"})\n",
    "bitcoin_prices.head()"
   ]
  },
  {
   "cell_type": "code",
   "execution_count": 6,
   "metadata": {
    "colab": {
     "base_uri": "https://localhost:8080/",
     "height": 460
    },
    "id": "fp93bq8OUiBe",
    "outputId": "e35cf5db-e712-4ad4-e8bd-8c67900c6599"
   },
   "outputs": [
    {
     "data": {
      "image/png": "[encoded data removed]",
      "text/plain": [
       "<Figure size 720x504 with 1 Axes>"
      ]
     },
     "metadata": {
      "needs_background": "light"
     },
     "output_type": "display_data"
    }
   ],
   "source": [
    "import matplotlib.pyplot as plt\n",
    "bitcoin_prices.plot(figsize=(10, 7))\n",
    "plt.ylabel(\"BTC Price\")\n",
    "plt.title(\"Price of Bitcoin from 1 Oct 2013 to 18 May 2021\", fontsize=16)\n",
    "plt.legend(fontsize=14);"
   ]
  },
  {
   "cell_type": "code",
   "execution_count": 7,
   "metadata": {
    "colab": {
     "base_uri": "https://localhost:8080/"
    },
    "id": "dYGYpNC9UkC2",
    "outputId": "5555caf9-efd1-4829-cc68-8ac3457330bd"
   },
   "outputs": [
    {
     "data": {
      "text/plain": [
       "([datetime.datetime(2013, 10, 1, 0, 0),\n",
       "  datetime.datetime(2013, 10, 2, 0, 0),\n",
       "  datetime.datetime(2013, 10, 3, 0, 0),\n",
       "  datetime.datetime(2013, 10, 4, 0, 0),\n",
       "  datetime.datetime(2013, 10, 5, 0, 0),\n",
       "  datetime.datetime(2013, 10, 6, 0, 0),\n",
       "  datetime.datetime(2013, 10, 7, 0, 0),\n",
       "  datetime.datetime(2013, 10, 8, 0, 0),\n",
       "  datetime.datetime(2013, 10, 9, 0, 0),\n",
       "  datetime.datetime(2013, 10, 10, 0, 0)],\n",
       " [123.65499,\n",
       "  125.455,\n",
       "  108.58483,\n",
       "  118.67466,\n",
       "  121.33866,\n",
       "  120.65533,\n",
       "  121.795,\n",
       "  123.033,\n",
       "  124.049,\n",
       "  125.96116])"
      ]
     },
     "execution_count": 7,
     "metadata": {},
     "output_type": "execute_result"
    }
   ],
   "source": [
    "\n",
    "# Importing and formatting historical Bitcoin data with Python\n",
    "import csv\n",
    "from datetime import datetime\n",
    "\n",
    "timesteps = []\n",
    "btc_price = []\n",
    "with open(\"/content/BTC_USD_2013-10-01_2021-05-18-CoinDesk.csv\", \"r\") as f:\n",
    "  csv_reader = csv.reader(f, delimiter=\",\") # read in the target CSV\n",
    "  next(csv_reader) # skip first line (this gets rid of the column titles)\n",
    "  for line in csv_reader:\n",
    "    timesteps.append(datetime.strptime(line[1], \"%Y-%m-%d\")) # get the dates as dates (not strings), strptime = string parse time\n",
    "    btc_price.append(float(line[2])) # get the closing price as float\n",
    "\n",
    "# View first 10 of each\n",
    "timesteps[:10], btc_price[:10]"
   ]
  },
  {
   "cell_type": "code",
   "execution_count": 8,
   "metadata": {
    "colab": {
     "base_uri": "https://localhost:8080/",
     "height": 460
    },
    "id": "wEO9G27BUmt2",
    "outputId": "9c650547-cb24-4f2e-d390-ad9cd8cb03fb"
   },
   "outputs": [
    {
     "data": {
      "image/png": "[encoded data removed]",
      "text/plain": [
       "<Figure size 720x504 with 1 Axes>"
      ]
     },
     "metadata": {
      "needs_background": "light"
     },
     "output_type": "display_data"
    }
   ],
   "source": [
    "\n",
    "# Plot from CSV\n",
    "import matplotlib.pyplot as plt\n",
    "import numpy as np\n",
    "plt.figure(figsize=(10, 7))\n",
    "plt.plot(timesteps, btc_price)\n",
    "plt.title(\"Price of Bitcoin from 1 Oct 2013 to 18 May 2021\", fontsize=16)\n",
    "plt.xlabel(\"Date\")\n",
    "plt.ylabel(\"BTC Price\");"
   ]
  },
  {
   "cell_type": "code",
   "execution_count": 9,
   "metadata": {
    "colab": {
     "base_uri": "https://localhost:8080/"
    },
    "id": "J3mCT1wAUpVX",
    "outputId": "bce20f9e-7347-47e9-8839-e05ac191e598"
   },
   "outputs": [
    {
     "data": {
      "text/plain": [
       "(array(['2013-10-01T00:00:00.000000000', '2013-10-02T00:00:00.000000000',\n",
       "        '2013-10-03T00:00:00.000000000', '2013-10-04T00:00:00.000000000',\n",
       "        '2013-10-05T00:00:00.000000000', '2013-10-06T00:00:00.000000000',\n",
       "        '2013-10-07T00:00:00.000000000', '2013-10-08T00:00:00.000000000',\n",
       "        '2013-10-09T00:00:00.000000000', '2013-10-10T00:00:00.000000000'],\n",
       "       dtype='datetime64[ns]'),\n",
       " array([123.65499, 125.455  , 108.58483, 118.67466, 121.33866, 120.65533,\n",
       "        121.795  , 123.033  , 124.049  , 125.96116]))"
      ]
     },
     "execution_count": 9,
     "metadata": {},
     "output_type": "execute_result"
    }
   ],
   "source": [
    "\n",
    "# Get bitcoin date array\n",
    "timesteps = bitcoin_prices.index.to_numpy()\n",
    "prices = bitcoin_prices[\"Price\"].to_numpy()\n",
    "\n",
    "timesteps[:10], prices[:10]"
   ]
  },
  {
   "cell_type": "code",
   "execution_count": 10,
   "metadata": {
    "colab": {
     "base_uri": "https://localhost:8080/"
    },
    "id": "_vyT-d69Ut1p",
    "outputId": "cdddb2dd-752d-4115-d171-be78c56a924f"
   },
   "outputs": [
    {
     "data": {
      "text/plain": [
       "((2229,), (558,), (2229,), (558,))"
      ]
     },
     "execution_count": 10,
     "metadata": {},
     "output_type": "execute_result"
    }
   ],
   "source": [
    "# Wrong way to make train/test sets for time series\n",
    "from sklearn.model_selection import train_test_split \n",
    "\n",
    "X_train, X_test, y_train, y_test = train_test_split(timesteps, # dates\n",
    "                                                    prices, # prices\n",
    "                                                    test_size=0.2,\n",
    "                                                    random_state=42)\n",
    "X_train.shape, X_test.shape, y_train.shape, y_test.shape"
   ]
  },
  {
   "cell_type": "code",
   "execution_count": 11,
   "metadata": {
    "colab": {
     "base_uri": "https://localhost:8080/",
     "height": 442
    },
    "id": "D-ZJ2xwlUxog",
    "outputId": "8e9c167f-b607-4b30-d6bb-8327772d0284"
   },
   "outputs": [
    {
     "data": {
      "image/png": "[encoded data removed]",
      "text/plain": [
       "<Figure size 720x504 with 1 Axes>"
      ]
     },
     "metadata": {
      "needs_background": "light"
     },
     "output_type": "display_data"
    }
   ],
   "source": [
    "\n",
    "# Let's plot wrong train and test splits\n",
    "plt.figure(figsize=(10, 7))\n",
    "plt.scatter(X_train, y_train, s=5, label=\"Train data\")\n",
    "plt.scatter(X_test, y_test, s=5, label=\"Test data\")\n",
    "plt.xlabel(\"Date\")\n",
    "plt.ylabel(\"BTC Price\")\n",
    "plt.legend(fontsize=14)\n",
    "plt.show();"
   ]
  },
  {
   "cell_type": "code",
   "execution_count": 12,
   "metadata": {
    "colab": {
     "base_uri": "https://localhost:8080/"
    },
    "id": "ljirHp_9U0Uo",
    "outputId": "29ff6f89-dcfc-4421-f1c5-d1681f3bfe44"
   },
   "outputs": [
    {
     "data": {
      "text/plain": [
       "(2229, 558, 2229, 558)"
      ]
     },
     "execution_count": 12,
     "metadata": {},
     "output_type": "execute_result"
    }
   ],
   "source": [
    "# Create train and test splits the right way for time series data\n",
    "split_size = int(0.8 * len(prices)) # 80% train, 20% test\n",
    "\n",
    "# Create train data splits (everything before the split)\n",
    "X_train, y_train = timesteps[:split_size], prices[:split_size]\n",
    "\n",
    "# Create test data splits (everything after the split)\n",
    "X_test, y_test = timesteps[split_size:], prices[split_size:]\n",
    "\n",
    "len(X_train), len(X_test), len(y_train), len(y_test)"
   ]
  },
  {
   "cell_type": "code",
   "execution_count": 13,
   "metadata": {
    "colab": {
     "base_uri": "https://localhost:8080/",
     "height": 442
    },
    "id": "naUMYGoOU4Dh",
    "outputId": "a9f731a8-84de-4b78-9ae3-484d25a0720f"
   },
   "outputs": [
    {
     "data": {
      "image/png": "[encoded data removed]",
      "text/plain": [
       "<Figure size 720x504 with 1 Axes>"
      ]
     },
     "metadata": {
      "needs_background": "light"
     },
     "output_type": "display_data"
    }
   ],
   "source": [
    "# Plot correctly made splits\n",
    "plt.figure(figsize=(10, 7))\n",
    "plt.scatter(X_train, y_train, s=5, label=\"Train data\")\n",
    "plt.scatter(X_test, y_test, s=5, label=\"Test data\")\n",
    "plt.xlabel(\"Date\")\n",
    "plt.ylabel(\"BTC Price\")\n",
    "plt.legend(fontsize=14)\n",
    "plt.show();"
   ]
  },
  {
   "cell_type": "code",
   "execution_count": 14,
   "metadata": {
    "id": "GZHojmvyU6NR"
   },
   "outputs": [],
   "source": [
    "# Create a function to plot time series data\n",
    "def plot_time_series(timesteps, values, format='.', start=0, end=None, label=None):\n",
    "  \"\"\"\n",
    "  Plots a timesteps (a series of points in time) against values (a series of values across timesteps).\n",
    "  \n",
    "  Parameters\n",
    "  ---------\n",
    "  timesteps : array of timesteps\n",
    "  values : array of values across time\n",
    "  format : style of plot, default \".\"\n",
    "  start : where to start the plot (setting a value will index from start of timesteps & values)\n",
    "  end : where to end the plot (setting a value will index from end of timesteps & values)\n",
    "  label : label to show on plot of values\n",
    "  \"\"\"\n",
    "  # Plot the series\n",
    "  plt.plot(timesteps[start:end], values[start:end], format, label=label)\n",
    "  plt.xlabel(\"Time\")\n",
    "  plt.ylabel(\"BTC Price\")\n",
    "  if label:\n",
    "    plt.legend(fontsize=14) # make label bigger\n",
    "  plt.grid(True)"
   ]
  },
  {
   "cell_type": "code",
   "execution_count": 15,
   "metadata": {
    "colab": {
     "base_uri": "https://localhost:8080/",
     "height": 442
    },
    "id": "94KKrLVNU83x",
    "outputId": "0b4a0567-e3c7-4ead-866b-4b295b0409d8"
   },
   "outputs": [
    {
     "data": {
      "image/png": "[encoded data removed]",
      "text/plain": [
       "<Figure size 720x504 with 1 Axes>"
      ]
     },
     "metadata": {
      "needs_background": "light"
     },
     "output_type": "display_data"
    }
   ],
   "source": [
    "# Try out our plotting function\n",
    "plt.figure(figsize=(10, 7))\n",
    "plot_time_series(timesteps=X_train, values=y_train, label=\"Train data\")\n",
    "plot_time_series(timesteps=X_test, values=y_test, label=\"Test data\")"
   ]
  },
  {
   "cell_type": "markdown",
   "metadata": {
    "id": "GmkpMYvKVEES"
   },
   "source": [
    "\n",
    "**Model 0: Naïve forecast (baseline)**"
   ]
  },
  {
   "cell_type": "code",
   "execution_count": 16,
   "metadata": {
    "colab": {
     "base_uri": "https://localhost:8080/"
    },
    "id": "OctyWtFUU_sB",
    "outputId": "dd4dc6b0-1c02-46f4-ca11-ccb62fe386f7"
   },
   "outputs": [
    {
     "data": {
      "text/plain": [
       "(array([9226.48582088, 8794.35864452, 8798.04205463, 9081.18687849,\n",
       "        8711.53433917, 8760.89271814, 8749.52059102, 8656.97092235,\n",
       "        8500.64355816, 8469.2608989 ]),\n",
       " array([57107.12067189, 58788.20967893, 58102.19142623, 55715.54665129,\n",
       "        56573.5554719 , 52147.82118698, 49764.1320816 , 50032.69313676,\n",
       "        47885.62525472, 45604.61575361]))"
      ]
     },
     "execution_count": 16,
     "metadata": {},
     "output_type": "execute_result"
    }
   ],
   "source": [
    "# Create a naïve forecast\n",
    "naive_forecast = y_test[:-1] # Naïve forecast equals every value excluding the last value\n",
    "naive_forecast[:10], naive_forecast[-10:] # View frist 10 and last 10"
   ]
  },
  {
   "cell_type": "code",
   "execution_count": 17,
   "metadata": {
    "colab": {
     "base_uri": "https://localhost:8080/",
     "height": 442
    },
    "id": "n1bebtFjVHzY",
    "outputId": "0b4ad127-8708-4535-f835-703a944d459b"
   },
   "outputs": [
    {
     "data": {
      "image/png": "[encoded data removed]",
      "text/plain": [
       "<Figure size 720x504 with 1 Axes>"
      ]
     },
     "metadata": {
      "needs_background": "light"
     },
     "output_type": "display_data"
    }
   ],
   "source": [
    "# Plot naive forecast\n",
    "plt.figure(figsize=(10, 7))\n",
    "plot_time_series(timesteps=X_train, values=y_train, label=\"Train data\")\n",
    "plot_time_series(timesteps=X_test, values=y_test, label=\"Test data\")\n",
    "plot_time_series(timesteps=X_test[1:], values=naive_forecast, format=\"-\", label=\"Naive forecast\");"
   ]
  },
  {
   "cell_type": "code",
   "execution_count": 18,
   "metadata": {
    "colab": {
     "base_uri": "https://localhost:8080/",
     "height": 442
    },
    "id": "PnxHGfrCVJ8p",
    "outputId": "bb2b5170-736b-4220-d270-9d0475d2fea9"
   },
   "outputs": [
    {
     "data": {
      "image/png": "[encoded data removed]",
      "text/plain": [
       "<Figure size 720x504 with 1 Axes>"
      ]
     },
     "metadata": {
      "needs_background": "light"
     },
     "output_type": "display_data"
    }
   ],
   "source": [
    "plt.figure(figsize=(10, 7))\n",
    "offset = 300 # offset the values by 300 timesteps \n",
    "plot_time_series(timesteps=X_test, values=y_test, start=offset, label=\"Test data\")\n",
    "plot_time_series(timesteps=X_test[1:], values=naive_forecast, format=\"-\", start=offset, label=\"Naive forecast\");"
   ]
  },
  {
   "cell_type": "code",
   "execution_count": 19,
   "metadata": {
    "id": "eA3_u0lQVMSA"
   },
   "outputs": [],
   "source": [
    "\n",
    "# Let's get TensorFlow! \n",
    "import tensorflow as tf"
   ]
  },
  {
   "cell_type": "code",
   "execution_count": 20,
   "metadata": {
    "id": "dB4jg4sxVPkZ"
   },
   "outputs": [],
   "source": [
    "\n",
    "# MASE implemented courtesy of sktime - https://github.com/alan-turing-institute/sktime/blob/ee7a06843a44f4aaec7582d847e36073a9ab0566/sktime/performance_metrics/forecasting/_functions.py#L16\n",
    "def mean_absolute_scaled_error(y_true, y_pred):\n",
    "  \"\"\"\n",
    "  Implement MASE (assuming no seasonality of data).\n",
    "  \"\"\"\n",
    "  mae = tf.reduce_mean(tf.abs(y_true - y_pred))\n",
    "\n",
    "  # Find MAE of naive forecast (no seasonality)\n",
    "  mae_naive_no_season = tf.reduce_mean(tf.abs(y_true[1:] - y_true[:-1])) # our seasonality is 1 day (hence the shifting of 1 day)\n",
    "\n",
    "  return mae / mae_naive_no_season"
   ]
  },
  {
   "cell_type": "code",
   "execution_count": 21,
   "metadata": {
    "id": "q0_0NKQDVSRJ"
   },
   "outputs": [],
   "source": [
    "def evaluate_preds(y_true, y_pred):\n",
    "  # Make sure float32 (for metric calculations)\n",
    "  y_true = tf.cast(y_true, dtype=tf.float32)\n",
    "  y_pred = tf.cast(y_pred, dtype=tf.float32)\n",
    "\n",
    "  # Calculate various metrics\n",
    "  mae = tf.keras.metrics.mean_absolute_error(y_true, y_pred)\n",
    "  mse = tf.keras.metrics.mean_squared_error(y_true, y_pred) # puts and emphasis on outliers (all errors get squared)\n",
    "  rmse = tf.sqrt(mse)\n",
    "  mape = tf.keras.metrics.mean_absolute_percentage_error(y_true, y_pred)\n",
    "  mase = mean_absolute_scaled_error(y_true, y_pred)\n",
    "  \n",
    "  return {\"mae\": mae.numpy(),\n",
    "          \"mse\": mse.numpy(),\n",
    "          \"rmse\": rmse.numpy(),\n",
    "          \"mape\": mape.numpy(),\n",
    "          \"mase\": mase.numpy()}"
   ]
  },
  {
   "cell_type": "code",
   "execution_count": 22,
   "metadata": {
    "colab": {
     "base_uri": "https://localhost:8080/"
    },
    "id": "rJtCuHDgVUEU",
    "outputId": "31c6842f-6749-4c8b-c73e-dcb0cbf3d54a"
   },
   "outputs": [
    {
     "data": {
      "text/plain": [
       "{'mae': 567.9802,\n",
       " 'mape': 2.516525,\n",
       " 'mase': 0.99957,\n",
       " 'mse': 1147547.0,\n",
       " 'rmse': 1071.2362}"
      ]
     },
     "execution_count": 22,
     "metadata": {},
     "output_type": "execute_result"
    }
   ],
   "source": [
    "naive_results = evaluate_preds(y_true=y_test[1:],\n",
    "                               y_pred=naive_forecast)\n",
    "naive_results"
   ]
  },
  {
   "cell_type": "code",
   "execution_count": 23,
   "metadata": {
    "colab": {
     "base_uri": "https://localhost:8080/"
    },
    "id": "oli3QpDeVVv9",
    "outputId": "6a1a0f12-4bf7-4673-a61a-a5446a30f023"
   },
   "outputs": [
    {
     "data": {
      "text/plain": [
       "20056.632963737226"
      ]
     },
     "execution_count": 23,
     "metadata": {},
     "output_type": "execute_result"
    }
   ],
   "source": [
    "# Find average price of Bitcoin in test dataset\n",
    "tf.reduce_mean(y_test).numpy()"
   ]
  },
  {
   "cell_type": "code",
   "execution_count": 24,
   "metadata": {
    "id": "R2GbjSnRVX01"
   },
   "outputs": [],
   "source": [
    "HORIZON = 1 # predict 1 step at a time\n",
    "WINDOW_SIZE = 7 # use a week worth of timesteps to predict the horizon"
   ]
  },
  {
   "cell_type": "code",
   "execution_count": 25,
   "metadata": {
    "id": "PuOEjoDwVbBE"
   },
   "outputs": [],
   "source": [
    "# Create function to label windowed data\n",
    "def get_labelled_windows(x, horizon=1):\n",
    "  \"\"\"\n",
    "  Creates labels for windowed dataset.\n",
    "\n",
    "  E.g. if horizon=1 (default)\n",
    "  Input: [1, 2, 3, 4, 5, 6] -> Output: ([1, 2, 3, 4, 5], [6])\n",
    "  \"\"\"\n",
    "  return x[:, :-horizon], x[:, -horizon:]"
   ]
  },
  {
   "cell_type": "code",
   "execution_count": 26,
   "metadata": {
    "colab": {
     "base_uri": "https://localhost:8080/"
    },
    "id": "AlGjqUn6Vc39",
    "outputId": "887fb2d7-0aef-4393-a023-d36b57575111"
   },
   "outputs": [
    {
     "name": "stdout",
     "output_type": "stream",
     "text": [
      "Window: [1 2 3 4 5 6 7] -> Label: 8\n"
     ]
    }
   ],
   "source": [
    "# Test out the window labelling function\n",
    "test_window, test_label = get_labelled_windows(tf.expand_dims(tf.range(8)+1, axis=0), horizon=HORIZON)\n",
    "print(f\"Window: {tf.squeeze(test_window).numpy()} -> Label: {tf.squeeze(test_label).numpy()}\")"
   ]
  },
  {
   "cell_type": "code",
   "execution_count": 27,
   "metadata": {
    "id": "3-ONDbWjVe58"
   },
   "outputs": [],
   "source": [
    "# Create function to view NumPy arrays as windows \n",
    "def make_windows(x, window_size=7, horizon=1):\n",
    "  \"\"\"\n",
    "  Turns a 1D array into a 2D array of sequential windows of window_size.\n",
    "  \"\"\"\n",
    "  # 1. Create a window of specific window_size (add the horizon on the end for later labelling)\n",
    "  window_step = np.expand_dims(np.arange(window_size+horizon), axis=0)\n",
    "  # print(f\"Window step:\\n {window_step}\")\n",
    "\n",
    "  # 2. Create a 2D array of multiple window steps (minus 1 to account for 0 indexing)\n",
    "  window_indexes = window_step + np.expand_dims(np.arange(len(x)-(window_size+horizon-1)), axis=0).T # create 2D array of windows of size window_size\n",
    "  # print(f\"Window indexes:\\n {window_indexes[:3], window_indexes[-3:], window_indexes.shape}\")\n",
    "\n",
    "  # 3. Index on the target array (time series) with 2D array of multiple window steps\n",
    "  windowed_array = x[window_indexes]\n",
    "\n",
    "  # 4. Get the labelled windows\n",
    "  windows, labels = get_labelled_windows(windowed_array, horizon=horizon)\n",
    "\n",
    "  return windows, labels"
   ]
  },
  {
   "cell_type": "code",
   "execution_count": 28,
   "metadata": {
    "colab": {
     "base_uri": "https://localhost:8080/"
    },
    "id": "L2-t_-GwVg_t",
    "outputId": "ae05a9a6-4a9a-4864-ff81-a2a16d07ce69"
   },
   "outputs": [
    {
     "data": {
      "text/plain": [
       "(2780, 2780)"
      ]
     },
     "execution_count": 28,
     "metadata": {},
     "output_type": "execute_result"
    }
   ],
   "source": [
    "full_windows, full_labels = make_windows(prices, window_size=WINDOW_SIZE, horizon=HORIZON)\n",
    "len(full_windows), len(full_labels)"
   ]
  },
  {
   "cell_type": "code",
   "execution_count": 29,
   "metadata": {
    "colab": {
     "base_uri": "https://localhost:8080/"
    },
    "id": "Qal0K7FgVi7i",
    "outputId": "9daebe17-34eb-4734-a6bf-e04f21919acd"
   },
   "outputs": [
    {
     "name": "stdout",
     "output_type": "stream",
     "text": [
      "Window: [123.65499 125.455   108.58483 118.67466 121.33866 120.65533 121.795  ] -> Label: [123.033]\n",
      "Window: [125.455   108.58483 118.67466 121.33866 120.65533 121.795   123.033  ] -> Label: [124.049]\n",
      "Window: [108.58483 118.67466 121.33866 120.65533 121.795   123.033   124.049  ] -> Label: [125.96116]\n"
     ]
    }
   ],
   "source": [
    "# View the first 3 windows/labels\n",
    "for i in range(3):\n",
    "  print(f\"Window: {full_windows[i]} -> Label: {full_labels[i]}\")"
   ]
  },
  {
   "cell_type": "code",
   "execution_count": 30,
   "metadata": {
    "colab": {
     "base_uri": "https://localhost:8080/"
    },
    "id": "Xsh8z0c7Vk_a",
    "outputId": "4880db1d-440c-4ca3-b49e-5dc4474bd7ba"
   },
   "outputs": [
    {
     "name": "stdout",
     "output_type": "stream",
     "text": [
      "Window: [58788.20967893 58102.19142623 55715.54665129 56573.5554719\n",
      " 52147.82118698 49764.1320816  50032.69313676] -> Label: [47885.62525472]\n",
      "Window: [58102.19142623 55715.54665129 56573.5554719  52147.82118698\n",
      " 49764.1320816  50032.69313676 47885.62525472] -> Label: [45604.61575361]\n",
      "Window: [55715.54665129 56573.5554719  52147.82118698 49764.1320816\n",
      " 50032.69313676 47885.62525472 45604.61575361] -> Label: [43144.47129086]\n"
     ]
    }
   ],
   "source": [
    "# View the last 3 windows/labels\n",
    "for i in range(3):\n",
    "  print(f\"Window: {full_windows[i-3]} -> Label: {full_labels[i-3]}\")"
   ]
  },
  {
   "cell_type": "code",
   "execution_count": 31,
   "metadata": {
    "id": "MWNIV8z-Vmp0"
   },
   "outputs": [],
   "source": [
    "\n",
    "# Make the train/test splits\n",
    "def make_train_test_splits(windows, labels, test_split=0.2):\n",
    "  \"\"\"\n",
    "  Splits matching pairs of windows and labels into train and test splits.\n",
    "  \"\"\"\n",
    "  split_size = int(len(windows) * (1-test_split)) # this will default to 80% train/20% test\n",
    "  train_windows = windows[:split_size]\n",
    "  train_labels = labels[:split_size]\n",
    "  test_windows = windows[split_size:]\n",
    "  test_labels = labels[split_size:]\n",
    "  return train_windows, test_windows, train_labels, test_labels"
   ]
  },
  {
   "cell_type": "code",
   "execution_count": 32,
   "metadata": {
    "colab": {
     "base_uri": "https://localhost:8080/"
    },
    "id": "3IwOTUrdVpmD",
    "outputId": "657b50a4-57fe-4fe0-e98b-b703b50670c1"
   },
   "outputs": [
    {
     "data": {
      "text/plain": [
       "(2224, 556, 2224, 556)"
      ]
     },
     "execution_count": 32,
     "metadata": {},
     "output_type": "execute_result"
    }
   ],
   "source": [
    "\n",
    "train_windows, test_windows, train_labels, test_labels = make_train_test_splits(full_windows, full_labels)\n",
    "len(train_windows), len(test_windows), len(train_labels), len(test_labels)"
   ]
  },
  {
   "cell_type": "code",
   "execution_count": 33,
   "metadata": {
    "colab": {
     "base_uri": "https://localhost:8080/"
    },
    "id": "_5luTeioVrq7",
    "outputId": "6363ce6b-91bb-478e-a6e7-816154372e16"
   },
   "outputs": [
    {
     "data": {
      "text/plain": [
       "(array([[123.65499, 125.455  , 108.58483, 118.67466, 121.33866, 120.65533,\n",
       "         121.795  ],\n",
       "        [125.455  , 108.58483, 118.67466, 121.33866, 120.65533, 121.795  ,\n",
       "         123.033  ],\n",
       "        [108.58483, 118.67466, 121.33866, 120.65533, 121.795  , 123.033  ,\n",
       "         124.049  ],\n",
       "        [118.67466, 121.33866, 120.65533, 121.795  , 123.033  , 124.049  ,\n",
       "         125.96116],\n",
       "        [121.33866, 120.65533, 121.795  , 123.033  , 124.049  , 125.96116,\n",
       "         125.27966]]), array([[123.033  ],\n",
       "        [124.049  ],\n",
       "        [125.96116],\n",
       "        [125.27966],\n",
       "        [125.9275 ]]))"
      ]
     },
     "execution_count": 33,
     "metadata": {},
     "output_type": "execute_result"
    }
   ],
   "source": [
    "train_windows[:5], train_labels[:5]"
   ]
  },
  {
   "cell_type": "code",
   "execution_count": 34,
   "metadata": {
    "colab": {
     "base_uri": "https://localhost:8080/"
    },
    "id": "ZcxKNT9CVtmD",
    "outputId": "318188fe-4eee-481c-c477-be2c17f51bd8"
   },
   "outputs": [
    {
     "data": {
      "text/plain": [
       "True"
      ]
     },
     "execution_count": 34,
     "metadata": {},
     "output_type": "execute_result"
    }
   ],
   "source": [
    "# Check to see if same (accounting for horizon and window size)\n",
    "np.array_equal(np.squeeze(train_labels[:-HORIZON-1]), y_train[WINDOW_SIZE:])"
   ]
  },
  {
   "cell_type": "code",
   "execution_count": 35,
   "metadata": {
    "id": "Pej29-6_VvuK"
   },
   "outputs": [],
   "source": [
    "\n",
    "import os\n",
    "\n",
    "# Create a function to implement a ModelCheckpoint callback with a specific filename \n",
    "def create_model_checkpoint(model_name, save_path=\"model_experiments\"):\n",
    "  return tf.keras.callbacks.ModelCheckpoint(filepath=os.path.join(save_path, model_name), # create filepath to save model\n",
    "                                            verbose=0, # only output a limited amount of text\n",
    "                                            save_best_only=True) # save only the best model to file"
   ]
  },
  {
   "cell_type": "markdown",
   "metadata": {
    "id": "bLmr3HEEV0tj"
   },
   "source": [
    "\n",
    "**Model 1: Dense model (window = 7, horizon = 1)**"
   ]
  },
  {
   "cell_type": "code",
   "execution_count": 36,
   "metadata": {
    "colab": {
     "base_uri": "https://localhost:8080/"
    },
    "id": "ND5cQyVpVyRX",
    "outputId": "5b4b9302-fa07-49ab-f769-f559acf7c2f8"
   },
   "outputs": [
    {
     "name": "stdout",
     "output_type": "stream",
     "text": [
      "Epoch 1/100\n",
      "17/18 [===========================>..] - ETA: 0s - loss: 788.6984 - mae: 788.6984   INFO:tensorflow:Assets written to: model_experiments/model_1_dense/assets\n",
      "18/18 [==============================] - 4s 56ms/step - loss: 780.3455 - mae: 780.3455 - val_loss: 2279.6526 - val_mae: 2279.6526\n",
      "Epoch 2/100\n",
      "16/18 [=========================>....] - ETA: 0s - loss: 257.9055 - mae: 257.9055INFO:tensorflow:Assets written to: model_experiments/model_1_dense/assets\n",
      "18/18 [==============================] - 1s 37ms/step - loss: 247.6756 - mae: 247.6756 - val_loss: 1005.9991 - val_mae: 1005.9991\n",
      "Epoch 3/100\n",
      "17/18 [===========================>..] - ETA: 0s - loss: 190.2321 - mae: 190.2321INFO:tensorflow:Assets written to: model_experiments/model_1_dense/assets\n",
      "18/18 [==============================] - 1s 36ms/step - loss: 188.4116 - mae: 188.4116 - val_loss: 923.2862 - val_mae: 923.2862\n",
      "Epoch 4/100\n",
      "18/18 [==============================] - ETA: 0s - loss: 169.4340 - mae: 169.4340INFO:tensorflow:Assets written to: model_experiments/model_1_dense/assets\n",
      "18/18 [==============================] - 1s 38ms/step - loss: 169.4340 - mae: 169.4340 - val_loss: 900.5872 - val_mae: 900.5872\n",
      "Epoch 5/100\n",
      "18/18 [==============================] - ETA: 0s - loss: 165.0895 - mae: 165.0895INFO:tensorflow:Assets written to: model_experiments/model_1_dense/assets\n",
      "18/18 [==============================] - 1s 37ms/step - loss: 165.0895 - mae: 165.0895 - val_loss: 895.2238 - val_mae: 895.2238\n",
      "Epoch 6/100\n",
      "18/18 [==============================] - ETA: 0s - loss: 158.5210 - mae: 158.5210INFO:tensorflow:Assets written to: model_experiments/model_1_dense/assets\n",
      "18/18 [==============================] - 1s 36ms/step - loss: 158.5210 - mae: 158.5210 - val_loss: 855.1982 - val_mae: 855.1982\n",
      "Epoch 7/100\n",
      "16/18 [=========================>....] - ETA: 0s - loss: 156.2905 - mae: 156.2905INFO:tensorflow:Assets written to: model_experiments/model_1_dense/assets\n",
      "18/18 [==============================] - 1s 37ms/step - loss: 151.3566 - mae: 151.3566 - val_loss: 840.9168 - val_mae: 840.9168\n",
      "Epoch 8/100\n",
      "15/18 [========================>.....] - ETA: 0s - loss: 143.4757 - mae: 143.4757INFO:tensorflow:Assets written to: model_experiments/model_1_dense/assets\n",
      "18/18 [==============================] - 1s 38ms/step - loss: 145.2560 - mae: 145.2560 - val_loss: 803.5956 - val_mae: 803.5956\n",
      "Epoch 9/100\n",
      "16/18 [=========================>....] - ETA: 0s - loss: 147.4530 - mae: 147.4530INFO:tensorflow:Assets written to: model_experiments/model_1_dense/assets\n",
      "18/18 [==============================] - 1s 37ms/step - loss: 144.3546 - mae: 144.3546 - val_loss: 799.5455 - val_mae: 799.5455\n",
      "Epoch 10/100\n",
      "18/18 [==============================] - ETA: 0s - loss: 141.2943 - mae: 141.2943INFO:tensorflow:Assets written to: model_experiments/model_1_dense/assets\n",
      "18/18 [==============================] - 1s 36ms/step - loss: 141.2943 - mae: 141.2943 - val_loss: 763.5010 - val_mae: 763.5010\n",
      "Epoch 11/100\n",
      "18/18 [==============================] - 0s 6ms/step - loss: 135.6595 - mae: 135.6595 - val_loss: 771.3357 - val_mae: 771.3357\n",
      "Epoch 12/100\n",
      "18/18 [==============================] - 0s 5ms/step - loss: 134.1700 - mae: 134.1700 - val_loss: 782.8079 - val_mae: 782.8079\n",
      "Epoch 13/100\n",
      "18/18 [==============================] - 0s 5ms/step - loss: 134.6015 - mae: 134.6015 - val_loss: 784.4449 - val_mae: 784.4449\n",
      "Epoch 14/100\n",
      "18/18 [==============================] - ETA: 0s - loss: 130.6127 - mae: 130.6127INFO:tensorflow:Assets written to: model_experiments/model_1_dense/assets\n",
      "18/18 [==============================] - 1s 38ms/step - loss: 130.6127 - mae: 130.6127 - val_loss: 751.3234 - val_mae: 751.3234\n",
      "Epoch 15/100\n",
      "17/18 [===========================>..] - ETA: 0s - loss: 128.8021 - mae: 128.8021INFO:tensorflow:Assets written to: model_experiments/model_1_dense/assets\n",
      "18/18 [==============================] - 1s 38ms/step - loss: 128.8347 - mae: 128.8347 - val_loss: 696.5757 - val_mae: 696.5757\n",
      "Epoch 16/100\n",
      "18/18 [==============================] - 0s 5ms/step - loss: 124.7739 - mae: 124.7739 - val_loss: 702.4698 - val_mae: 702.4698\n",
      "Epoch 17/100\n",
      "18/18 [==============================] - 0s 6ms/step - loss: 123.4474 - mae: 123.4474 - val_loss: 704.9241 - val_mae: 704.9241\n",
      "Epoch 18/100\n",
      "18/18 [==============================] - ETA: 0s - loss: 122.2105 - mae: 122.2105INFO:tensorflow:Assets written to: model_experiments/model_1_dense/assets\n",
      "18/18 [==============================] - 1s 38ms/step - loss: 122.2105 - mae: 122.2105 - val_loss: 667.9725 - val_mae: 667.9725\n",
      "Epoch 19/100\n",
      "18/18 [==============================] - 0s 5ms/step - loss: 121.7263 - mae: 121.7263 - val_loss: 718.8797 - val_mae: 718.8797\n",
      "Epoch 20/100\n",
      "18/18 [==============================] - ETA: 0s - loss: 119.2420 - mae: 119.2420INFO:tensorflow:Assets written to: model_experiments/model_1_dense/assets\n",
      "18/18 [==============================] - 1s 47ms/step - loss: 119.2420 - mae: 119.2420 - val_loss: 657.0667 - val_mae: 657.0667\n",
      "Epoch 21/100\n",
      "16/18 [=========================>....] - ETA: 0s - loss: 120.7663 - mae: 120.7663INFO:tensorflow:Assets written to: model_experiments/model_1_dense/assets\n",
      "18/18 [==============================] - 1s 36ms/step - loss: 121.2275 - mae: 121.2275 - val_loss: 637.0330 - val_mae: 637.0330\n",
      "Epoch 22/100\n",
      "18/18 [==============================] - 0s 6ms/step - loss: 119.9544 - mae: 119.9544 - val_loss: 671.2490 - val_mae: 671.2490\n",
      "Epoch 23/100\n",
      "18/18 [==============================] - ETA: 0s - loss: 121.9248 - mae: 121.9248INFO:tensorflow:Assets written to: model_experiments/model_1_dense/assets\n",
      "18/18 [==============================] - 1s 38ms/step - loss: 121.9248 - mae: 121.9248 - val_loss: 633.3593 - val_mae: 633.3593\n",
      "Epoch 24/100\n",
      "16/18 [=========================>....] - ETA: 0s - loss: 117.3495 - mae: 117.3495INFO:tensorflow:Assets written to: model_experiments/model_1_dense/assets\n",
      "18/18 [==============================] - 1s 38ms/step - loss: 116.3666 - mae: 116.3666 - val_loss: 624.4852 - val_mae: 624.4852\n",
      "Epoch 25/100\n",
      "16/18 [=========================>....] - ETA: 0s - loss: 117.2713 - mae: 117.2713INFO:tensorflow:Assets written to: model_experiments/model_1_dense/assets\n",
      "18/18 [==============================] - 1s 38ms/step - loss: 114.6816 - mae: 114.6816 - val_loss: 619.7571 - val_mae: 619.7571\n",
      "Epoch 26/100\n",
      "17/18 [===========================>..] - ETA: 0s - loss: 115.9696 - mae: 115.9696INFO:tensorflow:Assets written to: model_experiments/model_1_dense/assets\n",
      "18/18 [==============================] - 1s 38ms/step - loss: 116.4455 - mae: 116.4455 - val_loss: 615.6364 - val_mae: 615.6364\n",
      "Epoch 27/100\n",
      "18/18 [==============================] - 0s 5ms/step - loss: 116.5868 - mae: 116.5868 - val_loss: 615.9631 - val_mae: 615.9631\n",
      "Epoch 28/100\n",
      "17/18 [===========================>..] - ETA: 0s - loss: 113.5246 - mae: 113.5246INFO:tensorflow:Assets written to: model_experiments/model_1_dense/assets\n",
      "18/18 [==============================] - 1s 38ms/step - loss: 113.4691 - mae: 113.4691 - val_loss: 608.0920 - val_mae: 608.0920\n",
      "Epoch 29/100\n",
      "18/18 [==============================] - 0s 6ms/step - loss: 113.7598 - mae: 113.7598 - val_loss: 621.9306 - val_mae: 621.9306\n",
      "Epoch 30/100\n",
      "18/18 [==============================] - ETA: 0s - loss: 116.8613 - mae: 116.8613INFO:tensorflow:Assets written to: model_experiments/model_1_dense/assets\n",
      "18/18 [==============================] - 1s 36ms/step - loss: 116.8613 - mae: 116.8613 - val_loss: 604.4056 - val_mae: 604.4056\n",
      "Epoch 31/100\n",
      "18/18 [==============================] - 0s 6ms/step - loss: 111.9375 - mae: 111.9375 - val_loss: 609.3882 - val_mae: 609.3882\n",
      "Epoch 32/100\n",
      "18/18 [==============================] - ETA: 0s - loss: 112.4175 - mae: 112.4175INFO:tensorflow:Assets written to: model_experiments/model_1_dense/assets\n",
      "18/18 [==============================] - 1s 36ms/step - loss: 112.4175 - mae: 112.4175 - val_loss: 603.0588 - val_mae: 603.0588\n",
      "Epoch 33/100\n",
      "18/18 [==============================] - 0s 5ms/step - loss: 112.6697 - mae: 112.6697 - val_loss: 645.6975 - val_mae: 645.6975\n",
      "Epoch 34/100\n",
      "18/18 [==============================] - 0s 5ms/step - loss: 111.9867 - mae: 111.9867 - val_loss: 604.7632 - val_mae: 604.7632\n",
      "Epoch 35/100\n",
      "18/18 [==============================] - ETA: 0s - loss: 110.9451 - mae: 110.9451INFO:tensorflow:Assets written to: model_experiments/model_1_dense/assets\n",
      "18/18 [==============================] - 1s 38ms/step - loss: 110.9451 - mae: 110.9451 - val_loss: 593.4648 - val_mae: 593.4648\n",
      "Epoch 36/100\n",
      "18/18 [==============================] - 0s 5ms/step - loss: 114.4816 - mae: 114.4816 - val_loss: 608.0073 - val_mae: 608.0073\n",
      "Epoch 37/100\n",
      "18/18 [==============================] - 0s 6ms/step - loss: 110.2017 - mae: 110.2017 - val_loss: 597.2309 - val_mae: 597.2309\n",
      "Epoch 38/100\n",
      "18/18 [==============================] - 0s 5ms/step - loss: 112.2372 - mae: 112.2372 - val_loss: 637.9797 - val_mae: 637.9797\n",
      "Epoch 39/100\n",
      "18/18 [==============================] - ETA: 0s - loss: 115.1289 - mae: 115.1289INFO:tensorflow:Assets written to: model_experiments/model_1_dense/assets\n",
      "18/18 [==============================] - 1s 38ms/step - loss: 115.1289 - mae: 115.1289 - val_loss: 587.4679 - val_mae: 587.4679\n",
      "Epoch 40/100\n",
      "18/18 [==============================] - 0s 5ms/step - loss: 110.0854 - mae: 110.0854 - val_loss: 592.7117 - val_mae: 592.7117\n",
      "Epoch 41/100\n",
      "18/18 [==============================] - 0s 5ms/step - loss: 110.6343 - mae: 110.6343 - val_loss: 593.8997 - val_mae: 593.8997\n",
      "Epoch 42/100\n",
      "18/18 [==============================] - 0s 5ms/step - loss: 113.5762 - mae: 113.5762 - val_loss: 636.3674 - val_mae: 636.3674\n",
      "Epoch 43/100\n",
      "18/18 [==============================] - 0s 5ms/step - loss: 116.2286 - mae: 116.2286 - val_loss: 662.9264 - val_mae: 662.9264\n",
      "Epoch 44/100\n",
      "18/18 [==============================] - 0s 5ms/step - loss: 120.0192 - mae: 120.0192 - val_loss: 635.6360 - val_mae: 635.6360\n",
      "Epoch 45/100\n",
      "18/18 [==============================] - 0s 6ms/step - loss: 110.9675 - mae: 110.9675 - val_loss: 601.9926 - val_mae: 601.9926\n",
      "Epoch 46/100\n",
      "18/18 [==============================] - 0s 5ms/step - loss: 111.6012 - mae: 111.6012 - val_loss: 593.3531 - val_mae: 593.3531\n",
      "Epoch 47/100\n",
      "18/18 [==============================] - 0s 5ms/step - loss: 109.6161 - mae: 109.6161 - val_loss: 637.0014 - val_mae: 637.0014\n",
      "Epoch 48/100\n",
      "18/18 [==============================] - 0s 5ms/step - loss: 109.1368 - mae: 109.1368 - val_loss: 598.4199 - val_mae: 598.4199\n",
      "Epoch 49/100\n",
      " 1/18 [>.............................] - ETA: 0s - loss: 159.5531 - mae: 159.5531INFO:tensorflow:Assets written to: model_experiments/model_1_dense/assets\n",
      "18/18 [==============================] - 1s 35ms/step - loss: 112.4355 - mae: 112.4355 - val_loss: 579.7040 - val_mae: 579.7040\n",
      "Epoch 50/100\n",
      "18/18 [==============================] - 0s 5ms/step - loss: 110.2108 - mae: 110.2108 - val_loss: 639.2326 - val_mae: 639.2326\n",
      "Epoch 51/100\n",
      "18/18 [==============================] - 0s 6ms/step - loss: 111.0958 - mae: 111.0958 - val_loss: 597.3575 - val_mae: 597.3575\n",
      "Epoch 52/100\n",
      "18/18 [==============================] - 0s 6ms/step - loss: 110.7351 - mae: 110.7351 - val_loss: 580.7227 - val_mae: 580.7227\n",
      "Epoch 53/100\n",
      "18/18 [==============================] - 0s 5ms/step - loss: 111.1785 - mae: 111.1785 - val_loss: 648.3588 - val_mae: 648.3588\n",
      "Epoch 54/100\n",
      "18/18 [==============================] - 0s 5ms/step - loss: 114.0832 - mae: 114.0832 - val_loss: 593.2007 - val_mae: 593.2007\n",
      "Epoch 55/100\n",
      "17/18 [===========================>..] - ETA: 0s - loss: 112.0306 - mae: 112.0306INFO:tensorflow:Assets written to: model_experiments/model_1_dense/assets\n",
      "18/18 [==============================] - 1s 39ms/step - loss: 110.4910 - mae: 110.4910 - val_loss: 579.5065 - val_mae: 579.5065\n",
      "Epoch 56/100\n",
      "18/18 [==============================] - 0s 5ms/step - loss: 108.0489 - mae: 108.0489 - val_loss: 807.3851 - val_mae: 807.3851\n",
      "Epoch 57/100\n",
      "18/18 [==============================] - 0s 5ms/step - loss: 125.0614 - mae: 125.0614 - val_loss: 674.1654 - val_mae: 674.1654\n",
      "Epoch 58/100\n",
      "18/18 [==============================] - 0s 5ms/step - loss: 115.4340 - mae: 115.4340 - val_loss: 582.2698 - val_mae: 582.2698\n",
      "Epoch 59/100\n",
      "18/18 [==============================] - 0s 7ms/step - loss: 110.0881 - mae: 110.0881 - val_loss: 606.7637 - val_mae: 606.7637\n",
      "Epoch 60/100\n",
      "18/18 [==============================] - 0s 5ms/step - loss: 108.7156 - mae: 108.7156 - val_loss: 602.3102 - val_mae: 602.3102\n",
      "Epoch 61/100\n",
      "18/18 [==============================] - ETA: 0s - loss: 108.1525 - mae: 108.1525INFO:tensorflow:Assets written to: model_experiments/model_1_dense/assets\n",
      "18/18 [==============================] - 1s 37ms/step - loss: 108.1525 - mae: 108.1525 - val_loss: 573.9990 - val_mae: 573.9990\n",
      "Epoch 62/100\n",
      "18/18 [==============================] - 0s 6ms/step - loss: 107.3727 - mae: 107.3727 - val_loss: 581.7012 - val_mae: 581.7012\n",
      "Epoch 63/100\n",
      "18/18 [==============================] - 0s 5ms/step - loss: 110.7667 - mae: 110.7667 - val_loss: 637.5252 - val_mae: 637.5252\n",
      "Epoch 64/100\n",
      "18/18 [==============================] - 0s 5ms/step - loss: 110.1539 - mae: 110.1539 - val_loss: 586.6601 - val_mae: 586.6601\n",
      "Epoch 65/100\n",
      "17/18 [===========================>..] - ETA: 0s - loss: 109.1682 - mae: 109.1682INFO:tensorflow:Assets written to: model_experiments/model_1_dense/assets\n",
      "18/18 [==============================] - 1s 37ms/step - loss: 108.2325 - mae: 108.2325 - val_loss: 573.5620 - val_mae: 573.5620\n",
      "Epoch 66/100\n",
      "17/18 [===========================>..] - ETA: 0s - loss: 108.8999 - mae: 108.8999INFO:tensorflow:Assets written to: model_experiments/model_1_dense/assets\n",
      "18/18 [==============================] - 1s 36ms/step - loss: 108.6825 - mae: 108.6825 - val_loss: 572.2206 - val_mae: 572.2206\n",
      "Epoch 67/100\n",
      "18/18 [==============================] - 0s 6ms/step - loss: 106.6371 - mae: 106.6371 - val_loss: 646.6349 - val_mae: 646.6349\n",
      "Epoch 68/100\n",
      "18/18 [==============================] - 0s 6ms/step - loss: 114.1603 - mae: 114.1603 - val_loss: 681.8561 - val_mae: 681.8561\n",
      "Epoch 69/100\n",
      "18/18 [==============================] - 0s 5ms/step - loss: 124.5514 - mae: 124.5514 - val_loss: 655.9885 - val_mae: 655.9885\n",
      "Epoch 70/100\n",
      "18/18 [==============================] - 0s 5ms/step - loss: 125.0235 - mae: 125.0235 - val_loss: 601.0032 - val_mae: 601.0032\n",
      "Epoch 71/100\n",
      "18/18 [==============================] - 0s 5ms/step - loss: 110.3652 - mae: 110.3652 - val_loss: 595.3962 - val_mae: 595.3962\n",
      "Epoch 72/100\n",
      "18/18 [==============================] - 0s 6ms/step - loss: 107.9285 - mae: 107.9285 - val_loss: 573.7085 - val_mae: 573.7085\n",
      "Epoch 73/100\n",
      "18/18 [==============================] - 0s 6ms/step - loss: 109.5085 - mae: 109.5085 - val_loss: 580.4180 - val_mae: 580.4180\n",
      "Epoch 74/100\n",
      "18/18 [==============================] - 0s 6ms/step - loss: 108.7380 - mae: 108.7380 - val_loss: 576.1211 - val_mae: 576.1211\n",
      "Epoch 75/100\n",
      "18/18 [==============================] - 0s 5ms/step - loss: 107.9404 - mae: 107.9404 - val_loss: 591.1477 - val_mae: 591.1477\n",
      "Epoch 76/100\n",
      "18/18 [==============================] - 0s 5ms/step - loss: 109.4232 - mae: 109.4232 - val_loss: 597.8605 - val_mae: 597.8605\n",
      "Epoch 77/100\n",
      "17/18 [===========================>..] - ETA: 0s - loss: 108.3266 - mae: 108.3266INFO:tensorflow:Assets written to: model_experiments/model_1_dense/assets\n",
      "18/18 [==============================] - 1s 48ms/step - loss: 107.5879 - mae: 107.5879 - val_loss: 571.9299 - val_mae: 571.9299\n",
      "Epoch 78/100\n",
      "18/18 [==============================] - 0s 6ms/step - loss: 108.1598 - mae: 108.1598 - val_loss: 575.2383 - val_mae: 575.2383\n",
      "Epoch 79/100\n",
      "18/18 [==============================] - 0s 5ms/step - loss: 107.9175 - mae: 107.9175 - val_loss: 617.3071 - val_mae: 617.3071\n",
      "Epoch 80/100\n",
      "18/18 [==============================] - 0s 6ms/step - loss: 108.9510 - mae: 108.9510 - val_loss: 583.4847 - val_mae: 583.4847\n",
      "Epoch 81/100\n",
      "16/18 [=========================>....] - ETA: 0s - loss: 105.9904 - mae: 105.9904INFO:tensorflow:Assets written to: model_experiments/model_1_dense/assets\n",
      "18/18 [==============================] - 1s 37ms/step - loss: 106.0505 - mae: 106.0505 - val_loss: 570.0802 - val_mae: 570.0802\n",
      "Epoch 82/100\n",
      "18/18 [==============================] - 0s 6ms/step - loss: 115.6827 - mae: 115.6827 - val_loss: 575.7382 - val_mae: 575.7382\n",
      "Epoch 83/100\n",
      "18/18 [==============================] - 0s 6ms/step - loss: 110.9379 - mae: 110.9379 - val_loss: 659.6570 - val_mae: 659.6570\n",
      "Epoch 84/100\n",
      "18/18 [==============================] - 0s 6ms/step - loss: 111.4836 - mae: 111.4836 - val_loss: 570.1959 - val_mae: 570.1959\n",
      "Epoch 85/100\n",
      "18/18 [==============================] - 0s 6ms/step - loss: 107.5948 - mae: 107.5948 - val_loss: 601.5945 - val_mae: 601.5945\n",
      "Epoch 86/100\n",
      "18/18 [==============================] - 0s 6ms/step - loss: 108.9426 - mae: 108.9426 - val_loss: 592.8107 - val_mae: 592.8107\n",
      "Epoch 87/100\n",
      "18/18 [==============================] - 0s 5ms/step - loss: 105.7717 - mae: 105.7717 - val_loss: 603.6169 - val_mae: 603.6169\n",
      "Epoch 88/100\n",
      "18/18 [==============================] - ETA: 0s - loss: 107.9217 - mae: 107.9217INFO:tensorflow:Assets written to: model_experiments/model_1_dense/assets\n",
      "18/18 [==============================] - 1s 38ms/step - loss: 107.9217 - mae: 107.9217 - val_loss: 569.0500 - val_mae: 569.0500\n",
      "Epoch 89/100\n",
      "17/18 [===========================>..] - ETA: 0s - loss: 104.5913 - mae: 104.5913INFO:tensorflow:Assets written to: model_experiments/model_1_dense/assets\n",
      "18/18 [==============================] - 1s 37ms/step - loss: 106.0344 - mae: 106.0344 - val_loss: 568.9512 - val_mae: 568.9512\n",
      "Epoch 90/100\n",
      "18/18 [==============================] - 0s 5ms/step - loss: 105.4977 - mae: 105.4977 - val_loss: 581.7681 - val_mae: 581.7681\n",
      "Epoch 91/100\n",
      "18/18 [==============================] - 0s 6ms/step - loss: 108.8468 - mae: 108.8468 - val_loss: 573.6023 - val_mae: 573.6023\n",
      "Epoch 92/100\n",
      "18/18 [==============================] - 0s 6ms/step - loss: 110.8884 - mae: 110.8884 - val_loss: 576.8247 - val_mae: 576.8247\n",
      "Epoch 93/100\n",
      "18/18 [==============================] - 0s 6ms/step - loss: 113.8781 - mae: 113.8781 - val_loss: 608.3018 - val_mae: 608.3018\n",
      "Epoch 94/100\n",
      "18/18 [==============================] - 0s 5ms/step - loss: 110.5763 - mae: 110.5763 - val_loss: 601.6047 - val_mae: 601.6047\n",
      "Epoch 95/100\n",
      "18/18 [==============================] - 0s 6ms/step - loss: 106.5906 - mae: 106.5906 - val_loss: 570.3652 - val_mae: 570.3652\n",
      "Epoch 96/100\n",
      "18/18 [==============================] - 0s 5ms/step - loss: 116.9515 - mae: 116.9515 - val_loss: 615.2581 - val_mae: 615.2581\n",
      "Epoch 97/100\n",
      "18/18 [==============================] - 0s 5ms/step - loss: 108.0739 - mae: 108.0739 - val_loss: 580.3073 - val_mae: 580.3073\n",
      "Epoch 98/100\n",
      "18/18 [==============================] - 0s 5ms/step - loss: 108.7102 - mae: 108.7102 - val_loss: 586.6512 - val_mae: 586.6512\n",
      "Epoch 99/100\n",
      "18/18 [==============================] - 0s 6ms/step - loss: 109.0488 - mae: 109.0488 - val_loss: 570.0629 - val_mae: 570.0629\n",
      "Epoch 100/100\n",
      "18/18 [==============================] - 0s 5ms/step - loss: 106.1845 - mae: 106.1845 - val_loss: 585.9763 - val_mae: 585.9763\n"
     ]
    },
    {
     "data": {
      "text/plain": [
       "<keras.callbacks.History at 0x7fb0703ed750>"
      ]
     },
     "execution_count": 36,
     "metadata": {},
     "output_type": "execute_result"
    }
   ],
   "source": [
    "import tensorflow as tf\n",
    "from tensorflow.keras import layers\n",
    "\n",
    "# Set random seed for as reproducible results as possible\n",
    "tf.random.set_seed(42)\n",
    "\n",
    "# Construct model\n",
    "model_1 = tf.keras.Sequential([\n",
    "  layers.Dense(128, activation=\"relu\"),\n",
    "  layers.Dense(HORIZON, activation=\"linear\") # linear activation is the same as having no activation                        \n",
    "], name=\"model_1_dense\") # give the model a name so we can save it\n",
    "\n",
    "# Compile model\n",
    "model_1.compile(loss=\"mae\",\n",
    "                optimizer=tf.keras.optimizers.Adam(),\n",
    "                metrics=[\"mae\"]) # we don't necessarily need this when the loss function is already MAE\n",
    "\n",
    "# Fit model\n",
    "model_1.fit(x=train_windows, # train windows of 7 timesteps of Bitcoin prices\n",
    "            y=train_labels, # horizon value of 1 (using the previous 7 timesteps to predict next day)\n",
    "            epochs=100,\n",
    "            verbose=1,\n",
    "            batch_size=128,\n",
    "            validation_data=(test_windows, test_labels),\n",
    "            callbacks=[create_model_checkpoint(model_name=model_1.name)]) # create ModelCheckpoint callback to save best model"
   ]
  },
  {
   "cell_type": "code",
   "execution_count": 37,
   "metadata": {
    "colab": {
     "base_uri": "https://localhost:8080/"
    },
    "id": "5JvN00NJV50u",
    "outputId": "7abd9e0e-2434-4b41-c3b8-db53e5f18e77"
   },
   "outputs": [
    {
     "name": "stdout",
     "output_type": "stream",
     "text": [
      "18/18 [==============================] - 0s 2ms/step - loss: 585.9762 - mae: 585.9762\n"
     ]
    },
    {
     "data": {
      "text/plain": [
       "[585.9761962890625, 585.9761962890625]"
      ]
     },
     "execution_count": 37,
     "metadata": {},
     "output_type": "execute_result"
    }
   ],
   "source": [
    "\n",
    "# Evaluate model on test data\n",
    "model_1.evaluate(test_windows, test_labels)"
   ]
  },
  {
   "cell_type": "code",
   "execution_count": 38,
   "metadata": {
    "colab": {
     "base_uri": "https://localhost:8080/"
    },
    "id": "7hL4LXeeWCxN",
    "outputId": "917c6494-5512-4540-a8de-1c0b5bb93520"
   },
   "outputs": [
    {
     "name": "stdout",
     "output_type": "stream",
     "text": [
      "18/18 [==============================] - 0s 3ms/step - loss: 568.9512 - mae: 568.9512\n"
     ]
    },
    {
     "data": {
      "text/plain": [
       "[568.951171875, 568.951171875]"
      ]
     },
     "execution_count": 38,
     "metadata": {},
     "output_type": "execute_result"
    }
   ],
   "source": [
    "\n",
    "# Load in saved best performing model_1 and evaluate on test data\n",
    "model_1 = tf.keras.models.load_model(\"model_experiments/model_1_dense\")\n",
    "model_1.evaluate(test_windows, test_labels)"
   ]
  },
  {
   "cell_type": "markdown",
   "metadata": {
    "id": "KbrreKEJWHsW"
   },
   "source": [
    "\n",
    "Making forecasts with a model (on the test dataset)"
   ]
  },
  {
   "cell_type": "code",
   "execution_count": 39,
   "metadata": {
    "id": "_p1CHdPdWEpd"
   },
   "outputs": [],
   "source": [
    "def make_preds(model, input_data):\n",
    "  \"\"\"\n",
    "  Uses model to make predictions on input_data.\n",
    "\n",
    "  Parameters\n",
    "  ----------\n",
    "  model: trained model \n",
    "  input_data: windowed input data (same kind of data model was trained on)\n",
    "\n",
    "  Returns model predictions on input_data.\n",
    "  \"\"\"\n",
    "  forecast = model.predict(input_data)\n",
    "  return tf.squeeze(forecast) # return 1D array of predictions"
   ]
  },
  {
   "cell_type": "code",
   "execution_count": 40,
   "metadata": {
    "colab": {
     "base_uri": "https://localhost:8080/"
    },
    "id": "LRcBVdwhWKfd",
    "outputId": "9c80a01b-df01-4085-cddc-79329ef8c895"
   },
   "outputs": [
    {
     "data": {
      "text/plain": [
       "(556, <tf.Tensor: shape=(10,), dtype=float32, numpy=\n",
       " array([8861.711, 8769.886, 9015.71 , 8795.517, 8723.809, 8730.11 ,\n",
       "        8691.95 , 8502.054, 8460.961, 8516.547], dtype=float32)>)"
      ]
     },
     "execution_count": 40,
     "metadata": {},
     "output_type": "execute_result"
    }
   ],
   "source": [
    "# Make predictions using model_1 on the test dataset and view the results\n",
    "model_1_preds = make_preds(model_1, test_windows)\n",
    "len(model_1_preds), model_1_preds[:10]"
   ]
  },
  {
   "cell_type": "code",
   "execution_count": 41,
   "metadata": {
    "colab": {
     "base_uri": "https://localhost:8080/"
    },
    "id": "w_0HmeixWMWd",
    "outputId": "072f9d13-1702-4c5f-851f-d717d3d6fafd"
   },
   "outputs": [
    {
     "data": {
      "text/plain": [
       "{'mae': 568.95123,\n",
       " 'mape': 2.5448983,\n",
       " 'mase': 0.9994897,\n",
       " 'mse': 1171744.0,\n",
       " 'rmse': 1082.4713}"
      ]
     },
     "execution_count": 41,
     "metadata": {},
     "output_type": "execute_result"
    }
   ],
   "source": [
    "# Evaluate preds\n",
    "model_1_results = evaluate_preds(y_true=tf.squeeze(test_labels), # reduce to right shape\n",
    "                                 y_pred=model_1_preds)\n",
    "model_1_results"
   ]
  },
  {
   "cell_type": "code",
   "execution_count": 42,
   "metadata": {
    "colab": {
     "base_uri": "https://localhost:8080/"
    },
    "id": "gOX2TXEOWO6p",
    "outputId": "400faaf6-de5d-4268-98c9-0d325f89b4ad"
   },
   "outputs": [
    {
     "data": {
      "text/plain": [
       "{'mae': 567.9802,\n",
       " 'mape': 2.516525,\n",
       " 'mase': 0.99957,\n",
       " 'mse': 1147547.0,\n",
       " 'rmse': 1071.2362}"
      ]
     },
     "execution_count": 42,
     "metadata": {},
     "output_type": "execute_result"
    }
   ],
   "source": [
    "naive_results"
   ]
  },
  {
   "cell_type": "markdown",
   "metadata": {
    "id": "0ufeEzzgWS5e"
   },
   "source": [
    "It looks like our naïve model beats our first deep model on nearly every metric.\n",
    "\n",
    "That goes to show the power of the naïve model and the reason for having a baseline for any machine learning project.\n",
    "\n",
    "And of course, no evaluation would be finished without visualizing the results.\n",
    "\n",
    "Let's use the plot_time_series() function to plot model_1_preds against the test data."
   ]
  },
  {
   "cell_type": "code",
   "execution_count": 43,
   "metadata": {
    "colab": {
     "base_uri": "https://localhost:8080/",
     "height": 442
    },
    "id": "_pOjx6XOWQid",
    "outputId": "461abd33-0ca7-4891-ad27-3f9cea506ad1"
   },
   "outputs": [
    {
     "data": {
      "image/png": "[encoded data removed]",
      "text/plain": [
       "<Figure size 720x504 with 1 Axes>"
      ]
     },
     "metadata": {
      "needs_background": "light"
     },
     "output_type": "display_data"
    }
   ],
   "source": [
    "offset = 300\n",
    "plt.figure(figsize=(10, 7))\n",
    "# Account for the test_window offset and index into test_labels to ensure correct plotting\n",
    "plot_time_series(timesteps=X_test[-len(test_windows):], values=test_labels[:, 0], start=offset, label=\"Test_data\")\n",
    "plot_time_series(timesteps=X_test[-len(test_windows):], values=model_1_preds, start=offset, format=\"-\", label=\"model_1_preds\")"
   ]
  },
  {
   "cell_type": "markdown",
   "metadata": {
    "id": "nPUOwYRFWYO9"
   },
   "source": [
    "What's wrong with these predictions?\n",
    "\n",
    "As mentioned before, they're on the test dataset. So they're not actual forecasts.\n",
    "\n",
    "With our current model setup, how do you think we'd make forecasts for the future?\n",
    "\n",
    "Have a think about it for now, we'll cover this later on."
   ]
  },
  {
   "cell_type": "markdown",
   "metadata": {
    "id": "hdGk1EcWWa3v"
   },
   "source": [
    "**Model 2: Dense (window = 30, horizon = 1)**"
   ]
  },
  {
   "cell_type": "code",
   "execution_count": 44,
   "metadata": {
    "id": "QWT8WiowWVcF"
   },
   "outputs": [],
   "source": [
    "HORIZON = 1 # predict one step at a time\n",
    "WINDOW_SIZE = 30 # use 30 timesteps in the past"
   ]
  },
  {
   "cell_type": "code",
   "execution_count": 45,
   "metadata": {
    "colab": {
     "base_uri": "https://localhost:8080/"
    },
    "id": "60px-wvRWeVg",
    "outputId": "4c4cdeec-02bb-4bbd-fbbe-5f2cc9c60bf8"
   },
   "outputs": [
    {
     "data": {
      "text/plain": [
       "(2757, 2757)"
      ]
     },
     "execution_count": 45,
     "metadata": {},
     "output_type": "execute_result"
    }
   ],
   "source": [
    "# Make windowed data with appropriate horizon and window sizes\n",
    "full_windows, full_labels = make_windows(prices, window_size=WINDOW_SIZE, horizon=HORIZON)\n",
    "len(full_windows), len(full_labels)"
   ]
  },
  {
   "cell_type": "code",
   "execution_count": 46,
   "metadata": {
    "colab": {
     "base_uri": "https://localhost:8080/"
    },
    "id": "vHB1Kb2nWf6_",
    "outputId": "6bb41d86-a1f6-4957-d64c-56aeebe9aec5"
   },
   "outputs": [
    {
     "data": {
      "text/plain": [
       "(2205, 552, 2205, 552)"
      ]
     },
     "execution_count": 46,
     "metadata": {},
     "output_type": "execute_result"
    }
   ],
   "source": [
    "# Make train and testing windows\n",
    "train_windows, test_windows, train_labels, test_labels = make_train_test_splits(windows=full_windows, labels=full_labels)\n",
    "len(train_windows), len(test_windows), len(train_labels), len(test_labels)"
   ]
  },
  {
   "cell_type": "code",
   "execution_count": 47,
   "metadata": {
    "colab": {
     "base_uri": "https://localhost:8080/"
    },
    "id": "htoEvVjRWhzH",
    "outputId": "05b381e9-97ff-4d65-b55c-380969301d1a"
   },
   "outputs": [
    {
     "name": "stdout",
     "output_type": "stream",
     "text": [
      "INFO:tensorflow:Assets written to: model_experiments/model_2_dense/assets\n",
      "INFO:tensorflow:Assets written to: model_experiments/model_2_dense/assets\n",
      "INFO:tensorflow:Assets written to: model_experiments/model_2_dense/assets\n",
      "INFO:tensorflow:Assets written to: model_experiments/model_2_dense/assets\n",
      "INFO:tensorflow:Assets written to: model_experiments/model_2_dense/assets\n",
      "INFO:tensorflow:Assets written to: model_experiments/model_2_dense/assets\n",
      "INFO:tensorflow:Assets written to: model_experiments/model_2_dense/assets\n",
      "INFO:tensorflow:Assets written to: model_experiments/model_2_dense/assets\n",
      "INFO:tensorflow:Assets written to: model_experiments/model_2_dense/assets\n",
      "INFO:tensorflow:Assets written to: model_experiments/model_2_dense/assets\n",
      "INFO:tensorflow:Assets written to: model_experiments/model_2_dense/assets\n",
      "INFO:tensorflow:Assets written to: model_experiments/model_2_dense/assets\n",
      "INFO:tensorflow:Assets written to: model_experiments/model_2_dense/assets\n",
      "INFO:tensorflow:Assets written to: model_experiments/model_2_dense/assets\n",
      "INFO:tensorflow:Assets written to: model_experiments/model_2_dense/assets\n",
      "INFO:tensorflow:Assets written to: model_experiments/model_2_dense/assets\n",
      "INFO:tensorflow:Assets written to: model_experiments/model_2_dense/assets\n",
      "INFO:tensorflow:Assets written to: model_experiments/model_2_dense/assets\n",
      "INFO:tensorflow:Assets written to: model_experiments/model_2_dense/assets\n",
      "INFO:tensorflow:Assets written to: model_experiments/model_2_dense/assets\n",
      "INFO:tensorflow:Assets written to: model_experiments/model_2_dense/assets\n",
      "INFO:tensorflow:Assets written to: model_experiments/model_2_dense/assets\n",
      "INFO:tensorflow:Assets written to: model_experiments/model_2_dense/assets\n",
      "INFO:tensorflow:Assets written to: model_experiments/model_2_dense/assets\n",
      "INFO:tensorflow:Assets written to: model_experiments/model_2_dense/assets\n",
      "INFO:tensorflow:Assets written to: model_experiments/model_2_dense/assets\n",
      "INFO:tensorflow:Assets written to: model_experiments/model_2_dense/assets\n"
     ]
    },
    {
     "data": {
      "text/plain": [
       "<keras.callbacks.History at 0x7faff60c7fd0>"
      ]
     },
     "execution_count": 47,
     "metadata": {},
     "output_type": "execute_result"
    }
   ],
   "source": [
    "tf.random.set_seed(42)\n",
    "\n",
    "# Create model (same model as model 1 but data input will be different)\n",
    "model_2 = tf.keras.Sequential([\n",
    "  layers.Dense(128, activation=\"relu\"),\n",
    "  layers.Dense(HORIZON) # need to predict horizon number of steps into the future\n",
    "], name=\"model_2_dense\")\n",
    "\n",
    "model_2.compile(loss=\"mae\",\n",
    "                optimizer=tf.keras.optimizers.Adam())\n",
    "\n",
    "model_2.fit(train_windows,\n",
    "            train_labels,\n",
    "            epochs=100,\n",
    "            batch_size=128,\n",
    "            verbose=0,\n",
    "            validation_data=(test_windows, test_labels),\n",
    "            callbacks=[create_model_checkpoint(model_name=model_2.name)])"
   ]
  },
  {
   "cell_type": "code",
   "execution_count": 48,
   "metadata": {
    "colab": {
     "base_uri": "https://localhost:8080/"
    },
    "id": "5hhOYXA-WlXn",
    "outputId": "6b7a4dd0-6bb0-4cfb-ba97-a3bf610d2769"
   },
   "outputs": [
    {
     "name": "stdout",
     "output_type": "stream",
     "text": [
      "18/18 [==============================] - 0s 2ms/step - loss: 608.9615\n"
     ]
    },
    {
     "data": {
      "text/plain": [
       "608.9614868164062"
      ]
     },
     "execution_count": 48,
     "metadata": {},
     "output_type": "execute_result"
    }
   ],
   "source": [
    "\n",
    "# Evaluate model 2 preds\n",
    "model_2.evaluate(test_windows, test_labels)"
   ]
  },
  {
   "cell_type": "code",
   "execution_count": 49,
   "metadata": {
    "colab": {
     "base_uri": "https://localhost:8080/"
    },
    "id": "Y0X4-_0JWy3T",
    "outputId": "9dd1a60b-ec10-466e-d97d-874fb7ba7ffe"
   },
   "outputs": [
    {
     "name": "stdout",
     "output_type": "stream",
     "text": [
      "18/18 [==============================] - 0s 2ms/step - loss: 608.9615\n"
     ]
    },
    {
     "data": {
      "text/plain": [
       "608.9614868164062"
      ]
     },
     "execution_count": 49,
     "metadata": {},
     "output_type": "execute_result"
    }
   ],
   "source": [
    "# Load in best performing model\n",
    "model_2 = tf.keras.models.load_model(\"model_experiments/model_2_dense/\")\n",
    "model_2.evaluate(test_windows, test_labels)"
   ]
  },
  {
   "cell_type": "code",
   "execution_count": 50,
   "metadata": {
    "id": "v8HpfpBsW06R"
   },
   "outputs": [],
   "source": [
    "\n",
    "# Get forecast predictions\n",
    "model_2_preds = make_preds(model_2,\n",
    "                           input_data=test_windows)"
   ]
  },
  {
   "cell_type": "code",
   "execution_count": 51,
   "metadata": {
    "colab": {
     "base_uri": "https://localhost:8080/"
    },
    "id": "iTxHRFcvW2oJ",
    "outputId": "109e3d6b-ab3a-4efd-db42-85a4f67cc07d"
   },
   "outputs": [
    {
     "data": {
      "text/plain": [
       "{'mae': 608.9615,\n",
       " 'mape': 2.7693388,\n",
       " 'mase': 1.0644706,\n",
       " 'mse': 1281438.9,\n",
       " 'rmse': 1132.0066}"
      ]
     },
     "execution_count": 51,
     "metadata": {},
     "output_type": "execute_result"
    }
   ],
   "source": [
    "# Evaluate results for model 2 predictions\n",
    "model_2_results = evaluate_preds(y_true=tf.squeeze(test_labels), # remove 1 dimension of test labels\n",
    "                                 y_pred=model_2_preds)\n",
    "model_2_results"
   ]
  },
  {
   "cell_type": "code",
   "execution_count": 52,
   "metadata": {
    "colab": {
     "base_uri": "https://localhost:8080/",
     "height": 442
    },
    "id": "spYj59BIW4mh",
    "outputId": "f718f55a-9e18-41a5-9bdb-04278ae15aec"
   },
   "outputs": [
    {
     "data": {
      "image/png": "[encoded data removed]",
      "text/plain": [
       "<Figure size 720x504 with 1 Axes>"
      ]
     },
     "metadata": {
      "needs_background": "light"
     },
     "output_type": "display_data"
    }
   ],
   "source": [
    "\n",
    "offset = 300\n",
    "plt.figure(figsize=(10, 7))\n",
    "# Account for the test_window offset\n",
    "plot_time_series(timesteps=X_test[-len(test_windows):], values=test_labels[:, 0], start=offset, label=\"test_data\")\n",
    "plot_time_series(timesteps=X_test[-len(test_windows):], values=model_2_preds, start=offset, format=\"-\", label=\"model_2_preds\")"
   ]
  },
  {
   "cell_type": "markdown",
   "metadata": {
    "id": "LhmaRDPgW89r"
   },
   "source": [
    "\n",
    "**Model 3: Dense (window = 30, horizon = 7)**"
   ]
  },
  {
   "cell_type": "code",
   "execution_count": 53,
   "metadata": {
    "colab": {
     "base_uri": "https://localhost:8080/"
    },
    "id": "24b0W6qpW6v6",
    "outputId": "b4027bc7-cb60-4c22-c1d1-7f8fb274cf4b"
   },
   "outputs": [
    {
     "data": {
      "text/plain": [
       "(2751, 2751)"
      ]
     },
     "execution_count": 53,
     "metadata": {},
     "output_type": "execute_result"
    }
   ],
   "source": [
    "HORIZON = 7\n",
    "WINDOW_SIZE = 30\n",
    "\n",
    "full_windows, full_labels = make_windows(prices, window_size=WINDOW_SIZE, horizon=HORIZON)\n",
    "len(full_windows), len(full_labels)"
   ]
  },
  {
   "cell_type": "code",
   "execution_count": 54,
   "metadata": {
    "colab": {
     "base_uri": "https://localhost:8080/"
    },
    "id": "EknGY1bLXA9a",
    "outputId": "cc843b86-cb81-4744-d024-576388dde596"
   },
   "outputs": [
    {
     "data": {
      "text/plain": [
       "(2200, 551, 2200, 551)"
      ]
     },
     "execution_count": 54,
     "metadata": {},
     "output_type": "execute_result"
    }
   ],
   "source": [
    "\n",
    "train_windows, test_windows, train_labels, test_labels = make_train_test_splits(windows=full_windows, labels=full_labels, test_split=0.2)\n",
    "len(train_windows), len(test_windows), len(train_labels), len(test_labels)"
   ]
  },
  {
   "cell_type": "code",
   "execution_count": 55,
   "metadata": {
    "colab": {
     "base_uri": "https://localhost:8080/"
    },
    "id": "LNwGHSCaXDoC",
    "outputId": "1f4a0074-7f66-4929-8e01-bdfce1cb0be3"
   },
   "outputs": [
    {
     "name": "stdout",
     "output_type": "stream",
     "text": [
      "INFO:tensorflow:Assets written to: model_experiments/model_3_dense/assets\n",
      "INFO:tensorflow:Assets written to: model_experiments/model_3_dense/assets\n",
      "INFO:tensorflow:Assets written to: model_experiments/model_3_dense/assets\n",
      "INFO:tensorflow:Assets written to: model_experiments/model_3_dense/assets\n",
      "INFO:tensorflow:Assets written to: model_experiments/model_3_dense/assets\n",
      "INFO:tensorflow:Assets written to: model_experiments/model_3_dense/assets\n",
      "INFO:tensorflow:Assets written to: model_experiments/model_3_dense/assets\n",
      "INFO:tensorflow:Assets written to: model_experiments/model_3_dense/assets\n",
      "INFO:tensorflow:Assets written to: model_experiments/model_3_dense/assets\n",
      "INFO:tensorflow:Assets written to: model_experiments/model_3_dense/assets\n",
      "INFO:tensorflow:Assets written to: model_experiments/model_3_dense/assets\n",
      "INFO:tensorflow:Assets written to: model_experiments/model_3_dense/assets\n",
      "INFO:tensorflow:Assets written to: model_experiments/model_3_dense/assets\n",
      "INFO:tensorflow:Assets written to: model_experiments/model_3_dense/assets\n",
      "INFO:tensorflow:Assets written to: model_experiments/model_3_dense/assets\n",
      "INFO:tensorflow:Assets written to: model_experiments/model_3_dense/assets\n",
      "INFO:tensorflow:Assets written to: model_experiments/model_3_dense/assets\n",
      "INFO:tensorflow:Assets written to: model_experiments/model_3_dense/assets\n",
      "INFO:tensorflow:Assets written to: model_experiments/model_3_dense/assets\n",
      "INFO:tensorflow:Assets written to: model_experiments/model_3_dense/assets\n",
      "INFO:tensorflow:Assets written to: model_experiments/model_3_dense/assets\n",
      "INFO:tensorflow:Assets written to: model_experiments/model_3_dense/assets\n"
     ]
    },
    {
     "data": {
      "text/plain": [
       "<keras.callbacks.History at 0x7faff5cd1f90>"
      ]
     },
     "execution_count": 55,
     "metadata": {},
     "output_type": "execute_result"
    }
   ],
   "source": [
    "tf.random.set_seed(42)\n",
    "\n",
    "# Create model (same as model_1 except with different data input size)\n",
    "model_3 = tf.keras.Sequential([\n",
    "  layers.Dense(128, activation=\"relu\"),\n",
    "  layers.Dense(HORIZON)\n",
    "], name=\"model_3_dense\")\n",
    "\n",
    "model_3.compile(loss=\"mae\",\n",
    "                optimizer=tf.keras.optimizers.Adam())\n",
    "\n",
    "model_3.fit(train_windows,\n",
    "            train_labels,\n",
    "            batch_size=128,\n",
    "            epochs=100,\n",
    "            verbose=0,\n",
    "            validation_data=(test_windows, test_labels),\n",
    "            callbacks=[create_model_checkpoint(model_name=model_3.name)])\n"
   ]
  },
  {
   "cell_type": "code",
   "execution_count": 56,
   "metadata": {
    "colab": {
     "base_uri": "https://localhost:8080/"
    },
    "id": "4u-sPXQkXGbB",
    "outputId": "0c9e0a69-5568-44df-d34d-8d37c466eda9"
   },
   "outputs": [
    {
     "name": "stdout",
     "output_type": "stream",
     "text": [
      "18/18 [==============================] - 0s 2ms/step - loss: 1321.5203\n"
     ]
    },
    {
     "data": {
      "text/plain": [
       "1321.520263671875"
      ]
     },
     "execution_count": 56,
     "metadata": {},
     "output_type": "execute_result"
    }
   ],
   "source": [
    "# How did our model with a larger window size and horizon go?\n",
    "model_3.evaluate(test_windows, test_labels)"
   ]
  },
  {
   "cell_type": "code",
   "execution_count": 57,
   "metadata": {
    "colab": {
     "base_uri": "https://localhost:8080/"
    },
    "id": "ZbGoygO9XXKR",
    "outputId": "6aed37fc-37b8-46ec-c2d8-7a18133c63f2"
   },
   "outputs": [
    {
     "name": "stdout",
     "output_type": "stream",
     "text": [
      "18/18 [==============================] - 0s 2ms/step - loss: 1237.5065\n"
     ]
    },
    {
     "data": {
      "text/plain": [
       "1237.5064697265625"
      ]
     },
     "execution_count": 57,
     "metadata": {},
     "output_type": "execute_result"
    }
   ],
   "source": [
    "# Load in best version of model_3 and evaluate\n",
    "model_3 = tf.keras.models.load_model(\"model_experiments/model_3_dense/\")\n",
    "model_3.evaluate(test_windows, test_labels)"
   ]
  },
  {
   "cell_type": "code",
   "execution_count": 58,
   "metadata": {
    "colab": {
     "base_uri": "https://localhost:8080/"
    },
    "id": "OrFdmtSyXaIp",
    "outputId": "7ce4dfa8-ec6b-4d53-c957-d4408d5e7ddd"
   },
   "outputs": [
    {
     "data": {
      "text/plain": [
       "<tf.Tensor: shape=(5, 7), dtype=float32, numpy=\n",
       "array([[9004.693 , 9048.1   , 9425.088 , 9258.258 , 9495.798 , 9558.451 ,\n",
       "        9357.354 ],\n",
       "       [8735.507 , 8840.304 , 9247.793 , 8885.6   , 9097.188 , 9174.328 ,\n",
       "        9156.819 ],\n",
       "       [8672.508 , 8782.389 , 9123.8545, 8770.37  , 9007.13  , 9003.87  ,\n",
       "        9042.723 ],\n",
       "       [8874.398 , 8784.737 , 9043.901 , 8943.051 , 9033.479 , 9176.488 ,\n",
       "        9039.676 ],\n",
       "       [8825.891 , 8777.4375, 8926.779 , 8870.178 , 9213.232 , 9268.156 ,\n",
       "        8942.485 ]], dtype=float32)>"
      ]
     },
     "execution_count": 58,
     "metadata": {},
     "output_type": "execute_result"
    }
   ],
   "source": [
    "\n",
    "# The predictions are going to be 7 steps at a time (this is the HORIZON size)\n",
    "model_3_preds = make_preds(model_3,\n",
    "                           input_data=test_windows)\n",
    "model_3_preds[:5]"
   ]
  },
  {
   "cell_type": "code",
   "execution_count": 59,
   "metadata": {
    "colab": {
     "base_uri": "https://localhost:8080/"
    },
    "id": "zFYc2kMtXcOB",
    "outputId": "f4f2ec3d-d4b0-4b02-9541-3b766a751192"
   },
   "outputs": [
    {
     "data": {
      "text/plain": [
       "{'mae': array([ 513.60516 ,  355.08356 ,  327.17035 ,  358.50977 ,  420.53207 ,\n",
       "         537.8537  ,  545.6606  ,  485.92307 ,  584.4969  ,  687.3814  ,\n",
       "         836.22675 ,  755.15704 ,  731.4959  ,  775.3398  ,  567.9548  ,\n",
       "         266.80865 ,  188.80217 ,  188.10764 ,  253.09521 ,  301.43365 ,\n",
       "         151.10742 ,  196.81432 ,  191.46184 ,  231.65067 ,  143.6114  ,\n",
       "         122.59033 ,  132.78844 ,  190.81152 ,  179.1598  ,  228.25949 ,\n",
       "         314.44022 ,  379.09283 ,  278.32553 ,  295.34598 ,  299.38525 ,\n",
       "         248.64983 ,  299.75635 ,  259.6937  ,  180.30566 ,  206.72873 ,\n",
       "         374.62897 ,  144.85135 ,  142.33607 ,  131.11572 ,   93.94057 ,\n",
       "          54.825615,   73.7943  ,  103.59996 ,  121.33363 ,  168.67229 ,\n",
       "         183.90945 ,  152.25307 ,  186.57121 ,  146.91301 ,  240.42961 ,\n",
       "         351.00668 ,  540.9516  ,  549.15686 ,  521.2422  ,  526.85535 ,\n",
       "         453.36307 ,  257.98166 ,  277.29492 ,  301.82465 ,  455.71756 ,\n",
       "         458.96002 ,  503.44427 ,  522.3117  ,  223.07687 ,  250.09486 ,\n",
       "         297.1448  ,  400.56976 ,  495.7977  ,  364.33664 ,  283.3654  ,\n",
       "         325.59457 ,  238.21178 ,  318.97754 ,  460.7722  ,  651.0755  ,\n",
       "         835.88074 ,  669.9654  ,  319.54535 ,  261.99512 ,  142.39217 ,\n",
       "         136.62877 ,  154.75266 ,  221.32645 ,  290.50446 ,  503.88477 ,\n",
       "         414.26004 ,  434.35727 ,  377.98926 ,  251.7899  ,  204.28418 ,\n",
       "         388.22684 ,  360.65945 ,  493.80942 ,  614.8605  ,  754.7017  ,\n",
       "         533.7708  ,  378.98898 ,  280.49484 ,  339.48062 ,  413.12863 ,\n",
       "         452.87918 ,  550.53894 ,  634.57214 ,  935.57214 ,  931.6003  ,\n",
       "         881.2803  ,  426.40094 ,  179.45912 ,  121.66239 ,  160.43806 ,\n",
       "         372.07037 ,  341.8579  ,  476.52463 ,  618.32434 , 1038.8976  ,\n",
       "        1569.5022  , 2157.1194  , 1987.6074  , 2158.6108  , 2303.5603  ,\n",
       "        2662.9421  , 1405.5017  ,  728.30164 ,  351.70047 ,  322.03168 ,\n",
       "         493.94748 ,  435.48492 ,  565.55615 ,  350.11655 ,  289.02036 ,\n",
       "         251.21638 ,  409.05566 ,  342.2103  ,  320.836   ,  330.88596 ,\n",
       "         357.8457  ,  335.94818 ,  206.10303 ,  544.3838  ,  700.00916 ,\n",
       "         468.91965 ,  404.4963  ,  172.80168 ,  308.33664 ,  210.47572 ,\n",
       "         318.95438 ,  486.13184 ,  428.87982 ,  533.91095 ,  433.7813  ,\n",
       "         396.89438 ,  138.40353 ,  189.96617 ,  170.39133 ,  181.54387 ,\n",
       "         282.8902  ,  264.3889  ,  250.62186 ,  240.33699 ,  276.95416 ,\n",
       "         326.0306  ,  489.61566 ,  686.24493 ,  526.97986 ,  603.0119  ,\n",
       "         825.38275 ,  871.047   ,  990.0689  , 1090.0593  ,  560.2842  ,\n",
       "         310.52203 ,  371.39035 ,  348.45996 ,  355.73465 ,  429.56473 ,\n",
       "         581.2839  ,  550.5219  ,  635.4312  ,  913.40375 ,  840.71875 ,\n",
       "         305.03488 ,  493.93387 ,  751.3177  ,  410.63422 ,  220.62444 ,\n",
       "         282.25473 ,  291.85336 ,  422.50308 ,  458.65375 ,  637.2347  ,\n",
       "         647.82355 ,  417.2443  ,  220.23717 ,  246.72182 ,  200.22935 ,\n",
       "         455.14914 ,  719.6059  ,  696.3037  ,  485.09836 ,  294.9534  ,\n",
       "         170.52357 ,  211.8245  ,  270.56488 ,  189.89355 ,  171.21736 ,\n",
       "         366.4471  ,  231.96303 ,  318.7871  ,  273.79352 ,  358.55582 ,\n",
       "         412.22797 ,  512.31573 ,  185.43848 ,  196.38113 ,  200.00586 ,\n",
       "         224.58678 ,  213.41965 ,  186.23926 ,  113.37096 ,  172.23103 ,\n",
       "         168.89885 ,  236.0957  ,  307.59695 ,  328.93918 ,  566.59625 ,\n",
       "         285.04297 ,  300.4495  ,  125.451866,  168.94308 ,  137.25768 ,\n",
       "         143.50418 ,  145.27776 ,  107.340126,   77.16044 ,  131.87096 ,\n",
       "         134.01926 ,  167.45871 ,  137.92201 ,  148.91281 ,  204.95451 ,\n",
       "         157.89732 ,  196.95201 ,  167.93861 ,  156.45592 ,  188.68066 ,\n",
       "         161.44113 ,   90.99763 ,  136.84096 ,  198.51799 ,  230.13881 ,\n",
       "         294.78403 ,  594.24274 ,  699.64856 ,  815.137   ,  905.33887 ,\n",
       "        1127.2999  , 1342.6952  , 1317.0685  ,  590.1699  ,  296.34543 ,\n",
       "         243.4368  ,  256.39886 ,  222.28474 ,  323.8387  ,   82.51325 ,\n",
       "         120.14467 ,  249.14857 ,  205.7369  ,  243.45467 ,  250.64844 ,\n",
       "         287.27582 ,  224.3803  ,  266.55972 ,  221.50935 ,  218.49539 ,\n",
       "         272.42258 ,  279.5964  ,  252.58775 ,  381.56473 ,  417.97028 ,\n",
       "         624.55634 ,  368.0364  ,  327.25473 ,  263.4396  ,  349.95258 ,\n",
       "         398.62485 ,  297.07477 ,  147.04924 ,  164.54381 ,  313.3623  ,\n",
       "         477.74875 ,  675.042   ,  897.269   , 1094.7098  , 1460.177   ,\n",
       "        1398.5859  ,  952.72375 ,  645.95966 ,  166.17912 ,  144.66853 ,\n",
       "         189.1822  ,  304.8139  ,  435.10742 ,  449.64438 ,  425.244   ,\n",
       "         441.93637 ,  407.2959  ,  252.40373 ,  248.36928 ,  336.17062 ,\n",
       "         482.81097 ,  437.53055 ,  533.0854  ,  346.98032 ,  127.68708 ,\n",
       "         110.208565,  301.7521  ,  195.50697 ,  174.65262 ,  238.47084 ,\n",
       "         302.3711  ,  313.51715 ,  310.1289  ,  200.29701 ,  172.47209 ,\n",
       "         140.23033 ,  252.48451 ,  289.32422 ,  343.62222 ,  504.118   ,\n",
       "         635.1338  ,  602.131   ,  519.0611  ,  214.90276 ,  195.91197 ,\n",
       "         265.03696 ,  198.90096 ,  345.51215 ,  517.2222  ,  631.02985 ,\n",
       "         988.4248  , 1174.2137  , 1196.2848  , 1253.93    ,  526.06573 ,\n",
       "         210.3132  ,  215.27232 ,  169.86021 ,  283.7853  ,  269.76102 ,\n",
       "         228.63477 ,  186.64705 ,  410.54367 ,  601.26575 ,  618.12164 ,\n",
       "         768.7538  , 1158.5449  , 1232.8798  , 1254.429   ,  423.02524 ,\n",
       "         390.0364  ,  367.23926 ,  209.55818 ,  530.2231  ,  821.3828  ,\n",
       "         812.37195 ,  741.19434 ,  953.48285 , 1258.9929  , 1844.9332  ,\n",
       "        1605.2858  , 1112.7673  ,  594.18945 ,  549.7676  ,  632.5438  ,\n",
       "         829.2656  , 1103.2213  , 1130.1024  , 1033.3527  ,  878.5851  ,\n",
       "         595.4096  , 1115.6512  , 1371.1716  , 1385.25    ,  387.52512 ,\n",
       "         303.74918 ,  495.12305 ,  719.5804  ,  648.9032  ,  766.16296 ,\n",
       "         683.2313  ,  596.4121  ,  523.09265 ,  577.34015 , 1337.6244  ,\n",
       "        2454.5972  , 2759.2363  , 3135.8757  , 3407.3804  , 3602.636   ,\n",
       "        2527.1584  , 1158.1013  ,  679.84375 ,  748.5586  , 1073.4896  ,\n",
       "        1217.7305  , 1459.5667  , 2502.7332  , 3075.8267  , 3090.2869  ,\n",
       "        2564.758   , 2660.5317  , 2928.935   , 3690.5566  , 3525.1426  ,\n",
       "        4183.6704  , 5144.0693  , 4384.6533  , 4164.9604  , 4431.0967  ,\n",
       "        3335.121   , 3017.6853  , 2589.5403  , 4103.632   , 5582.0894  ,\n",
       "        5108.4565  , 1382.9655  ,  953.5435  , 1081.6836  , 2483.1987  ,\n",
       "        2992.056   , 3127.095   , 2972.2717  , 3054.6477  , 3283.7107  ,\n",
       "        3617.3652  , 1170.255   , 1074.1884  , 1059.3184  , 1044.5388  ,\n",
       "        1060.62    , 2115.7239  , 3569.8901  , 3474.3645  , 2448.0168  ,\n",
       "        2641.4197  , 3188.6016  , 4899.913   , 5516.293   , 4635.4883  ,\n",
       "        4677.0356  , 5732.8804  , 5866.7354  , 8083.341   , 5049.824   ,\n",
       "        1476.2316  , 1873.3314  , 1219.1027  , 2324.0698  , 2467.0044  ,\n",
       "        3005.0864  , 2805.0486  , 3688.2544  , 2962.7131  , 3664.236   ,\n",
       "        5618.6836  , 6925.0923  , 9751.091   , 8790.822   , 5057.624   ,\n",
       "        2971.6863  , 1715.4955  , 1125.7684  , 2201.4324  , 3969.5005  ,\n",
       "        2988.5105  , 2911.9336  , 2796.869   , 3937.875   , 5449.5913  ,\n",
       "        6395.02    , 6148.251   , 5437.7056  , 4291.8257  , 2362.3958  ,\n",
       "        1657.3444  , 1426.6295  , 1647.7142  , 2730.3962  , 1813.717   ,\n",
       "        2061.149   , 3095.7192  , 4312.809   , 5500.7217  , 5258.031   ,\n",
       "        5152.03    , 1331.4045  , 1634.4006  , 2493.4336  , 3957.9536  ,\n",
       "        4499.2153  , 2215.8533  , 2587.4136  , 1622.4392  ,  591.8778  ,\n",
       "        1297.4688  , 1284.5931  ,  915.22656 ,  940.45703 , 1084.6562  ,\n",
       "         875.89954 , 1041.3533  , 2299.2512  , 3152.6038  , 3518.391   ,\n",
       "        2531.5217  , 2682.5737  , 3094.2947  , 3829.3286  , 5550.609   ,\n",
       "        7159.3438  , 8820.526   , 8587.34    , 6777.814   , 5193.2866  ,\n",
       "        4793.332   , 2605.2522  , 1668.3555  , 2510.7244  , 4105.6865  ,\n",
       "        6278.391   , 4109.758   , 1711.1217  , 2261.987   , 2384.754   ,\n",
       "        1246.6608  , 1672.8499  , 1103.1322  , 1743.3605  , 1608.4525  ,\n",
       "        1933.8995  , 2742.3464  , 3945.3638  , 5765.9414  , 6955.839   ,\n",
       "        8107.707   ], dtype=float32),\n",
       " 'mape': array([ 5.8601456 ,  4.087344  ,  3.7758112 ,  4.187648  ,  4.9781313 ,\n",
       "         6.448362  ,  6.614449  ,  6.0616755 ,  7.547588  ,  9.095916  ,\n",
       "        11.300213  , 10.396465  , 10.109091  , 10.697323  ,  7.8628383 ,\n",
       "         3.6872823 ,  2.585636  ,  2.504999  ,  3.3504546 ,  4.0135956 ,\n",
       "         2.0036254 ,  2.6397343 ,  2.6087892 ,  3.160931  ,  1.9612147 ,\n",
       "         1.6679796 ,  1.7952247 ,  2.5901186 ,  2.436256  ,  3.1327312 ,\n",
       "         4.3595424 ,  5.2856426 ,  3.9403584 ,  4.314209  ,  4.3733163 ,\n",
       "         3.6376853 ,  4.362974  ,  3.7757344 ,  2.6192994 ,  2.9007576 ,\n",
       "         5.150113  ,  2.014743  ,  1.9706616 ,  1.8104086 ,  1.3007166 ,\n",
       "         0.7535154 ,  1.0192169 ,  1.4282557 ,  1.6741816 ,  2.3589633 ,\n",
       "         2.563099  ,  2.1327198 ,  2.5974755 ,  2.0173311 ,  3.138768  ,\n",
       "         4.502132  ,  6.959625  ,  6.9602175 ,  6.5331526 ,  6.5757847 ,\n",
       "         5.610294  ,  3.0642097 ,  3.2474015 ,  3.4847279 ,  5.222716  ,\n",
       "         5.229475  ,  5.727943  ,  5.9273815 ,  2.5284538 ,  2.8663988 ,\n",
       "         3.4309034 ,  4.6874056 ,  5.8415046 ,  4.30981   ,  3.3552744 ,\n",
       "         3.8162014 ,  2.7363582 ,  3.4623687 ,  4.9716916 ,  7.0260944 ,\n",
       "         8.974986  ,  7.167823  ,  3.4013364 ,  2.776127  ,  1.522323  ,\n",
       "         1.4535506 ,  1.6354706 ,  2.2527823 ,  2.9475648 ,  5.0739026 ,\n",
       "         4.1032815 ,  4.295298  ,  3.7052956 ,  2.4620814 ,  2.013232  ,\n",
       "         3.8428285 ,  3.6306674 ,  5.0162797 ,  6.2794695 ,  7.757465  ,\n",
       "         5.495671  ,  3.8907118 ,  2.8546908 ,  3.531113  ,  4.4648895 ,\n",
       "         5.016246  ,  6.1257234 ,  7.1294317 , 10.711444  , 10.66408   ,\n",
       "        10.087246  ,  4.893642  ,  2.071732  ,  1.3628426 ,  1.8011061 ,\n",
       "         4.219873  ,  4.055697  ,  5.744901  ,  7.4928775 , 15.032968  ,\n",
       "        24.38846   , 35.428116  , 34.702423  , 39.86109   , 42.83657   ,\n",
       "        49.6046    , 26.081127  , 13.669963  ,  6.360867  ,  5.4986367 ,\n",
       "         7.9925127 ,  6.8575478 ,  8.82061   ,  5.3111973 ,  4.527922  ,\n",
       "         3.8704119 ,  6.2283792 ,  5.2470355 ,  5.1045494 ,  5.329424  ,\n",
       "         5.7789664 ,  5.358488  ,  3.2211251 ,  8.118443  , 10.2319765 ,\n",
       "         6.72686   ,  5.757309  ,  2.404123  ,  4.2864537 ,  2.9776926 ,\n",
       "         4.4548507 ,  6.926196  ,  6.1590724 ,  7.7638254 ,  6.308201  ,\n",
       "         5.737149  ,  1.9719461 ,  2.7191157 ,  2.3998728 ,  2.568591  ,\n",
       "         3.953004  ,  3.6584775 ,  3.4535599 ,  3.3018668 ,  3.7942238 ,\n",
       "         4.310324  ,  6.4319825 ,  8.567104  ,  6.2936625 ,  7.0238814 ,\n",
       "         9.469167  ,  9.915066  , 11.217034  , 12.28066   ,  6.209284  ,\n",
       "         3.2802749 ,  3.8508573 ,  3.6124744 ,  3.7172396 ,  4.6127787 ,\n",
       "         6.2338514 ,  6.037698  ,  7.1359625 , 10.132258  ,  9.337393  ,\n",
       "         3.379447  ,  5.190339  ,  7.822919  ,  4.264498  ,  2.3285015 ,\n",
       "         3.0320923 ,  3.1225545 ,  4.572186  ,  5.013454  ,  7.05932   ,\n",
       "         7.180874  ,  4.6288166 ,  2.4294462 ,  2.6893427 ,  2.1346936 ,\n",
       "         4.6703873 ,  7.4296794 ,  7.177754  ,  4.9274387 ,  2.969763  ,\n",
       "         1.7036023 ,  2.10208   ,  2.7900844 ,  1.9541025 ,  1.7562671 ,\n",
       "         3.8170404 ,  2.4557195 ,  3.3356555 ,  2.8912652 ,  3.8006802 ,\n",
       "         4.3685193 ,  5.4371476 ,  1.96905   ,  2.086854  ,  2.1329875 ,\n",
       "         2.4014482 ,  2.2829742 ,  1.9878384 ,  1.2127163 ,  1.8306127 ,\n",
       "         1.8156711 ,  2.5207548 ,  3.2923872 ,  3.5837202 ,  6.187771  ,\n",
       "         3.1183968 ,  3.2884538 ,  1.3740188 ,  1.847277  ,  1.5017152 ,\n",
       "         1.567143  ,  1.5889224 ,  1.1630745 ,  0.83710796,  1.4223018 ,\n",
       "         1.440745  ,  1.8030001 ,  1.4797021 ,  1.599079  ,  2.2175798 ,\n",
       "         1.7130904 ,  2.1422603 ,  1.8232663 ,  1.701559  ,  2.0563002 ,\n",
       "         1.7596645 ,  0.98229665,  1.4560648 ,  2.1070251 ,  2.4114208 ,\n",
       "         3.0500011 ,  5.773843  ,  6.618569  ,  7.495159  ,  8.227665  ,\n",
       "        10.186895  , 11.928129  , 11.676123  ,  5.199727  ,  2.5929737 ,\n",
       "         2.1249924 ,  2.2335248 ,  1.9233081 ,  2.846623  ,  0.7076654 ,\n",
       "         1.0350628 ,  2.132228  ,  1.778992  ,  2.1161122 ,  2.1635592 ,\n",
       "         2.479285  ,  1.9270525 ,  2.2551262 ,  1.8457135 ,  1.8112589 ,\n",
       "         2.262673  ,  2.3515143 ,  2.1173332 ,  3.2111585 ,  3.5736024 ,\n",
       "         5.3715706 ,  3.18694   ,  2.858538  ,  2.295805  ,  3.058096  ,\n",
       "         3.4806054 ,  2.5900257 ,  1.2625037 ,  1.4050388 ,  2.762225  ,\n",
       "         4.304955  ,  6.2830725 ,  8.513568  , 10.517087  , 14.1610775 ,\n",
       "        13.64061   ,  9.320237  ,  6.3080773 ,  1.6300542 ,  1.3983153 ,\n",
       "         1.8191801 ,  2.8875997 ,  4.068832  ,  4.1736493 ,  3.92286   ,\n",
       "         4.0472727 ,  3.7387464 ,  2.306974  ,  2.3063238 ,  3.1941137 ,\n",
       "         4.5895934 ,  4.157943  ,  5.0558033 ,  3.3005733 ,  1.2102834 ,\n",
       "         1.0371091 ,  2.8088584 ,  1.8151615 ,  1.6353222 ,  2.2353559 ,\n",
       "         2.8412042 ,  2.9520044 ,  2.9187465 ,  1.8913074 ,  1.6178632 ,\n",
       "         1.2982858 ,  2.3039281 ,  2.6034799 ,  3.017652  ,  4.44426   ,\n",
       "         5.5989375 ,  5.26695   ,  4.5355997 ,  1.8671705 ,  1.7055078 ,\n",
       "         2.3196971 ,  1.7318236 ,  2.7897213 ,  4.062602  ,  4.8944483 ,\n",
       "         7.68164   ,  9.1078    ,  9.207181  ,  9.502263  ,  3.9754786 ,\n",
       "         1.5744594 ,  1.5997088 ,  1.242374  ,  2.0770237 ,  1.9747128 ,\n",
       "         1.6764196 ,  1.3502697 ,  2.7858431 ,  3.9915655 ,  4.0835853 ,\n",
       "         5.016299  ,  7.6388373 ,  8.078356  ,  8.1091385 ,  2.6612654 ,\n",
       "         2.4994862 ,  2.2963924 ,  1.3040318 ,  3.2585588 ,  4.914516  ,\n",
       "         4.7377896 ,  4.253873  ,  5.353144  ,  6.9800797 , 10.170477  ,\n",
       "         8.772204  ,  6.0037975 ,  3.184015  ,  3.0090022 ,  3.637018  ,\n",
       "         4.7740936 ,  6.289234  ,  6.4191875 ,  5.904088  ,  4.9963098 ,\n",
       "         3.1906037 ,  5.856232  ,  7.1810246 ,  7.211652  ,  2.0219972 ,\n",
       "         1.5912403 ,  2.624319  ,  3.8534112 ,  3.5140653 ,  4.140533  ,\n",
       "         3.6843956 ,  3.215591  ,  2.8228235 ,  2.8898468 ,  6.2849097 ,\n",
       "        11.458011  , 12.342688  , 13.764669  , 14.824155  , 15.566203  ,\n",
       "        10.829556  ,  4.9278226 ,  2.8345613 ,  3.0226748 ,  4.311801  ,\n",
       "         4.7200484 ,  5.516798  ,  9.303044  , 11.212711  , 11.037065  ,\n",
       "         8.631595  ,  8.57773   ,  9.38905   , 11.497772  , 10.463532  ,\n",
       "        11.683612  , 13.823776  , 11.273857  , 10.80596   , 11.400717  ,\n",
       "         8.4966135 ,  7.889378  ,  7.169477  , 11.42385   , 15.540574  ,\n",
       "        14.246382  ,  3.8430936 ,  2.545029  ,  2.9262342 ,  7.288312  ,\n",
       "         8.999365  ,  9.586318  ,  9.271836  ,  9.423251  , 10.242945  ,\n",
       "        11.396603  ,  3.65579   ,  3.3454735 ,  3.2290883 ,  3.159099  ,\n",
       "         3.1852565 ,  6.1412454 , 10.163153  ,  9.673944  ,  6.657337  ,\n",
       "         6.9758267 ,  8.377453  , 12.244584  , 13.00238   , 10.547294  ,\n",
       "        10.269913  , 12.4054    , 12.59853   , 17.187769  , 10.616791  ,\n",
       "         3.0717697 ,  3.7662785 ,  2.3915362 ,  4.4263554 ,  4.6217527 ,\n",
       "         5.4785805 ,  5.1152287 ,  6.8264313 ,  5.61515   ,  7.0909567 ,\n",
       "        11.599258  , 14.51015   , 20.678543  , 18.670784  , 10.813841  ,\n",
       "         6.395925  ,  3.6813111 ,  2.3239639 ,  4.45938   ,  8.030951  ,\n",
       "         5.9532933 ,  5.6428704 ,  5.1379447 ,  7.162533  ,  9.831415  ,\n",
       "        11.209798  , 10.556709  ,  9.350724  ,  7.3507614 ,  3.9943993 ,\n",
       "         2.8233469 ,  2.3929286 ,  2.8540497 ,  4.729086  ,  3.2363837 ,\n",
       "         3.6810744 ,  5.668574  ,  8.005047  , 10.247113  ,  9.747859  ,\n",
       "         9.5460415 ,  2.4771707 ,  2.9854095 ,  4.3493814 ,  6.880645  ,\n",
       "         7.758685  ,  3.8011405 ,  4.4251776 ,  2.7610898 ,  1.0093751 ,\n",
       "         2.2422    ,  2.2289147 ,  1.58688   ,  1.6239222 ,  1.8814766 ,\n",
       "         1.5162641 ,  1.7166432 ,  3.7594385 ,  5.0978    ,  5.664716  ,\n",
       "         4.0754294 ,  4.3486743 ,  5.1419683 ,  6.618967  ,  9.823991  ,\n",
       "        12.981372  , 16.388018  , 16.260681  , 13.249782  , 10.180592  ,\n",
       "         9.383685  ,  5.1218467 ,  3.289383  ,  4.634893  ,  7.4068375 ,\n",
       "        11.284324  ,  7.2873487 ,  3.0196338 ,  4.006138  ,  4.172643  ,\n",
       "         2.2337599 ,  3.0054183 ,  1.9702865 ,  3.121096  ,  2.7774756 ,\n",
       "         3.4924886 ,  5.1419396 ,  7.6572037 , 11.470654  , 14.311544  ,\n",
       "        17.28017   ], dtype=float32),\n",
       " 'mase': 2.2020736,\n",
       " 'mse': array([3.15562156e+05, 1.69165547e+05, 1.44131672e+05, 1.76002922e+05,\n",
       "        2.63519750e+05, 3.91517094e+05, 3.99524688e+05, 3.44422312e+05,\n",
       "        4.93892156e+05, 6.88785625e+05, 9.18703562e+05, 8.00988125e+05,\n",
       "        6.35508625e+05, 6.45535125e+05, 3.57740000e+05, 1.03007117e+05,\n",
       "        5.33132578e+04, 4.65829453e+04, 1.10349188e+05, 1.11647734e+05,\n",
       "        4.35359297e+04, 5.45388086e+04, 4.55849375e+04, 7.64886641e+04,\n",
       "        4.03074453e+04, 2.71072188e+04, 1.90268887e+04, 4.55624648e+04,\n",
       "        4.25345820e+04, 6.63246094e+04, 1.16741797e+05, 1.69440859e+05,\n",
       "        1.10487016e+05, 1.59707391e+05, 1.61631141e+05, 1.23862008e+05,\n",
       "        1.50757328e+05, 1.31196297e+05, 5.50281562e+04, 6.28154688e+04,\n",
       "        1.77474281e+05, 2.68844062e+04, 2.53033848e+04, 2.58043906e+04,\n",
       "        1.34592480e+04, 3.88203516e+03, 9.22773926e+03, 1.22399639e+04,\n",
       "        2.20868223e+04, 3.60825703e+04, 4.87962109e+04, 3.74653008e+04,\n",
       "        4.10560508e+04, 4.17418672e+04, 1.10490867e+05, 2.00762031e+05,\n",
       "        3.48149000e+05, 3.58060969e+05, 3.28375281e+05, 2.96505938e+05,\n",
       "        2.33354078e+05, 1.54047203e+05, 1.43171328e+05, 1.62586469e+05,\n",
       "        2.96452719e+05, 2.66880719e+05, 2.94189062e+05, 3.10067438e+05,\n",
       "        6.27178750e+04, 8.63869531e+04, 9.69545859e+04, 2.01814344e+05,\n",
       "        2.97053531e+05, 2.00674891e+05, 1.27305148e+05, 1.32509578e+05,\n",
       "        8.46020156e+04, 1.74817422e+05, 2.95115594e+05, 4.75888719e+05,\n",
       "        7.21894500e+05, 4.62711281e+05, 1.33154859e+05, 8.13641094e+04,\n",
       "        3.43108672e+04, 3.45205312e+04, 5.36851641e+04, 7.42414844e+04,\n",
       "        1.09339375e+05, 2.79682938e+05, 2.19119266e+05, 1.99934359e+05,\n",
       "        1.65903391e+05, 8.16738047e+04, 4.82395195e+04, 1.65301000e+05,\n",
       "        1.81699391e+05, 3.30645500e+05, 4.63625906e+05, 6.75044000e+05,\n",
       "        3.34911500e+05, 1.69343750e+05, 1.03219234e+05, 1.48347609e+05,\n",
       "        2.98684750e+05, 3.71952594e+05, 4.43306438e+05, 5.27904688e+05,\n",
       "        1.12945262e+06, 1.00652938e+06, 8.03246625e+05, 2.21277969e+05,\n",
       "        6.64887891e+04, 2.66182305e+04, 3.29689336e+04, 1.68663250e+05,\n",
       "        1.76257250e+05, 2.99365344e+05, 4.31794062e+05, 1.91346712e+06,\n",
       "        3.90353825e+06, 6.29502400e+06, 5.49042400e+06, 6.25676850e+06,\n",
       "        6.28618000e+06, 7.23876400e+06, 2.08143525e+06, 6.66786625e+05,\n",
       "        1.44639844e+05, 1.83413594e+05, 3.41026656e+05, 3.02069688e+05,\n",
       "        3.71339750e+05, 2.02418281e+05, 1.36151156e+05, 8.24758125e+04,\n",
       "        1.96006703e+05, 1.61595656e+05, 1.71401484e+05, 2.00606359e+05,\n",
       "        2.37198891e+05, 1.58720219e+05, 6.36030000e+04, 3.38904156e+05,\n",
       "        5.23523938e+05, 2.86212312e+05, 1.92326125e+05, 3.73765312e+04,\n",
       "        1.31962000e+05, 9.33163203e+04, 1.18443617e+05, 3.00598562e+05,\n",
       "        2.28996984e+05, 3.57954281e+05, 2.36219078e+05, 1.71530297e+05,\n",
       "        2.68482598e+04, 4.79162617e+04, 4.00419297e+04, 5.41031875e+04,\n",
       "        1.07641391e+05, 9.80020000e+04, 7.08350703e+04, 6.55984531e+04,\n",
       "        8.53740391e+04, 1.33837578e+05, 2.72516281e+05, 6.54133312e+05,\n",
       "        4.97212781e+05, 6.11190312e+05, 9.92907688e+05, 9.56692438e+05,\n",
       "        1.09541400e+06, 1.19283125e+06, 3.75002219e+05, 2.22053844e+05,\n",
       "        2.60620031e+05, 1.88109781e+05, 1.87927500e+05, 2.49058609e+05,\n",
       "        3.79192656e+05, 4.07707062e+05, 6.24783062e+05, 9.62079375e+05,\n",
       "        7.95345000e+05, 1.40557531e+05, 2.65227156e+05, 6.26269500e+05,\n",
       "        2.05804078e+05, 6.53088750e+04, 1.33562969e+05, 1.14692023e+05,\n",
       "        2.26913047e+05, 2.61226500e+05, 5.08516469e+05, 4.90744344e+05,\n",
       "        2.38721781e+05, 6.85555703e+04, 7.30577188e+04, 5.36113750e+04,\n",
       "        3.28223438e+05, 6.26447500e+05, 5.17735438e+05, 3.32536062e+05,\n",
       "        1.72657266e+05, 8.28137969e+04, 1.43392656e+05, 8.83169844e+04,\n",
       "        5.15846680e+04, 4.20798203e+04, 1.78049141e+05, 1.17351570e+05,\n",
       "        1.16870383e+05, 1.02416836e+05, 1.67488781e+05, 2.05509953e+05,\n",
       "        2.73221469e+05, 4.73881641e+04, 4.60577500e+04, 5.33725703e+04,\n",
       "        7.87071094e+04, 7.06486719e+04, 5.23131758e+04, 2.50280723e+04,\n",
       "        4.52023711e+04, 4.14732461e+04, 7.00106797e+04, 1.24132211e+05,\n",
       "        1.34168219e+05, 3.38401656e+05, 9.75600547e+04, 1.10023000e+05,\n",
       "        1.99194512e+04, 3.32737773e+04, 2.43712012e+04, 2.76616680e+04,\n",
       "        2.70386660e+04, 1.58115801e+04, 1.16166348e+04, 2.74852148e+04,\n",
       "        2.95265352e+04, 3.95874922e+04, 2.81846621e+04, 3.19155312e+04,\n",
       "        5.60368203e+04, 3.98338125e+04, 5.02201602e+04, 3.19759512e+04,\n",
       "        2.96142441e+04, 4.48332852e+04, 4.32265664e+04, 1.52425576e+04,\n",
       "        2.86077324e+04, 4.23488125e+04, 7.25032578e+04, 1.21924711e+05,\n",
       "        6.41490625e+05, 8.50461562e+05, 1.11135362e+06, 1.22003100e+06,\n",
       "        1.54110162e+06, 2.03452138e+06, 1.76440538e+06, 4.22100781e+05,\n",
       "        1.30513797e+05, 7.30581250e+04, 8.56110781e+04, 7.42399453e+04,\n",
       "        1.49466797e+05, 1.25623340e+04, 2.13100449e+04, 9.81795703e+04,\n",
       "        7.28018750e+04, 1.26064930e+05, 1.01337930e+05, 1.24553266e+05,\n",
       "        7.13399141e+04, 8.41950469e+04, 6.25289375e+04, 8.18789453e+04,\n",
       "        1.27303305e+05, 8.94661641e+04, 1.04100523e+05, 1.66147031e+05,\n",
       "        2.32076422e+05, 4.41965156e+05, 1.75838281e+05, 1.76445328e+05,\n",
       "        9.12169375e+04, 1.67975547e+05, 1.87876422e+05, 1.07637016e+05,\n",
       "        3.26578105e+04, 5.35412539e+04, 1.38143469e+05, 3.28638250e+05,\n",
       "        6.38893688e+05, 1.08279275e+06, 1.55802575e+06, 2.42136925e+06,\n",
       "        2.08980088e+06, 9.83019312e+05, 4.27435844e+05, 5.84014961e+04,\n",
       "        4.02854375e+04, 5.27582773e+04, 1.33694500e+05, 2.41687594e+05,\n",
       "        2.54570609e+05, 2.18475578e+05, 2.39844719e+05, 1.72920250e+05,\n",
       "        9.46134766e+04, 8.14810703e+04, 1.83791891e+05, 3.41631344e+05,\n",
       "        2.67091281e+05, 3.54819656e+05, 1.69607578e+05, 2.63052793e+04,\n",
       "        2.11339316e+04, 1.11685898e+05, 6.08852578e+04, 4.64014336e+04,\n",
       "        6.97662812e+04, 1.16936102e+05, 1.44631172e+05, 1.14626898e+05,\n",
       "        7.92795234e+04, 5.69158320e+04, 3.03999902e+04, 9.47751953e+04,\n",
       "        1.19675117e+05, 2.15399875e+05, 3.15527812e+05, 4.17611562e+05,\n",
       "        3.91754000e+05, 2.83129719e+05, 8.15816094e+04, 5.00839492e+04,\n",
       "        1.01595945e+05, 6.17697070e+04, 3.16726281e+05, 5.76747562e+05,\n",
       "        7.41103188e+05, 1.33217975e+06, 1.56516225e+06, 1.55553325e+06,\n",
       "        1.68517900e+06, 3.21850031e+05, 6.30693633e+04, 7.78375234e+04,\n",
       "        5.12543125e+04, 1.14444234e+05, 1.13520016e+05, 7.03014531e+04,\n",
       "        4.71107305e+04, 4.52436281e+05, 7.79108125e+05, 7.32536312e+05,\n",
       "        1.03909088e+06, 1.56208738e+06, 1.63956775e+06, 1.72789975e+06,\n",
       "        4.00525438e+05, 2.34608859e+05, 1.76724859e+05, 6.78014844e+04,\n",
       "        3.90382062e+05, 9.80141688e+05, 1.03537131e+06, 8.44669188e+05,\n",
       "        1.38893975e+06, 1.98341138e+06, 3.62835425e+06, 2.66920875e+06,\n",
       "        1.42117000e+06, 4.54602219e+05, 3.65967062e+05, 9.46589188e+05,\n",
       "        1.45184738e+06, 1.85900112e+06, 1.89930475e+06, 1.82373112e+06,\n",
       "        1.21286088e+06, 4.94641594e+05, 1.49650225e+06, 2.03091575e+06,\n",
       "        2.25657350e+06, 2.11183234e+05, 1.21396016e+05, 3.04308844e+05,\n",
       "        7.11903438e+05, 6.20312000e+05, 8.05388000e+05, 6.26902438e+05,\n",
       "        5.66390562e+05, 4.27517500e+05, 7.83491562e+05, 3.63025800e+06,\n",
       "        8.18037900e+06, 1.07676250e+07, 1.26563580e+07, 1.33500340e+07,\n",
       "        1.33957370e+07, 6.52511100e+06, 1.60696712e+06, 8.56758062e+05,\n",
       "        1.15616712e+06, 1.69269000e+06, 2.17122950e+06, 3.34218200e+06,\n",
       "        7.84994850e+06, 1.08378950e+07, 1.05726990e+07, 1.01602540e+07,\n",
       "        1.14205900e+07, 1.16179770e+07, 1.73510000e+07, 1.79301740e+07,\n",
       "        2.70626460e+07, 3.72665640e+07, 2.97687340e+07, 2.14580040e+07,\n",
       "        2.44066140e+07, 1.56006580e+07, 1.03771310e+07, 9.93532800e+06,\n",
       "        2.18889560e+07, 3.45001840e+07, 2.72495140e+07, 2.51545425e+06,\n",
       "        2.11410550e+06, 1.65101212e+06, 8.78064400e+06, 1.42263970e+07,\n",
       "        1.50277600e+07, 1.42628750e+07, 1.11520980e+07, 1.31385740e+07,\n",
       "        1.44270080e+07, 2.10807200e+06, 2.37278650e+06, 2.06521275e+06,\n",
       "        1.51271412e+06, 1.63591825e+06, 6.01038950e+06, 1.48181850e+07,\n",
       "        1.51462720e+07, 8.88826600e+06, 1.03656320e+07, 1.24236510e+07,\n",
       "        3.12300200e+07, 4.44122480e+07, 3.35616920e+07, 3.37025960e+07,\n",
       "        4.33024720e+07, 4.04647600e+07, 6.68120760e+07, 2.68142460e+07,\n",
       "        3.37228850e+06, 6.18199650e+06, 3.33604150e+06, 9.76003100e+06,\n",
       "        9.50538200e+06, 1.48300340e+07, 1.08088990e+07, 1.52812300e+07,\n",
       "        1.21298770e+07, 1.47110990e+07, 4.46196920e+07, 6.19225880e+07,\n",
       "        1.05739048e+08, 8.06071760e+07, 3.00356620e+07, 1.30779130e+07,\n",
       "        4.55988950e+06, 1.67929900e+06, 6.99432400e+06, 1.63487150e+07,\n",
       "        1.21498980e+07, 1.21798540e+07, 1.68979740e+07, 2.39387040e+07,\n",
       "        3.73065680e+07, 5.09610520e+07, 4.59523080e+07, 3.20003740e+07,\n",
       "        2.06371500e+07, 8.14506950e+06, 4.14795750e+06, 4.23498650e+06,\n",
       "        3.09784650e+06, 8.37917200e+06, 7.36108550e+06, 7.06094350e+06,\n",
       "        1.57310690e+07, 2.78766980e+07, 4.07339800e+07, 3.28521740e+07,\n",
       "        2.89016540e+07, 3.40228600e+06, 3.84222850e+06, 8.10806000e+06,\n",
       "        1.74778720e+07, 2.13824600e+07, 5.77506950e+06, 7.30700800e+06,\n",
       "        3.70581275e+06, 6.14524500e+05, 1.92765088e+06, 2.29573075e+06,\n",
       "        1.09032062e+06, 1.19423525e+06, 2.01535425e+06, 1.38583700e+06,\n",
       "        2.60915400e+06, 7.48127300e+06, 1.25728690e+07, 1.49188150e+07,\n",
       "        7.64712050e+06, 9.50861100e+06, 1.16537410e+07, 2.15388360e+07,\n",
       "        4.32744960e+07, 6.52254360e+07, 9.30125040e+07, 8.49970720e+07,\n",
       "        5.87007080e+07, 3.43532560e+07, 2.82685820e+07, 9.30442700e+06,\n",
       "        4.66932600e+06, 8.00189950e+06, 2.05975580e+07, 4.07234160e+07,\n",
       "        1.93118740e+07, 4.04353475e+06, 5.92508450e+06, 7.37346950e+06,\n",
       "        2.68488350e+06, 5.27761650e+06, 1.84823362e+06, 4.87232350e+06,\n",
       "        4.87888550e+06, 5.77534400e+06, 1.21702260e+07, 2.70199480e+07,\n",
       "        4.94704880e+07, 6.90301040e+07, 8.50554880e+07], dtype=float32),\n",
       " 'rmse': array([  561.7492  ,   411.2974  ,   379.64676 ,   419.52707 ,\n",
       "          513.34174 ,   625.7133  ,   632.07965 ,   586.87506 ,\n",
       "          702.7746  ,   829.9311  ,   958.4903  ,   894.97943 ,\n",
       "          797.1879  ,   803.452   ,   598.1137  ,   320.94724 ,\n",
       "          230.89664 ,   215.83083 ,   332.18848 ,   334.13733 ,\n",
       "          208.65266 ,   233.53546 ,   213.50632 ,   276.56586 ,\n",
       "          200.76715 ,   164.6427  ,   137.93799 ,   213.45366 ,\n",
       "          206.23912 ,   257.53564 ,   341.675   ,   411.63196 ,\n",
       "          332.39584 ,   399.63406 ,   402.03375 ,   351.94034 ,\n",
       "          388.27478 ,   362.2103  ,   234.58081 ,   250.63016 ,\n",
       "          421.27698 ,   163.96466 ,   159.07037 ,   160.63747 ,\n",
       "          116.014   ,    62.305984,    96.06112 ,   110.63437 ,\n",
       "          148.61636 ,   189.95413 ,   220.89862 ,   193.55956 ,\n",
       "          202.62292 ,   204.30827 ,   332.40167 ,   448.06476 ,\n",
       "          590.04156 ,   598.38196 ,   573.0404  ,   544.52356 ,\n",
       "          483.06735 ,   392.4885  ,   378.37988 ,   403.22012 ,\n",
       "          544.47473 ,   516.605   ,   542.39197 ,   556.837   ,\n",
       "          250.43535 ,   293.91656 ,   311.3753  ,   449.23752 ,\n",
       "          545.0262  ,   447.9675  ,   356.79846 ,   364.01865 ,\n",
       "          290.86426 ,   418.11172 ,   543.2454  ,   689.84686 ,\n",
       "          849.64374 ,   680.2288  ,   364.90393 ,   285.24393 ,\n",
       "          185.23193 ,   185.79701 ,   231.7006  ,   272.4729  ,\n",
       "          330.66504 ,   528.8506  ,   468.10175 ,   447.1402  ,\n",
       "          407.3124  ,   285.7863  ,   219.63496 ,   406.57227 ,\n",
       "          426.26212 ,   575.0179  ,   680.90076 ,   821.6106  ,\n",
       "          578.7154  ,   411.51398 ,   321.27753 ,   385.1592  ,\n",
       "          546.5206  ,   609.87915 ,   665.8126  ,   726.57056 ,\n",
       "         1062.7571  ,  1003.25934 ,   896.24023 ,   470.40195 ,\n",
       "          257.8542  ,   163.15096 ,   181.57349 ,   410.6863  ,\n",
       "          419.83002 ,   547.1429  ,   657.1104  ,  1383.2812  ,\n",
       "         1975.7374  ,  2508.9885  ,  2343.1653  ,  2501.3535  ,\n",
       "         2507.2256  ,  2690.495   ,  1442.718   ,   816.57007 ,\n",
       "          380.3155  ,   428.26813 ,   583.97485 ,   549.6087  ,\n",
       "          609.3766  ,   449.9092  ,   368.98663 ,   287.18604 ,\n",
       "          442.72644 ,   401.98962 ,   414.00662 ,   447.891   ,\n",
       "          487.03067 ,   398.39706 ,   252.19633 ,   582.1548  ,\n",
       "          723.54956 ,   534.98816 ,   438.55002 ,   193.33011 ,\n",
       "          363.26575 ,   305.4772  ,   344.15637 ,   548.2687  ,\n",
       "          478.53625 ,   598.29285 ,   486.0237  ,   414.16217 ,\n",
       "          163.85439 ,   218.89784 ,   200.1048  ,   232.60092 ,\n",
       "          328.0875  ,   313.0527  ,   266.1486  ,   256.12195 ,\n",
       "          292.18835 ,   365.8382  ,   522.03094 ,   808.7851  ,\n",
       "          705.1331  ,   781.7866  ,   996.4475  ,   978.1066  ,\n",
       "         1046.6202  ,  1092.1682  ,   612.37427 ,   471.2259  ,\n",
       "          510.50952 ,   433.71628 ,   433.50607 ,   499.05774 ,\n",
       "          615.78625 ,   638.5195  ,   790.4321  ,   980.85645 ,\n",
       "          891.8212  ,   374.91006 ,   515.00214 ,   791.3719  ,\n",
       "          453.65634 ,   255.556   ,   365.4627  ,   338.6621  ,\n",
       "          476.35388 ,   511.10318 ,   713.1034  ,   700.5315  ,\n",
       "          488.59164 ,   261.8312  ,   270.2919  ,   231.54132 ,\n",
       "          572.9079  ,   791.4844  ,   719.5384  ,   576.6594  ,\n",
       "          415.52045 ,   287.77386 ,   378.6722  ,   297.18173 ,\n",
       "          227.1226  ,   205.13365 ,   421.95868 ,   342.56616 ,\n",
       "          341.8631  ,   320.02628 ,   409.25394 ,   453.33206 ,\n",
       "          522.70593 ,   217.68823 ,   214.61069 ,   231.02502 ,\n",
       "          280.54785 ,   265.7982  ,   228.72073 ,   158.20264 ,\n",
       "          212.60849 ,   203.64981 ,   264.5953  ,   352.324   ,\n",
       "          366.2898  ,   581.723   ,   312.34607 ,   331.69714 ,\n",
       "          141.13629 ,   182.411   ,   156.1128  ,   166.31796 ,\n",
       "          164.43439 ,   125.7441  ,   107.780495,   165.78665 ,\n",
       "          171.83287 ,   198.96605 ,   167.88289 ,   178.64919 ,\n",
       "          236.72098 ,   199.5841  ,   224.09854 ,   178.8182  ,\n",
       "          172.0879  ,   211.73871 ,   207.91    ,   123.46075 ,\n",
       "          169.1382  ,   205.78828 ,   269.2643  ,   349.17722 ,\n",
       "          800.9311  ,   922.2048  ,  1054.2076  ,  1104.5502  ,\n",
       "         1241.4113  ,  1426.3665  ,  1328.3092  ,   649.6928  ,\n",
       "          361.26694 ,   270.29266 ,   292.59372 ,   272.4701  ,\n",
       "          386.60934 ,   112.081825,   145.97961 ,   313.3362  ,\n",
       "          269.81824 ,   355.0562  ,   318.33618 ,   352.92105 ,\n",
       "          267.09534 ,   290.16382 ,   250.05786 ,   286.145   ,\n",
       "          356.7959  ,   299.10895 ,   322.64612 ,   407.6114  ,\n",
       "          481.7431  ,   664.80457 ,   419.33078 ,   420.05396 ,\n",
       "          302.0214  ,   409.8482  ,   433.44717 ,   328.0808  ,\n",
       "          180.71472 ,   231.38983 ,   371.67657 ,   573.2698  ,\n",
       "          799.3082  ,  1040.5734  ,  1248.2091  ,  1556.075   ,\n",
       "         1445.6144  ,   991.4733  ,   653.7858  ,   241.664   ,\n",
       "          200.71234 ,   229.6917  ,   365.6426  ,   491.61737 ,\n",
       "          504.54987 ,   467.4137  ,   489.7394  ,   415.8368  ,\n",
       "          307.59302 ,   285.44888 ,   428.70956 ,   584.4924  ,\n",
       "          516.8087  ,   595.6674  ,   411.83444 ,   162.18903 ,\n",
       "          145.37515 ,   334.19443 ,   246.74936 ,   215.40993 ,\n",
       "          264.1331  ,   341.95923 ,   380.30405 ,   338.56595 ,\n",
       "          281.5662  ,   238.5704  ,   174.35594 ,   307.8558  ,\n",
       "          345.94092 ,   464.11194 ,   561.7186  ,   646.2287  ,\n",
       "          625.9026  ,   532.09937 ,   285.62497 ,   223.79443 ,\n",
       "          318.74118 ,   248.53513 ,   562.78436 ,   759.43896 ,\n",
       "          860.87354 ,  1154.2009  ,  1251.0646  ,  1247.2101  ,\n",
       "         1298.1444  ,   567.3183  ,   251.13614 ,   278.9938  ,\n",
       "          226.39413 ,   338.29608 ,   336.92734 ,   265.14423 ,\n",
       "          217.05008 ,   672.63385 ,   882.6709  ,   855.88336 ,\n",
       "         1019.35803 ,  1249.835   ,  1280.456   ,  1314.4961  ,\n",
       "          632.8708  ,   484.36438 ,   420.38657 ,   260.38718 ,\n",
       "          624.8056  ,   990.02106 ,  1017.5319  ,   919.05884 ,\n",
       "         1178.533   ,  1408.3364  ,  1904.8239  ,  1633.7714  ,\n",
       "         1192.1284  ,   674.242   ,   604.9521  ,   972.9281  ,\n",
       "         1204.9263  ,  1363.4519  ,  1378.1527  ,  1350.4559  ,\n",
       "         1101.2997  ,   703.3076  ,  1223.316   ,  1425.102   ,\n",
       "         1502.1896  ,   459.54675 ,   348.4193  ,   551.64197 ,\n",
       "          843.7437  ,   787.5989  ,   897.4341  ,   791.7717  ,\n",
       "          752.58923 ,   653.8482  ,   885.1505  ,  1905.3236  ,\n",
       "         2860.1362  ,  3281.406   ,  3557.5776  ,  3653.77    ,\n",
       "         3660.0186  ,  2554.4297  ,  1267.6621  ,   925.6123  ,\n",
       "         1075.2522  ,  1301.0342  ,  1473.5092  ,  1828.1636  ,\n",
       "         2801.7761  ,  3292.0962  ,  3251.5688  ,  3187.5154  ,\n",
       "         3379.4363  ,  3408.5154  ,  4165.453   ,  4234.404   ,\n",
       "         5202.1772  ,  6104.635   ,  5456.073   ,  4632.279   ,\n",
       "         4940.305   ,  3949.767   ,  3221.3552  ,  3152.0356  ,\n",
       "         4678.5635  ,  5873.686   ,  5220.1064  ,  1586.0184  ,\n",
       "         1453.9965  ,  1284.9172  ,  2963.2153  ,  3771.7898  ,\n",
       "         3876.5652  ,  3776.622   ,  3339.4758  ,  3624.7173  ,\n",
       "         3798.29    ,  1451.92    ,  1540.3851  ,  1437.0848  ,\n",
       "         1229.9243  ,  1279.0303  ,  2451.6096  ,  3849.44    ,\n",
       "         3891.8213  ,  2981.3196  ,  3219.57    ,  3524.72    ,\n",
       "         5588.383   ,  6664.252   ,  5793.246   ,  5805.3936  ,\n",
       "         6580.4614  ,  6361.1914  ,  8173.865   ,  5178.247   ,\n",
       "         1836.3792  ,  2486.362   ,  1826.4835  ,  3124.1047  ,\n",
       "         3083.0798  ,  3850.9783  ,  3287.689   ,  3909.1216  ,\n",
       "         3482.797   ,  3835.5054  ,  6679.7974  ,  7869.092   ,\n",
       "        10282.95    ,  8978.149   ,  5480.48    ,  3616.3398  ,\n",
       "         2135.39    ,  1295.8777  ,  2644.6785  ,  4043.3542  ,\n",
       "         3485.6704  ,  3489.9646  ,  4110.7144  ,  4892.719   ,\n",
       "         6107.91    ,  7138.7007  ,  6778.813   ,  5656.887   ,\n",
       "         4542.813   ,  2853.9568  ,  2036.6534  ,  2057.9084  ,\n",
       "         1760.0701  ,  2894.68    ,  2713.132   ,  2657.2437  ,\n",
       "         3966.2412  ,  5279.839   ,  6382.318   ,  5731.6816  ,\n",
       "         5376.0254  ,  1844.5288  ,  1960.1602  ,  2847.4656  ,\n",
       "         4180.655   ,  4624.117   ,  2403.1375  ,  2703.1477  ,\n",
       "         1925.0488  ,   783.9162  ,  1388.3987  ,  1515.1669  ,\n",
       "         1044.1842  ,  1092.8108  ,  1419.6317  ,  1177.2158  ,\n",
       "         1615.2876  ,  2735.1917  ,  3545.8242  ,  3862.4883  ,\n",
       "         2765.3428  ,  3083.6038  ,  3413.7578  ,  4640.995   ,\n",
       "         6578.3354  ,  8076.226   ,  9644.3     ,  9219.386   ,\n",
       "         7661.638   ,  5861.165   ,  5316.821   ,  3050.3157  ,\n",
       "         2160.8623  ,  2828.763   ,  4538.453   ,  6381.4897  ,\n",
       "         4394.528   ,  2010.8542  ,  2434.1497  ,  2715.4133  ,\n",
       "         1638.5615  ,  2297.3064  ,  1359.4976  ,  2207.3342  ,\n",
       "         2208.82    ,  2403.1946  ,  3488.5852  ,  5198.072   ,\n",
       "         7033.526   ,  8308.437   ,  9222.554   ], dtype=float32)}"
      ]
     },
     "execution_count": 59,
     "metadata": {},
     "output_type": "execute_result"
    }
   ],
   "source": [
    "# Calculate model_3 results - these are going to be multi-dimensional because\n",
    "# we're trying to predict more than one step at a time.\n",
    "model_3_results = evaluate_preds(y_true=tf.squeeze(test_labels),\n",
    "                                 y_pred=model_3_preds)\n",
    "model_3_results"
   ]
  },
  {
   "cell_type": "code",
   "execution_count": 60,
   "metadata": {
    "id": "v9Qiu9drXeVh"
   },
   "outputs": [],
   "source": [
    "\n",
    "def evaluate_preds(y_true, y_pred):\n",
    "  # Make sure float32 (for metric calculations)\n",
    "  y_true = tf.cast(y_true, dtype=tf.float32)\n",
    "  y_pred = tf.cast(y_pred, dtype=tf.float32)\n",
    "\n",
    "  # Calculate various metrics\n",
    "  mae = tf.keras.metrics.mean_absolute_error(y_true, y_pred)\n",
    "  mse = tf.keras.metrics.mean_squared_error(y_true, y_pred)\n",
    "  rmse = tf.sqrt(mse)\n",
    "  mape = tf.keras.metrics.mean_absolute_percentage_error(y_true, y_pred)\n",
    "  mase = mean_absolute_scaled_error(y_true, y_pred)\n",
    "\n",
    "  # Account for different sized metrics (for longer horizons, reduce to single number)\n",
    "  if mae.ndim > 0: # if mae isn't already a scalar, reduce it to one by aggregating tensors to mean\n",
    "    mae = tf.reduce_mean(mae)\n",
    "    mse = tf.reduce_mean(mse)\n",
    "    rmse = tf.reduce_mean(rmse)\n",
    "    mape = tf.reduce_mean(mape)\n",
    "    mase = tf.reduce_mean(mase)\n",
    "\n",
    "  return {\"mae\": mae.numpy(),\n",
    "          \"mse\": mse.numpy(),\n",
    "          \"rmse\": rmse.numpy(),\n",
    "          \"mape\": mape.numpy(),\n",
    "          \"mase\": mase.numpy()}"
   ]
  },
  {
   "cell_type": "code",
   "execution_count": 61,
   "metadata": {
    "colab": {
     "base_uri": "https://localhost:8080/"
    },
    "id": "UAARxP27XkBo",
    "outputId": "69b1e625-427a-496f-9960-4848e0f20443"
   },
   "outputs": [
    {
     "data": {
      "text/plain": [
       "{'mae': 1237.5063,\n",
       " 'mape': 5.5588784,\n",
       " 'mase': 2.2020736,\n",
       " 'mse': 5405198.5,\n",
       " 'rmse': 1425.7479}"
      ]
     },
     "execution_count": 61,
     "metadata": {},
     "output_type": "execute_result"
    }
   ],
   "source": [
    "# Get model_3 results aggregated to single values\n",
    "model_3_results = evaluate_preds(y_true=tf.squeeze(test_labels),\n",
    "                                 y_pred=model_3_preds)\n",
    "model_3_results"
   ]
  },
  {
   "cell_type": "code",
   "execution_count": 62,
   "metadata": {
    "colab": {
     "base_uri": "https://localhost:8080/",
     "height": 442
    },
    "id": "dgwNlMTDXmRd",
    "outputId": "405538ee-cc15-4ca4-fded-f5ce88586cf8"
   },
   "outputs": [
    {
     "data": {
      "image/png": "[encoded data removed]",
      "text/plain": [
       "<Figure size 720x504 with 1 Axes>"
      ]
     },
     "metadata": {
      "needs_background": "light"
     },
     "output_type": "display_data"
    }
   ],
   "source": [
    "offset = 300\n",
    "plt.figure(figsize=(10, 7))\n",
    "plot_time_series(timesteps=X_test[-len(test_windows):], values=test_labels[:, 0], start=offset, label=\"Test_data\")\n",
    "# Checking the shape of model_3_preds results in [n_test_samples, HORIZON] (this will screw up the plot)\n",
    "plot_time_series(timesteps=X_test[-len(test_windows):], values=model_3_preds, start=offset, label=\"model_3_preds\")"
   ]
  },
  {
   "cell_type": "code",
   "execution_count": 63,
   "metadata": {
    "colab": {
     "base_uri": "https://localhost:8080/",
     "height": 442
    },
    "id": "kLHkGfyNXoq1",
    "outputId": "dacc5df0-99ae-4d7c-fd1f-2117e74439c8"
   },
   "outputs": [
    {
     "data": {
      "image/png": "[encoded data removed]",
      "text/plain": [
       "<Figure size 720x504 with 1 Axes>"
      ]
     },
     "metadata": {
      "needs_background": "light"
     },
     "output_type": "display_data"
    }
   ],
   "source": [
    "\n",
    "offset = 300\n",
    "plt.figure(figsize=(10, 7))\n",
    "# Plot model_3_preds by aggregating them (note: this condenses information so the preds will look fruther ahead than the test data)\n",
    "plot_time_series(timesteps=X_test[-len(test_windows):], \n",
    "                 values=test_labels[:, 0], \n",
    "                 start=offset, \n",
    "                 label=\"Test_data\")\n",
    "plot_time_series(timesteps=X_test[-len(test_windows):], \n",
    "                 values=tf.reduce_mean(model_3_preds, axis=1), \n",
    "                 format=\"-\",\n",
    "                 start=offset, \n",
    "                 label=\"model_3_preds\")"
   ]
  },
  {
   "cell_type": "markdown",
   "metadata": {
    "id": "K_9B13E6XtTA"
   },
   "source": [
    "\n",
    "Which of our models is performing best so far?"
   ]
  },
  {
   "cell_type": "code",
   "execution_count": 64,
   "metadata": {
    "colab": {
     "base_uri": "https://localhost:8080/",
     "height": 440
    },
    "id": "IZWYc9pRXq6d",
    "outputId": "480a9fd2-de40-4579-f06a-88798cf783a3"
   },
   "outputs": [
    {
     "data": {
      "image/png": "[encoded data removed]",
      "text/plain": [
       "<Figure size 720x504 with 1 Axes>"
      ]
     },
     "metadata": {
      "needs_background": "light"
     },
     "output_type": "display_data"
    }
   ],
   "source": [
    "\n",
    "pd.DataFrame({\"naive\": naive_results[\"mae\"], \n",
    "              \"horizon_1_window_7\": model_1_results[\"mae\"], \n",
    "              \"horizon_1_window_30\": model_2_results[\"mae\"], \n",
    "              \"horizon_7_window_30\": model_3_results[\"mae\"]}, index=[\"mae\"]).plot(figsize=(10, 7), kind=\"bar\");"
   ]
  },
  {
   "cell_type": "markdown",
   "metadata": {
    "id": "5UBB3eIhXx-W"
   },
   "source": [
    "\n",
    "**Model 4: Conv1D**"
   ]
  },
  {
   "cell_type": "code",
   "execution_count": 65,
   "metadata": {
    "id": "-qtXD8lwXvrW"
   },
   "outputs": [],
   "source": [
    "HORIZON = 1 # predict next day\n",
    "WINDOW_SIZE = 7 # use previous week worth of data"
   ]
  },
  {
   "cell_type": "code",
   "execution_count": 66,
   "metadata": {
    "colab": {
     "base_uri": "https://localhost:8080/"
    },
    "id": "7ZFwyDt7X2FC",
    "outputId": "49f6081e-14b4-4876-c199-1bc0c309d019"
   },
   "outputs": [
    {
     "data": {
      "text/plain": [
       "(2780, 2780)"
      ]
     },
     "execution_count": 66,
     "metadata": {},
     "output_type": "execute_result"
    }
   ],
   "source": [
    "# Create windowed dataset\n",
    "full_windows, full_labels = make_windows(prices, window_size=WINDOW_SIZE, horizon=HORIZON)\n",
    "len(full_windows), len(full_labels)"
   ]
  },
  {
   "cell_type": "code",
   "execution_count": 67,
   "metadata": {
    "colab": {
     "base_uri": "https://localhost:8080/"
    },
    "id": "R1RQLd6wX38q",
    "outputId": "33b0de4f-1ffd-44d0-bf26-1b4274e8f946"
   },
   "outputs": [
    {
     "data": {
      "text/plain": [
       "(2224, 556, 2224, 556)"
      ]
     },
     "execution_count": 67,
     "metadata": {},
     "output_type": "execute_result"
    }
   ],
   "source": [
    "# Create train/test splits\n",
    "train_windows, test_windows, train_labels, test_labels = make_train_test_splits(full_windows, full_labels)\n",
    "len(train_windows), len(test_windows), len(train_labels), len(test_labels)"
   ]
  },
  {
   "cell_type": "code",
   "execution_count": 68,
   "metadata": {
    "colab": {
     "base_uri": "https://localhost:8080/"
    },
    "id": "kfQVo22zX5s6",
    "outputId": "b0c261ef-c0d7-44cc-cceb-78e3387c015d"
   },
   "outputs": [
    {
     "data": {
      "text/plain": [
       "(7,)"
      ]
     },
     "execution_count": 68,
     "metadata": {},
     "output_type": "execute_result"
    }
   ],
   "source": [
    "# Check data sample shapes\n",
    "train_windows[0].shape # returns (WINDOW_SIZE, )"
   ]
  },
  {
   "cell_type": "code",
   "execution_count": 69,
   "metadata": {
    "colab": {
     "base_uri": "https://localhost:8080/"
    },
    "id": "WCiqi095X7fi",
    "outputId": "47889d47-013e-436a-c64e-ed23040e404c"
   },
   "outputs": [
    {
     "name": "stdout",
     "output_type": "stream",
     "text": [
      "Original shape: (7,)\n",
      "Expanded shape: (7, 1)\n",
      "Original values with expanded shape:\n",
      " [[123.65499]\n",
      " [125.455  ]\n",
      " [108.58483]\n",
      " [118.67466]\n",
      " [121.33866]\n",
      " [120.65533]\n",
      " [121.795  ]]\n"
     ]
    }
   ],
   "source": [
    "\n",
    "# Before we pass our data to the Conv1D layer, we have to reshape it in order to make sure it works\n",
    "x = tf.constant(train_windows[0])\n",
    "expand_dims_layer = layers.Lambda(lambda x: tf.expand_dims(x, axis=1)) # add an extra dimension for timesteps\n",
    "print(f\"Original shape: {x.shape}\") # (WINDOW_SIZE)\n",
    "print(f\"Expanded shape: {expand_dims_layer(x).shape}\") # (WINDOW_SIZE, input_dim) \n",
    "print(f\"Original values with expanded shape:\\n {expand_dims_layer(x)}\")"
   ]
  },
  {
   "cell_type": "code",
   "execution_count": 70,
   "metadata": {
    "colab": {
     "base_uri": "https://localhost:8080/"
    },
    "id": "b6ftgzJ8X9hS",
    "outputId": "169000db-2d02-4e2c-9359-437d66667f45"
   },
   "outputs": [
    {
     "name": "stdout",
     "output_type": "stream",
     "text": [
      "INFO:tensorflow:Assets written to: model_experiments/model_4_conv1D/assets\n",
      "INFO:tensorflow:Assets written to: model_experiments/model_4_conv1D/assets\n",
      "INFO:tensorflow:Assets written to: model_experiments/model_4_conv1D/assets\n",
      "INFO:tensorflow:Assets written to: model_experiments/model_4_conv1D/assets\n",
      "INFO:tensorflow:Assets written to: model_experiments/model_4_conv1D/assets\n",
      "INFO:tensorflow:Assets written to: model_experiments/model_4_conv1D/assets\n",
      "INFO:tensorflow:Assets written to: model_experiments/model_4_conv1D/assets\n",
      "INFO:tensorflow:Assets written to: model_experiments/model_4_conv1D/assets\n",
      "INFO:tensorflow:Assets written to: model_experiments/model_4_conv1D/assets\n",
      "INFO:tensorflow:Assets written to: model_experiments/model_4_conv1D/assets\n",
      "INFO:tensorflow:Assets written to: model_experiments/model_4_conv1D/assets\n",
      "INFO:tensorflow:Assets written to: model_experiments/model_4_conv1D/assets\n",
      "INFO:tensorflow:Assets written to: model_experiments/model_4_conv1D/assets\n",
      "INFO:tensorflow:Assets written to: model_experiments/model_4_conv1D/assets\n",
      "INFO:tensorflow:Assets written to: model_experiments/model_4_conv1D/assets\n",
      "INFO:tensorflow:Assets written to: model_experiments/model_4_conv1D/assets\n",
      "INFO:tensorflow:Assets written to: model_experiments/model_4_conv1D/assets\n",
      "INFO:tensorflow:Assets written to: model_experiments/model_4_conv1D/assets\n",
      "INFO:tensorflow:Assets written to: model_experiments/model_4_conv1D/assets\n",
      "INFO:tensorflow:Assets written to: model_experiments/model_4_conv1D/assets\n",
      "INFO:tensorflow:Assets written to: model_experiments/model_4_conv1D/assets\n",
      "INFO:tensorflow:Assets written to: model_experiments/model_4_conv1D/assets\n",
      "INFO:tensorflow:Assets written to: model_experiments/model_4_conv1D/assets\n",
      "INFO:tensorflow:Assets written to: model_experiments/model_4_conv1D/assets\n",
      "INFO:tensorflow:Assets written to: model_experiments/model_4_conv1D/assets\n",
      "INFO:tensorflow:Assets written to: model_experiments/model_4_conv1D/assets\n",
      "INFO:tensorflow:Assets written to: model_experiments/model_4_conv1D/assets\n",
      "INFO:tensorflow:Assets written to: model_experiments/model_4_conv1D/assets\n",
      "INFO:tensorflow:Assets written to: model_experiments/model_4_conv1D/assets\n",
      "INFO:tensorflow:Assets written to: model_experiments/model_4_conv1D/assets\n",
      "INFO:tensorflow:Assets written to: model_experiments/model_4_conv1D/assets\n",
      "INFO:tensorflow:Assets written to: model_experiments/model_4_conv1D/assets\n",
      "INFO:tensorflow:Assets written to: model_experiments/model_4_conv1D/assets\n",
      "INFO:tensorflow:Assets written to: model_experiments/model_4_conv1D/assets\n",
      "INFO:tensorflow:Assets written to: model_experiments/model_4_conv1D/assets\n",
      "INFO:tensorflow:Assets written to: model_experiments/model_4_conv1D/assets\n",
      "INFO:tensorflow:Assets written to: model_experiments/model_4_conv1D/assets\n",
      "INFO:tensorflow:Assets written to: model_experiments/model_4_conv1D/assets\n",
      "INFO:tensorflow:Assets written to: model_experiments/model_4_conv1D/assets\n"
     ]
    },
    {
     "data": {
      "text/plain": [
       "<keras.callbacks.History at 0x7faff6832a10>"
      ]
     },
     "execution_count": 70,
     "metadata": {},
     "output_type": "execute_result"
    }
   ],
   "source": [
    "tf.random.set_seed(42)\n",
    "\n",
    "# Create model\n",
    "model_4 = tf.keras.Sequential([\n",
    "  # Create Lambda layer to reshape inputs, without this layer, the model will error\n",
    "  layers.Lambda(lambda x: tf.expand_dims(x, axis=1)), # resize the inputs to adjust for window size / Conv1D 3D input requirements\n",
    "  layers.Conv1D(filters=128, kernel_size=5, padding=\"causal\", activation=\"relu\"),\n",
    "  layers.Dense(HORIZON)\n",
    "], name=\"model_4_conv1D\")\n",
    "\n",
    "# Compile model\n",
    "model_4.compile(loss=\"mae\",\n",
    "                optimizer=tf.keras.optimizers.Adam())\n",
    "\n",
    "# Fit model\n",
    "model_4.fit(train_windows,\n",
    "            train_labels,\n",
    "            batch_size=128, \n",
    "            epochs=100,\n",
    "            verbose=0,\n",
    "            validation_data=(test_windows, test_labels),\n",
    "            callbacks=[create_model_checkpoint(model_name=model_4.name)])"
   ]
  },
  {
   "cell_type": "code",
   "execution_count": 71,
   "metadata": {
    "colab": {
     "base_uri": "https://localhost:8080/"
    },
    "id": "L8GEd6AWX_wq",
    "outputId": "5598c6c6-093c-492b-d0ee-d055d27555a1"
   },
   "outputs": [
    {
     "name": "stdout",
     "output_type": "stream",
     "text": [
      "Model: \"model_4_conv1D\"\n",
      "_________________________________________________________________\n",
      " Layer (type)                Output Shape              Param #   \n",
      "=================================================================\n",
      " lambda_1 (Lambda)           (None, 1, 7)              0         \n",
      "                                                                 \n",
      " conv1d (Conv1D)             (None, 1, 128)            4608      \n",
      "                                                                 \n",
      " dense_6 (Dense)             (None, 1, 1)              129       \n",
      "                                                                 \n",
      "=================================================================\n",
      "Total params: 4,737\n",
      "Trainable params: 4,737\n",
      "Non-trainable params: 0\n",
      "_________________________________________________________________\n"
     ]
    }
   ],
   "source": [
    "model_4.summary()"
   ]
  },
  {
   "cell_type": "code",
   "execution_count": 72,
   "metadata": {
    "colab": {
     "base_uri": "https://localhost:8080/"
    },
    "id": "dNUtsr0rYTno",
    "outputId": "c23fb28c-caf9-4c6b-c5a6-85473eb5b432"
   },
   "outputs": [
    {
     "name": "stdout",
     "output_type": "stream",
     "text": [
      "18/18 [==============================] - 0s 4ms/step - loss: 570.8283\n"
     ]
    },
    {
     "data": {
      "text/plain": [
       "570.8283081054688"
      ]
     },
     "execution_count": 72,
     "metadata": {},
     "output_type": "execute_result"
    }
   ],
   "source": [
    "# Load in best performing Conv1D model and evaluate it on the test data\n",
    "model_4 = tf.keras.models.load_model(\"model_experiments/model_4_conv1D\")\n",
    "model_4.evaluate(test_windows, test_labels)"
   ]
  },
  {
   "cell_type": "code",
   "execution_count": 73,
   "metadata": {
    "colab": {
     "base_uri": "https://localhost:8080/"
    },
    "id": "O22Y_9YyYWBY",
    "outputId": "c71f7988-db1c-4d5f-8d06-35d6b360aa92"
   },
   "outputs": [
    {
     "data": {
      "text/plain": [
       "<tf.Tensor: shape=(10,), dtype=float32, numpy=\n",
       "array([8851.465, 8754.47 , 8983.928, 8759.672, 8703.628, 8708.294,\n",
       "       8661.669, 8494.84 , 8435.317, 8492.115], dtype=float32)>"
      ]
     },
     "execution_count": 73,
     "metadata": {},
     "output_type": "execute_result"
    }
   ],
   "source": [
    "# Make predictions\n",
    "model_4_preds = make_preds(model_4, test_windows)\n",
    "model_4_preds[:10]"
   ]
  },
  {
   "cell_type": "code",
   "execution_count": 74,
   "metadata": {
    "colab": {
     "base_uri": "https://localhost:8080/"
    },
    "id": "hfPK4t1HYX-Y",
    "outputId": "e2da1133-845d-4fc0-e75a-f1cd6716e3f7"
   },
   "outputs": [
    {
     "data": {
      "text/plain": [
       "{'mae': 570.82825,\n",
       " 'mape': 2.5593355,\n",
       " 'mase': 1.0027871,\n",
       " 'mse': 1176671.1,\n",
       " 'rmse': 1084.7448}"
      ]
     },
     "execution_count": 74,
     "metadata": {},
     "output_type": "execute_result"
    }
   ],
   "source": [
    "# Evaluate predictions\n",
    "model_4_results = evaluate_preds(y_true=tf.squeeze(test_labels),\n",
    "                                 y_pred=model_4_preds)\n",
    "model_4_results"
   ]
  },
  {
   "cell_type": "markdown",
   "metadata": {
    "id": "x45gH5YCYbvD"
   },
   "source": [
    "\n",
    "**Model 5: RNN (LSTM)**"
   ]
  },
  {
   "cell_type": "code",
   "execution_count": 75,
   "metadata": {
    "colab": {
     "base_uri": "https://localhost:8080/"
    },
    "id": "K4lbHdNLYZrQ",
    "outputId": "5a9ca224-9653-4dbd-8569-9fa6a74048ef"
   },
   "outputs": [
    {
     "name": "stdout",
     "output_type": "stream",
     "text": [
      "WARNING:tensorflow:Layer lstm will not use cuDNN kernels since it doesn't meet the criteria. It will use a generic GPU kernel as fallback when running on GPU.\n",
      "INFO:tensorflow:Assets written to: model_experiments/model_5_lstm/assets\n"
     ]
    },
    {
     "name": "stderr",
     "output_type": "stream",
     "text": [
      "WARNING:absl:<keras.layers.recurrent.LSTMCell object at 0x7faff823a310> has the same name 'LSTMCell' as a built-in Keras object. Consider renaming <class 'keras.layers.recurrent.LSTMCell'> to avoid naming conflicts when loading with `tf.keras.models.load_model`. If renaming is not possible, pass the object in the `custom_objects` parameter of the load function.\n"
     ]
    },
    {
     "name": "stdout",
     "output_type": "stream",
     "text": [
      "INFO:tensorflow:Assets written to: model_experiments/model_5_lstm/assets\n"
     ]
    },
    {
     "name": "stderr",
     "output_type": "stream",
     "text": [
      "INFO:tensorflow:Assets written to: model_experiments/model_5_lstm/assets\n",
      "WARNING:absl:<keras.layers.recurrent.LSTMCell object at 0x7faff823a310> has the same name 'LSTMCell' as a built-in Keras object. Consider renaming <class 'keras.layers.recurrent.LSTMCell'> to avoid naming conflicts when loading with `tf.keras.models.load_model`. If renaming is not possible, pass the object in the `custom_objects` parameter of the load function.\n"
     ]
    },
    {
     "name": "stdout",
     "output_type": "stream",
     "text": [
      "INFO:tensorflow:Assets written to: model_experiments/model_5_lstm/assets\n"
     ]
    },
    {
     "name": "stderr",
     "output_type": "stream",
     "text": [
      "INFO:tensorflow:Assets written to: model_experiments/model_5_lstm/assets\n",
      "WARNING:absl:<keras.layers.recurrent.LSTMCell object at 0x7faff823a310> has the same name 'LSTMCell' as a built-in Keras object. Consider renaming <class 'keras.layers.recurrent.LSTMCell'> to avoid naming conflicts when loading with `tf.keras.models.load_model`. If renaming is not possible, pass the object in the `custom_objects` parameter of the load function.\n"
     ]
    },
    {
     "name": "stdout",
     "output_type": "stream",
     "text": [
      "INFO:tensorflow:Assets written to: model_experiments/model_5_lstm/assets\n"
     ]
    },
    {
     "name": "stderr",
     "output_type": "stream",
     "text": [
      "INFO:tensorflow:Assets written to: model_experiments/model_5_lstm/assets\n",
      "WARNING:absl:<keras.layers.recurrent.LSTMCell object at 0x7faff823a310> has the same name 'LSTMCell' as a built-in Keras object. Consider renaming <class 'keras.layers.recurrent.LSTMCell'> to avoid naming conflicts when loading with `tf.keras.models.load_model`. If renaming is not possible, pass the object in the `custom_objects` parameter of the load function.\n"
     ]
    },
    {
     "name": "stdout",
     "output_type": "stream",
     "text": [
      "INFO:tensorflow:Assets written to: model_experiments/model_5_lstm/assets\n"
     ]
    },
    {
     "name": "stderr",
     "output_type": "stream",
     "text": [
      "INFO:tensorflow:Assets written to: model_experiments/model_5_lstm/assets\n",
      "WARNING:absl:<keras.layers.recurrent.LSTMCell object at 0x7faff823a310> has the same name 'LSTMCell' as a built-in Keras object. Consider renaming <class 'keras.layers.recurrent.LSTMCell'> to avoid naming conflicts when loading with `tf.keras.models.load_model`. If renaming is not possible, pass the object in the `custom_objects` parameter of the load function.\n"
     ]
    },
    {
     "name": "stdout",
     "output_type": "stream",
     "text": [
      "INFO:tensorflow:Assets written to: model_experiments/model_5_lstm/assets\n"
     ]
    },
    {
     "name": "stderr",
     "output_type": "stream",
     "text": [
      "INFO:tensorflow:Assets written to: model_experiments/model_5_lstm/assets\n",
      "WARNING:absl:<keras.layers.recurrent.LSTMCell object at 0x7faff823a310> has the same name 'LSTMCell' as a built-in Keras object. Consider renaming <class 'keras.layers.recurrent.LSTMCell'> to avoid naming conflicts when loading with `tf.keras.models.load_model`. If renaming is not possible, pass the object in the `custom_objects` parameter of the load function.\n"
     ]
    },
    {
     "name": "stdout",
     "output_type": "stream",
     "text": [
      "INFO:tensorflow:Assets written to: model_experiments/model_5_lstm/assets\n"
     ]
    },
    {
     "name": "stderr",
     "output_type": "stream",
     "text": [
      "INFO:tensorflow:Assets written to: model_experiments/model_5_lstm/assets\n",
      "WARNING:absl:<keras.layers.recurrent.LSTMCell object at 0x7faff823a310> has the same name 'LSTMCell' as a built-in Keras object. Consider renaming <class 'keras.layers.recurrent.LSTMCell'> to avoid naming conflicts when loading with `tf.keras.models.load_model`. If renaming is not possible, pass the object in the `custom_objects` parameter of the load function.\n"
     ]
    },
    {
     "name": "stdout",
     "output_type": "stream",
     "text": [
      "INFO:tensorflow:Assets written to: model_experiments/model_5_lstm/assets\n"
     ]
    },
    {
     "name": "stderr",
     "output_type": "stream",
     "text": [
      "INFO:tensorflow:Assets written to: model_experiments/model_5_lstm/assets\n",
      "WARNING:absl:<keras.layers.recurrent.LSTMCell object at 0x7faff823a310> has the same name 'LSTMCell' as a built-in Keras object. Consider renaming <class 'keras.layers.recurrent.LSTMCell'> to avoid naming conflicts when loading with `tf.keras.models.load_model`. If renaming is not possible, pass the object in the `custom_objects` parameter of the load function.\n"
     ]
    },
    {
     "name": "stdout",
     "output_type": "stream",
     "text": [
      "INFO:tensorflow:Assets written to: model_experiments/model_5_lstm/assets\n"
     ]
    },
    {
     "name": "stderr",
     "output_type": "stream",
     "text": [
      "INFO:tensorflow:Assets written to: model_experiments/model_5_lstm/assets\n",
      "WARNING:absl:<keras.layers.recurrent.LSTMCell object at 0x7faff823a310> has the same name 'LSTMCell' as a built-in Keras object. Consider renaming <class 'keras.layers.recurrent.LSTMCell'> to avoid naming conflicts when loading with `tf.keras.models.load_model`. If renaming is not possible, pass the object in the `custom_objects` parameter of the load function.\n"
     ]
    },
    {
     "name": "stdout",
     "output_type": "stream",
     "text": [
      "INFO:tensorflow:Assets written to: model_experiments/model_5_lstm/assets\n"
     ]
    },
    {
     "name": "stderr",
     "output_type": "stream",
     "text": [
      "INFO:tensorflow:Assets written to: model_experiments/model_5_lstm/assets\n",
      "WARNING:absl:<keras.layers.recurrent.LSTMCell object at 0x7faff823a310> has the same name 'LSTMCell' as a built-in Keras object. Consider renaming <class 'keras.layers.recurrent.LSTMCell'> to avoid naming conflicts when loading with `tf.keras.models.load_model`. If renaming is not possible, pass the object in the `custom_objects` parameter of the load function.\n"
     ]
    },
    {
     "name": "stdout",
     "output_type": "stream",
     "text": [
      "INFO:tensorflow:Assets written to: model_experiments/model_5_lstm/assets\n"
     ]
    },
    {
     "name": "stderr",
     "output_type": "stream",
     "text": [
      "INFO:tensorflow:Assets written to: model_experiments/model_5_lstm/assets\n",
      "WARNING:absl:<keras.layers.recurrent.LSTMCell object at 0x7faff823a310> has the same name 'LSTMCell' as a built-in Keras object. Consider renaming <class 'keras.layers.recurrent.LSTMCell'> to avoid naming conflicts when loading with `tf.keras.models.load_model`. If renaming is not possible, pass the object in the `custom_objects` parameter of the load function.\n"
     ]
    },
    {
     "name": "stdout",
     "output_type": "stream",
     "text": [
      "INFO:tensorflow:Assets written to: model_experiments/model_5_lstm/assets\n"
     ]
    },
    {
     "name": "stderr",
     "output_type": "stream",
     "text": [
      "INFO:tensorflow:Assets written to: model_experiments/model_5_lstm/assets\n",
      "WARNING:absl:<keras.layers.recurrent.LSTMCell object at 0x7faff823a310> has the same name 'LSTMCell' as a built-in Keras object. Consider renaming <class 'keras.layers.recurrent.LSTMCell'> to avoid naming conflicts when loading with `tf.keras.models.load_model`. If renaming is not possible, pass the object in the `custom_objects` parameter of the load function.\n"
     ]
    },
    {
     "name": "stdout",
     "output_type": "stream",
     "text": [
      "INFO:tensorflow:Assets written to: model_experiments/model_5_lstm/assets\n"
     ]
    },
    {
     "name": "stderr",
     "output_type": "stream",
     "text": [
      "INFO:tensorflow:Assets written to: model_experiments/model_5_lstm/assets\n",
      "WARNING:absl:<keras.layers.recurrent.LSTMCell object at 0x7faff823a310> has the same name 'LSTMCell' as a built-in Keras object. Consider renaming <class 'keras.layers.recurrent.LSTMCell'> to avoid naming conflicts when loading with `tf.keras.models.load_model`. If renaming is not possible, pass the object in the `custom_objects` parameter of the load function.\n"
     ]
    },
    {
     "name": "stdout",
     "output_type": "stream",
     "text": [
      "INFO:tensorflow:Assets written to: model_experiments/model_5_lstm/assets\n"
     ]
    },
    {
     "name": "stderr",
     "output_type": "stream",
     "text": [
      "INFO:tensorflow:Assets written to: model_experiments/model_5_lstm/assets\n",
      "WARNING:absl:<keras.layers.recurrent.LSTMCell object at 0x7faff823a310> has the same name 'LSTMCell' as a built-in Keras object. Consider renaming <class 'keras.layers.recurrent.LSTMCell'> to avoid naming conflicts when loading with `tf.keras.models.load_model`. If renaming is not possible, pass the object in the `custom_objects` parameter of the load function.\n"
     ]
    },
    {
     "name": "stdout",
     "output_type": "stream",
     "text": [
      "INFO:tensorflow:Assets written to: model_experiments/model_5_lstm/assets\n"
     ]
    },
    {
     "name": "stderr",
     "output_type": "stream",
     "text": [
      "INFO:tensorflow:Assets written to: model_experiments/model_5_lstm/assets\n",
      "WARNING:absl:<keras.layers.recurrent.LSTMCell object at 0x7faff823a310> has the same name 'LSTMCell' as a built-in Keras object. Consider renaming <class 'keras.layers.recurrent.LSTMCell'> to avoid naming conflicts when loading with `tf.keras.models.load_model`. If renaming is not possible, pass the object in the `custom_objects` parameter of the load function.\n"
     ]
    },
    {
     "name": "stdout",
     "output_type": "stream",
     "text": [
      "INFO:tensorflow:Assets written to: model_experiments/model_5_lstm/assets\n"
     ]
    },
    {
     "name": "stderr",
     "output_type": "stream",
     "text": [
      "INFO:tensorflow:Assets written to: model_experiments/model_5_lstm/assets\n",
      "WARNING:absl:<keras.layers.recurrent.LSTMCell object at 0x7faff823a310> has the same name 'LSTMCell' as a built-in Keras object. Consider renaming <class 'keras.layers.recurrent.LSTMCell'> to avoid naming conflicts when loading with `tf.keras.models.load_model`. If renaming is not possible, pass the object in the `custom_objects` parameter of the load function.\n"
     ]
    },
    {
     "name": "stdout",
     "output_type": "stream",
     "text": [
      "INFO:tensorflow:Assets written to: model_experiments/model_5_lstm/assets\n"
     ]
    },
    {
     "name": "stderr",
     "output_type": "stream",
     "text": [
      "INFO:tensorflow:Assets written to: model_experiments/model_5_lstm/assets\n",
      "WARNING:absl:<keras.layers.recurrent.LSTMCell object at 0x7faff823a310> has the same name 'LSTMCell' as a built-in Keras object. Consider renaming <class 'keras.layers.recurrent.LSTMCell'> to avoid naming conflicts when loading with `tf.keras.models.load_model`. If renaming is not possible, pass the object in the `custom_objects` parameter of the load function.\n"
     ]
    },
    {
     "name": "stdout",
     "output_type": "stream",
     "text": [
      "INFO:tensorflow:Assets written to: model_experiments/model_5_lstm/assets\n"
     ]
    },
    {
     "name": "stderr",
     "output_type": "stream",
     "text": [
      "INFO:tensorflow:Assets written to: model_experiments/model_5_lstm/assets\n",
      "WARNING:absl:<keras.layers.recurrent.LSTMCell object at 0x7faff823a310> has the same name 'LSTMCell' as a built-in Keras object. Consider renaming <class 'keras.layers.recurrent.LSTMCell'> to avoid naming conflicts when loading with `tf.keras.models.load_model`. If renaming is not possible, pass the object in the `custom_objects` parameter of the load function.\n"
     ]
    },
    {
     "name": "stdout",
     "output_type": "stream",
     "text": [
      "INFO:tensorflow:Assets written to: model_experiments/model_5_lstm/assets\n"
     ]
    },
    {
     "name": "stderr",
     "output_type": "stream",
     "text": [
      "INFO:tensorflow:Assets written to: model_experiments/model_5_lstm/assets\n",
      "WARNING:absl:<keras.layers.recurrent.LSTMCell object at 0x7faff823a310> has the same name 'LSTMCell' as a built-in Keras object. Consider renaming <class 'keras.layers.recurrent.LSTMCell'> to avoid naming conflicts when loading with `tf.keras.models.load_model`. If renaming is not possible, pass the object in the `custom_objects` parameter of the load function.\n"
     ]
    },
    {
     "name": "stdout",
     "output_type": "stream",
     "text": [
      "INFO:tensorflow:Assets written to: model_experiments/model_5_lstm/assets\n"
     ]
    },
    {
     "name": "stderr",
     "output_type": "stream",
     "text": [
      "INFO:tensorflow:Assets written to: model_experiments/model_5_lstm/assets\n",
      "WARNING:absl:<keras.layers.recurrent.LSTMCell object at 0x7faff823a310> has the same name 'LSTMCell' as a built-in Keras object. Consider renaming <class 'keras.layers.recurrent.LSTMCell'> to avoid naming conflicts when loading with `tf.keras.models.load_model`. If renaming is not possible, pass the object in the `custom_objects` parameter of the load function.\n"
     ]
    },
    {
     "name": "stdout",
     "output_type": "stream",
     "text": [
      "INFO:tensorflow:Assets written to: model_experiments/model_5_lstm/assets\n"
     ]
    },
    {
     "name": "stderr",
     "output_type": "stream",
     "text": [
      "INFO:tensorflow:Assets written to: model_experiments/model_5_lstm/assets\n",
      "WARNING:absl:<keras.layers.recurrent.LSTMCell object at 0x7faff823a310> has the same name 'LSTMCell' as a built-in Keras object. Consider renaming <class 'keras.layers.recurrent.LSTMCell'> to avoid naming conflicts when loading with `tf.keras.models.load_model`. If renaming is not possible, pass the object in the `custom_objects` parameter of the load function.\n"
     ]
    },
    {
     "name": "stdout",
     "output_type": "stream",
     "text": [
      "INFO:tensorflow:Assets written to: model_experiments/model_5_lstm/assets\n"
     ]
    },
    {
     "name": "stderr",
     "output_type": "stream",
     "text": [
      "INFO:tensorflow:Assets written to: model_experiments/model_5_lstm/assets\n",
      "WARNING:absl:<keras.layers.recurrent.LSTMCell object at 0x7faff823a310> has the same name 'LSTMCell' as a built-in Keras object. Consider renaming <class 'keras.layers.recurrent.LSTMCell'> to avoid naming conflicts when loading with `tf.keras.models.load_model`. If renaming is not possible, pass the object in the `custom_objects` parameter of the load function.\n"
     ]
    },
    {
     "name": "stdout",
     "output_type": "stream",
     "text": [
      "INFO:tensorflow:Assets written to: model_experiments/model_5_lstm/assets\n"
     ]
    },
    {
     "name": "stderr",
     "output_type": "stream",
     "text": [
      "INFO:tensorflow:Assets written to: model_experiments/model_5_lstm/assets\n",
      "WARNING:absl:<keras.layers.recurrent.LSTMCell object at 0x7faff823a310> has the same name 'LSTMCell' as a built-in Keras object. Consider renaming <class 'keras.layers.recurrent.LSTMCell'> to avoid naming conflicts when loading with `tf.keras.models.load_model`. If renaming is not possible, pass the object in the `custom_objects` parameter of the load function.\n"
     ]
    },
    {
     "name": "stdout",
     "output_type": "stream",
     "text": [
      "INFO:tensorflow:Assets written to: model_experiments/model_5_lstm/assets\n"
     ]
    },
    {
     "name": "stderr",
     "output_type": "stream",
     "text": [
      "INFO:tensorflow:Assets written to: model_experiments/model_5_lstm/assets\n",
      "WARNING:absl:<keras.layers.recurrent.LSTMCell object at 0x7faff823a310> has the same name 'LSTMCell' as a built-in Keras object. Consider renaming <class 'keras.layers.recurrent.LSTMCell'> to avoid naming conflicts when loading with `tf.keras.models.load_model`. If renaming is not possible, pass the object in the `custom_objects` parameter of the load function.\n"
     ]
    },
    {
     "name": "stdout",
     "output_type": "stream",
     "text": [
      "INFO:tensorflow:Assets written to: model_experiments/model_5_lstm/assets\n"
     ]
    },
    {
     "name": "stderr",
     "output_type": "stream",
     "text": [
      "INFO:tensorflow:Assets written to: model_experiments/model_5_lstm/assets\n",
      "WARNING:absl:<keras.layers.recurrent.LSTMCell object at 0x7faff823a310> has the same name 'LSTMCell' as a built-in Keras object. Consider renaming <class 'keras.layers.recurrent.LSTMCell'> to avoid naming conflicts when loading with `tf.keras.models.load_model`. If renaming is not possible, pass the object in the `custom_objects` parameter of the load function.\n"
     ]
    },
    {
     "name": "stdout",
     "output_type": "stream",
     "text": [
      "INFO:tensorflow:Assets written to: model_experiments/model_5_lstm/assets\n"
     ]
    },
    {
     "name": "stderr",
     "output_type": "stream",
     "text": [
      "INFO:tensorflow:Assets written to: model_experiments/model_5_lstm/assets\n",
      "WARNING:absl:<keras.layers.recurrent.LSTMCell object at 0x7faff823a310> has the same name 'LSTMCell' as a built-in Keras object. Consider renaming <class 'keras.layers.recurrent.LSTMCell'> to avoid naming conflicts when loading with `tf.keras.models.load_model`. If renaming is not possible, pass the object in the `custom_objects` parameter of the load function.\n"
     ]
    },
    {
     "name": "stdout",
     "output_type": "stream",
     "text": [
      "INFO:tensorflow:Assets written to: model_experiments/model_5_lstm/assets\n"
     ]
    },
    {
     "name": "stderr",
     "output_type": "stream",
     "text": [
      "INFO:tensorflow:Assets written to: model_experiments/model_5_lstm/assets\n",
      "WARNING:absl:<keras.layers.recurrent.LSTMCell object at 0x7faff823a310> has the same name 'LSTMCell' as a built-in Keras object. Consider renaming <class 'keras.layers.recurrent.LSTMCell'> to avoid naming conflicts when loading with `tf.keras.models.load_model`. If renaming is not possible, pass the object in the `custom_objects` parameter of the load function.\n"
     ]
    },
    {
     "name": "stdout",
     "output_type": "stream",
     "text": [
      "INFO:tensorflow:Assets written to: model_experiments/model_5_lstm/assets\n"
     ]
    },
    {
     "name": "stderr",
     "output_type": "stream",
     "text": [
      "INFO:tensorflow:Assets written to: model_experiments/model_5_lstm/assets\n",
      "WARNING:absl:<keras.layers.recurrent.LSTMCell object at 0x7faff823a310> has the same name 'LSTMCell' as a built-in Keras object. Consider renaming <class 'keras.layers.recurrent.LSTMCell'> to avoid naming conflicts when loading with `tf.keras.models.load_model`. If renaming is not possible, pass the object in the `custom_objects` parameter of the load function.\n"
     ]
    },
    {
     "name": "stdout",
     "output_type": "stream",
     "text": [
      "INFO:tensorflow:Assets written to: model_experiments/model_5_lstm/assets\n"
     ]
    },
    {
     "name": "stderr",
     "output_type": "stream",
     "text": [
      "INFO:tensorflow:Assets written to: model_experiments/model_5_lstm/assets\n",
      "WARNING:absl:<keras.layers.recurrent.LSTMCell object at 0x7faff823a310> has the same name 'LSTMCell' as a built-in Keras object. Consider renaming <class 'keras.layers.recurrent.LSTMCell'> to avoid naming conflicts when loading with `tf.keras.models.load_model`. If renaming is not possible, pass the object in the `custom_objects` parameter of the load function.\n"
     ]
    },
    {
     "name": "stdout",
     "output_type": "stream",
     "text": [
      "INFO:tensorflow:Assets written to: model_experiments/model_5_lstm/assets\n"
     ]
    },
    {
     "name": "stderr",
     "output_type": "stream",
     "text": [
      "INFO:tensorflow:Assets written to: model_experiments/model_5_lstm/assets\n",
      "WARNING:absl:<keras.layers.recurrent.LSTMCell object at 0x7faff823a310> has the same name 'LSTMCell' as a built-in Keras object. Consider renaming <class 'keras.layers.recurrent.LSTMCell'> to avoid naming conflicts when loading with `tf.keras.models.load_model`. If renaming is not possible, pass the object in the `custom_objects` parameter of the load function.\n"
     ]
    },
    {
     "name": "stdout",
     "output_type": "stream",
     "text": [
      "INFO:tensorflow:Assets written to: model_experiments/model_5_lstm/assets\n"
     ]
    },
    {
     "name": "stderr",
     "output_type": "stream",
     "text": [
      "INFO:tensorflow:Assets written to: model_experiments/model_5_lstm/assets\n",
      "WARNING:absl:<keras.layers.recurrent.LSTMCell object at 0x7faff823a310> has the same name 'LSTMCell' as a built-in Keras object. Consider renaming <class 'keras.layers.recurrent.LSTMCell'> to avoid naming conflicts when loading with `tf.keras.models.load_model`. If renaming is not possible, pass the object in the `custom_objects` parameter of the load function.\n"
     ]
    },
    {
     "name": "stdout",
     "output_type": "stream",
     "text": [
      "INFO:tensorflow:Assets written to: model_experiments/model_5_lstm/assets\n"
     ]
    },
    {
     "name": "stderr",
     "output_type": "stream",
     "text": [
      "INFO:tensorflow:Assets written to: model_experiments/model_5_lstm/assets\n",
      "WARNING:absl:<keras.layers.recurrent.LSTMCell object at 0x7faff823a310> has the same name 'LSTMCell' as a built-in Keras object. Consider renaming <class 'keras.layers.recurrent.LSTMCell'> to avoid naming conflicts when loading with `tf.keras.models.load_model`. If renaming is not possible, pass the object in the `custom_objects` parameter of the load function.\n"
     ]
    },
    {
     "name": "stdout",
     "output_type": "stream",
     "text": [
      "INFO:tensorflow:Assets written to: model_experiments/model_5_lstm/assets\n"
     ]
    },
    {
     "name": "stderr",
     "output_type": "stream",
     "text": [
      "INFO:tensorflow:Assets written to: model_experiments/model_5_lstm/assets\n",
      "WARNING:absl:<keras.layers.recurrent.LSTMCell object at 0x7faff823a310> has the same name 'LSTMCell' as a built-in Keras object. Consider renaming <class 'keras.layers.recurrent.LSTMCell'> to avoid naming conflicts when loading with `tf.keras.models.load_model`. If renaming is not possible, pass the object in the `custom_objects` parameter of the load function.\n"
     ]
    },
    {
     "name": "stdout",
     "output_type": "stream",
     "text": [
      "INFO:tensorflow:Assets written to: model_experiments/model_5_lstm/assets\n"
     ]
    },
    {
     "name": "stderr",
     "output_type": "stream",
     "text": [
      "INFO:tensorflow:Assets written to: model_experiments/model_5_lstm/assets\n",
      "WARNING:absl:<keras.layers.recurrent.LSTMCell object at 0x7faff823a310> has the same name 'LSTMCell' as a built-in Keras object. Consider renaming <class 'keras.layers.recurrent.LSTMCell'> to avoid naming conflicts when loading with `tf.keras.models.load_model`. If renaming is not possible, pass the object in the `custom_objects` parameter of the load function.\n"
     ]
    },
    {
     "name": "stdout",
     "output_type": "stream",
     "text": [
      "INFO:tensorflow:Assets written to: model_experiments/model_5_lstm/assets\n"
     ]
    },
    {
     "name": "stderr",
     "output_type": "stream",
     "text": [
      "INFO:tensorflow:Assets written to: model_experiments/model_5_lstm/assets\n",
      "WARNING:absl:<keras.layers.recurrent.LSTMCell object at 0x7faff823a310> has the same name 'LSTMCell' as a built-in Keras object. Consider renaming <class 'keras.layers.recurrent.LSTMCell'> to avoid naming conflicts when loading with `tf.keras.models.load_model`. If renaming is not possible, pass the object in the `custom_objects` parameter of the load function.\n"
     ]
    },
    {
     "name": "stdout",
     "output_type": "stream",
     "text": [
      "INFO:tensorflow:Assets written to: model_experiments/model_5_lstm/assets\n"
     ]
    },
    {
     "name": "stderr",
     "output_type": "stream",
     "text": [
      "INFO:tensorflow:Assets written to: model_experiments/model_5_lstm/assets\n",
      "WARNING:absl:<keras.layers.recurrent.LSTMCell object at 0x7faff823a310> has the same name 'LSTMCell' as a built-in Keras object. Consider renaming <class 'keras.layers.recurrent.LSTMCell'> to avoid naming conflicts when loading with `tf.keras.models.load_model`. If renaming is not possible, pass the object in the `custom_objects` parameter of the load function.\n"
     ]
    },
    {
     "name": "stdout",
     "output_type": "stream",
     "text": [
      "INFO:tensorflow:Assets written to: model_experiments/model_5_lstm/assets\n"
     ]
    },
    {
     "name": "stderr",
     "output_type": "stream",
     "text": [
      "INFO:tensorflow:Assets written to: model_experiments/model_5_lstm/assets\n",
      "WARNING:absl:<keras.layers.recurrent.LSTMCell object at 0x7faff823a310> has the same name 'LSTMCell' as a built-in Keras object. Consider renaming <class 'keras.layers.recurrent.LSTMCell'> to avoid naming conflicts when loading with `tf.keras.models.load_model`. If renaming is not possible, pass the object in the `custom_objects` parameter of the load function.\n"
     ]
    },
    {
     "name": "stdout",
     "output_type": "stream",
     "text": [
      "INFO:tensorflow:Assets written to: model_experiments/model_5_lstm/assets\n"
     ]
    },
    {
     "name": "stderr",
     "output_type": "stream",
     "text": [
      "INFO:tensorflow:Assets written to: model_experiments/model_5_lstm/assets\n",
      "WARNING:absl:<keras.layers.recurrent.LSTMCell object at 0x7faff823a310> has the same name 'LSTMCell' as a built-in Keras object. Consider renaming <class 'keras.layers.recurrent.LSTMCell'> to avoid naming conflicts when loading with `tf.keras.models.load_model`. If renaming is not possible, pass the object in the `custom_objects` parameter of the load function.\n"
     ]
    },
    {
     "name": "stdout",
     "output_type": "stream",
     "text": [
      "INFO:tensorflow:Assets written to: model_experiments/model_5_lstm/assets\n"
     ]
    },
    {
     "name": "stderr",
     "output_type": "stream",
     "text": [
      "INFO:tensorflow:Assets written to: model_experiments/model_5_lstm/assets\n",
      "WARNING:absl:<keras.layers.recurrent.LSTMCell object at 0x7faff823a310> has the same name 'LSTMCell' as a built-in Keras object. Consider renaming <class 'keras.layers.recurrent.LSTMCell'> to avoid naming conflicts when loading with `tf.keras.models.load_model`. If renaming is not possible, pass the object in the `custom_objects` parameter of the load function.\n"
     ]
    },
    {
     "name": "stdout",
     "output_type": "stream",
     "text": [
      "INFO:tensorflow:Assets written to: model_experiments/model_5_lstm/assets\n"
     ]
    },
    {
     "name": "stderr",
     "output_type": "stream",
     "text": [
      "INFO:tensorflow:Assets written to: model_experiments/model_5_lstm/assets\n",
      "WARNING:absl:<keras.layers.recurrent.LSTMCell object at 0x7faff823a310> has the same name 'LSTMCell' as a built-in Keras object. Consider renaming <class 'keras.layers.recurrent.LSTMCell'> to avoid naming conflicts when loading with `tf.keras.models.load_model`. If renaming is not possible, pass the object in the `custom_objects` parameter of the load function.\n"
     ]
    },
    {
     "name": "stdout",
     "output_type": "stream",
     "text": [
      "INFO:tensorflow:Assets written to: model_experiments/model_5_lstm/assets\n"
     ]
    },
    {
     "name": "stderr",
     "output_type": "stream",
     "text": [
      "INFO:tensorflow:Assets written to: model_experiments/model_5_lstm/assets\n",
      "WARNING:absl:<keras.layers.recurrent.LSTMCell object at 0x7faff823a310> has the same name 'LSTMCell' as a built-in Keras object. Consider renaming <class 'keras.layers.recurrent.LSTMCell'> to avoid naming conflicts when loading with `tf.keras.models.load_model`. If renaming is not possible, pass the object in the `custom_objects` parameter of the load function.\n"
     ]
    },
    {
     "data": {
      "text/plain": [
       "<keras.callbacks.History at 0x7faff8115710>"
      ]
     },
     "execution_count": 75,
     "metadata": {},
     "output_type": "execute_result"
    }
   ],
   "source": [
    "\n",
    "tf.random.set_seed(42)\n",
    "\n",
    "# Let's build an LSTM model with the Functional API\n",
    "inputs = layers.Input(shape=(WINDOW_SIZE))\n",
    "x = layers.Lambda(lambda x: tf.expand_dims(x, axis=1))(inputs) # expand input dimension to be compatible with LSTM\n",
    "# print(x.shape)\n",
    "# x = layers.LSTM(128, activation=\"relu\", return_sequences=True)(x) # this layer will error if the inputs are not the right shape\n",
    "x = layers.LSTM(128, activation=\"relu\")(x) # using the tanh loss function results in a massive error\n",
    "# print(x.shape)\n",
    "# Add another optional dense layer (you could add more of these to see if they improve model performance)\n",
    "# x = layers.Dense(32, activation=\"relu\")(x)\n",
    "output = layers.Dense(HORIZON)(x)\n",
    "model_5 = tf.keras.Model(inputs=inputs, outputs=output, name=\"model_5_lstm\")\n",
    "\n",
    "# Compile model\n",
    "model_5.compile(loss=\"mae\",\n",
    "                optimizer=tf.keras.optimizers.Adam())\n",
    "\n",
    "# Seems when saving the model several warnings are appearing: https://github.com/tensorflow/tensorflow/issues/47554 \n",
    "model_5.fit(train_windows,\n",
    "            train_labels,\n",
    "            epochs=100,\n",
    "            verbose=0,\n",
    "            batch_size=128,\n",
    "            validation_data=(test_windows, test_labels),\n",
    "            callbacks=[create_model_checkpoint(model_name=model_5.name)])"
   ]
  },
  {
   "cell_type": "code",
   "execution_count": 76,
   "metadata": {
    "colab": {
     "base_uri": "https://localhost:8080/"
    },
    "id": "KZZtIpvAYfmI",
    "outputId": "a6f2ec1d-dd8a-48ac-b7a1-84e10a0cef01"
   },
   "outputs": [
    {
     "name": "stdout",
     "output_type": "stream",
     "text": [
      "WARNING:tensorflow:Layer lstm will not use cuDNN kernels since it doesn't meet the criteria. It will use a generic GPU kernel as fallback when running on GPU.\n"
     ]
    },
    {
     "name": "stderr",
     "output_type": "stream",
     "text": [
      "WARNING:tensorflow:Layer lstm will not use cuDNN kernels since it doesn't meet the criteria. It will use a generic GPU kernel as fallback when running on GPU.\n"
     ]
    },
    {
     "name": "stdout",
     "output_type": "stream",
     "text": [
      "18/18 [==============================] - 0s 3ms/step - loss: 596.6447\n"
     ]
    },
    {
     "data": {
      "text/plain": [
       "596.6446533203125"
      ]
     },
     "execution_count": 76,
     "metadata": {},
     "output_type": "execute_result"
    }
   ],
   "source": [
    "# Load in best version of model 5 and evaluate on the test data\n",
    "model_5 = tf.keras.models.load_model(\"model_experiments/model_5_lstm/\")\n",
    "model_5.evaluate(test_windows, test_labels)"
   ]
  },
  {
   "cell_type": "code",
   "execution_count": 77,
   "metadata": {
    "colab": {
     "base_uri": "https://localhost:8080/"
    },
    "id": "xVsr-HS1ZEPf",
    "outputId": "3643671b-faea-480b-def9-dcd263eafe42"
   },
   "outputs": [
    {
     "data": {
      "text/plain": [
       "<tf.Tensor: shape=(10,), dtype=float32, numpy=\n",
       "array([8991.225, 8823.2  , 9009.359, 8847.859, 8742.254, 8788.655,\n",
       "       8744.746, 8552.568, 8514.823, 8542.873], dtype=float32)>"
      ]
     },
     "execution_count": 77,
     "metadata": {},
     "output_type": "execute_result"
    }
   ],
   "source": [
    "# Make predictions with our LSTM model\n",
    "model_5_preds = make_preds(model_5, test_windows)\n",
    "model_5_preds[:10]"
   ]
  },
  {
   "cell_type": "code",
   "execution_count": 78,
   "metadata": {
    "colab": {
     "base_uri": "https://localhost:8080/"
    },
    "id": "hJiCDrGBZGQ_",
    "outputId": "d61159a0-0482-4f57-d8e8-40aca90306c7"
   },
   "outputs": [
    {
     "data": {
      "text/plain": [
       "{'mae': 596.64465,\n",
       " 'mape': 2.6838453,\n",
       " 'mase': 1.0481395,\n",
       " 'mse': 1273486.9,\n",
       " 'rmse': 1128.4888}"
      ]
     },
     "execution_count": 78,
     "metadata": {},
     "output_type": "execute_result"
    }
   ],
   "source": [
    "# Evaluate model 5 preds\n",
    "model_5_results = evaluate_preds(y_true=tf.squeeze(test_labels),\n",
    "                                 y_pred=model_5_preds)\n",
    "model_5_results"
   ]
  },
  {
   "cell_type": "code",
   "execution_count": 79,
   "metadata": {
    "colab": {
     "base_uri": "https://localhost:8080/",
     "height": 235
    },
    "id": "UZ6Kqv-mZISW",
    "outputId": "ffda7976-f8cf-4214-947f-92e096a62dd7"
   },
   "outputs": [
    {
     "data": {
      "text/html": [
       "<div>\n",
       "<style scoped>\n",
       "    .dataframe tbody tr th:only-of-type {\n",
       "        vertical-align: middle;\n",
       "    }\n",
       "\n",
       "    .dataframe tbody tr th {\n",
       "        vertical-align: top;\n",
       "    }\n",
       "\n",
       "    .dataframe thead th {\n",
       "        text-align: right;\n",
       "    }\n",
       "</style>\n",
       "<table border=\"1\" class=\"dataframe\">\n",
       "  <thead>\n",
       "    <tr style=\"text-align: right;\">\n",
       "      <th></th>\n",
       "      <th>Price</th>\n",
       "    </tr>\n",
       "    <tr>\n",
       "      <th>Date</th>\n",
       "      <th></th>\n",
       "    </tr>\n",
       "  </thead>\n",
       "  <tbody>\n",
       "    <tr>\n",
       "      <th>2013-10-01</th>\n",
       "      <td>123.65499</td>\n",
       "    </tr>\n",
       "    <tr>\n",
       "      <th>2013-10-02</th>\n",
       "      <td>125.45500</td>\n",
       "    </tr>\n",
       "    <tr>\n",
       "      <th>2013-10-03</th>\n",
       "      <td>108.58483</td>\n",
       "    </tr>\n",
       "    <tr>\n",
       "      <th>2013-10-04</th>\n",
       "      <td>118.67466</td>\n",
       "    </tr>\n",
       "    <tr>\n",
       "      <th>2013-10-05</th>\n",
       "      <td>121.33866</td>\n",
       "    </tr>\n",
       "  </tbody>\n",
       "</table>\n",
       "</div>"
      ],
      "text/plain": [
       "                Price\n",
       "Date                 \n",
       "2013-10-01  123.65499\n",
       "2013-10-02  125.45500\n",
       "2013-10-03  108.58483\n",
       "2013-10-04  118.67466\n",
       "2013-10-05  121.33866"
      ]
     },
     "execution_count": 79,
     "metadata": {},
     "output_type": "execute_result"
    }
   ],
   "source": [
    "# Let's make a multivariate time series\n",
    "bitcoin_prices.head()"
   ]
  },
  {
   "cell_type": "code",
   "execution_count": 80,
   "metadata": {
    "id": "oyKSDGTrZK7v"
   },
   "outputs": [],
   "source": [
    "# Block reward values\n",
    "block_reward_1 = 50 # 3 January 2009 (2009-01-03) - this block reward isn't in our dataset (it starts from 01 October 2013)\n",
    "block_reward_2 = 25 # 28 November 2012 \n",
    "block_reward_3 = 12.5 # 9 July 2016\n",
    "block_reward_4 = 6.25 # 11 May 2020\n",
    "\n",
    "# Block reward dates (datetime form of the above date stamps)\n",
    "block_reward_2_datetime = np.datetime64(\"2012-11-28\")\n",
    "block_reward_3_datetime = np.datetime64(\"2016-07-09\")\n",
    "block_reward_4_datetime = np.datetime64(\"2020-05-11\")"
   ]
  },
  {
   "cell_type": "code",
   "execution_count": 81,
   "metadata": {
    "colab": {
     "base_uri": "https://localhost:8080/"
    },
    "id": "tIGntKOCZNLG",
    "outputId": "9f2991ef-2b38-4e40-d273-329e91fa3f84"
   },
   "outputs": [
    {
     "data": {
      "text/plain": [
       "(1012, 2414)"
      ]
     },
     "execution_count": 81,
     "metadata": {},
     "output_type": "execute_result"
    }
   ],
   "source": [
    "\n",
    "# Get date indexes for when to add in different block dates\n",
    "block_reward_2_days = (block_reward_3_datetime - bitcoin_prices.index[0]).days\n",
    "block_reward_3_days = (block_reward_4_datetime - bitcoin_prices.index[0]).days\n",
    "block_reward_2_days, block_reward_3_days"
   ]
  },
  {
   "cell_type": "code",
   "execution_count": 82,
   "metadata": {
    "colab": {
     "base_uri": "https://localhost:8080/",
     "height": 235
    },
    "id": "bo2rm7B6ZPXe",
    "outputId": "13ce30b2-2657-48ff-8056-f2e494531533"
   },
   "outputs": [
    {
     "data": {
      "text/html": [
       "<div>\n",
       "<style scoped>\n",
       "    .dataframe tbody tr th:only-of-type {\n",
       "        vertical-align: middle;\n",
       "    }\n",
       "\n",
       "    .dataframe tbody tr th {\n",
       "        vertical-align: top;\n",
       "    }\n",
       "\n",
       "    .dataframe thead th {\n",
       "        text-align: right;\n",
       "    }\n",
       "</style>\n",
       "<table border=\"1\" class=\"dataframe\">\n",
       "  <thead>\n",
       "    <tr style=\"text-align: right;\">\n",
       "      <th></th>\n",
       "      <th>Price</th>\n",
       "      <th>block_reward</th>\n",
       "    </tr>\n",
       "    <tr>\n",
       "      <th>Date</th>\n",
       "      <th></th>\n",
       "      <th></th>\n",
       "    </tr>\n",
       "  </thead>\n",
       "  <tbody>\n",
       "    <tr>\n",
       "      <th>2013-10-01</th>\n",
       "      <td>123.65499</td>\n",
       "      <td>25</td>\n",
       "    </tr>\n",
       "    <tr>\n",
       "      <th>2013-10-02</th>\n",
       "      <td>125.45500</td>\n",
       "      <td>25</td>\n",
       "    </tr>\n",
       "    <tr>\n",
       "      <th>2013-10-03</th>\n",
       "      <td>108.58483</td>\n",
       "      <td>25</td>\n",
       "    </tr>\n",
       "    <tr>\n",
       "      <th>2013-10-04</th>\n",
       "      <td>118.67466</td>\n",
       "      <td>25</td>\n",
       "    </tr>\n",
       "    <tr>\n",
       "      <th>2013-10-05</th>\n",
       "      <td>121.33866</td>\n",
       "      <td>25</td>\n",
       "    </tr>\n",
       "  </tbody>\n",
       "</table>\n",
       "</div>"
      ],
      "text/plain": [
       "                Price block_reward\n",
       "Date                              \n",
       "2013-10-01  123.65499           25\n",
       "2013-10-02  125.45500           25\n",
       "2013-10-03  108.58483           25\n",
       "2013-10-04  118.67466           25\n",
       "2013-10-05  121.33866           25"
      ]
     },
     "execution_count": 82,
     "metadata": {},
     "output_type": "execute_result"
    }
   ],
   "source": [
    "# Add block_reward column\n",
    "bitcoin_prices_block = bitcoin_prices.copy()\n",
    "bitcoin_prices_block[\"block_reward\"] = None\n",
    "\n",
    "# Set values of block_reward column (it's the last column hence -1 indexing on iloc)\n",
    "bitcoin_prices_block.iloc[:block_reward_2_days, -1] = block_reward_2\n",
    "bitcoin_prices_block.iloc[block_reward_2_days:block_reward_3_days, -1] = block_reward_3\n",
    "bitcoin_prices_block.iloc[block_reward_3_days:, -1] = block_reward_4\n",
    "bitcoin_prices_block.head()"
   ]
  },
  {
   "cell_type": "code",
   "execution_count": 83,
   "metadata": {
    "colab": {
     "base_uri": "https://localhost:8080/",
     "height": 442
    },
    "id": "DIbxtKaHZRc9",
    "outputId": "e8b8f901-9e8d-4b84-e7bd-f8d6e78ec0cc"
   },
   "outputs": [
    {
     "data": {
      "image/png": "[encoded data removed]",
      "text/plain": [
       "<Figure size 720x504 with 1 Axes>"
      ]
     },
     "metadata": {
      "needs_background": "light"
     },
     "output_type": "display_data"
    }
   ],
   "source": [
    "# Plot the block reward/price over time\n",
    "# Note: Because of the different scales of our values we'll scale them to be between 0 and 1.\n",
    "from sklearn.preprocessing import minmax_scale\n",
    "scaled_price_block_df = pd.DataFrame(minmax_scale(bitcoin_prices_block[[\"Price\", \"block_reward\"]]), # we need to scale the data first\n",
    "                                     columns=bitcoin_prices_block.columns,\n",
    "                                     index=bitcoin_prices_block.index)\n",
    "scaled_price_block_df.plot(figsize=(10, 7));"
   ]
  },
  {
   "cell_type": "markdown",
   "metadata": {
    "id": "fZyicCfSZWef"
   },
   "source": [
    "\n",
    "Making a windowed dataset with pandas"
   ]
  },
  {
   "cell_type": "code",
   "execution_count": 84,
   "metadata": {
    "id": "yTPIL2uWZTk1"
   },
   "outputs": [],
   "source": [
    "# Setup dataset hyperparameters\n",
    "HORIZON = 1\n",
    "WINDOW_SIZE = 7"
   ]
  },
  {
   "cell_type": "code",
   "execution_count": 85,
   "metadata": {
    "colab": {
     "base_uri": "https://localhost:8080/",
     "height": 390
    },
    "id": "2M-juV0hZZCd",
    "outputId": "99586e04-cfc2-4fb3-9971-5d2ab0f0619b"
   },
   "outputs": [
    {
     "data": {
      "text/html": [
       "<div>\n",
       "<style scoped>\n",
       "    .dataframe tbody tr th:only-of-type {\n",
       "        vertical-align: middle;\n",
       "    }\n",
       "\n",
       "    .dataframe tbody tr th {\n",
       "        vertical-align: top;\n",
       "    }\n",
       "\n",
       "    .dataframe thead th {\n",
       "        text-align: right;\n",
       "    }\n",
       "</style>\n",
       "<table border=\"1\" class=\"dataframe\">\n",
       "  <thead>\n",
       "    <tr style=\"text-align: right;\">\n",
       "      <th></th>\n",
       "      <th>Price</th>\n",
       "      <th>block_reward</th>\n",
       "      <th>Price+1</th>\n",
       "      <th>Price+2</th>\n",
       "      <th>Price+3</th>\n",
       "      <th>Price+4</th>\n",
       "      <th>Price+5</th>\n",
       "      <th>Price+6</th>\n",
       "      <th>Price+7</th>\n",
       "    </tr>\n",
       "    <tr>\n",
       "      <th>Date</th>\n",
       "      <th></th>\n",
       "      <th></th>\n",
       "      <th></th>\n",
       "      <th></th>\n",
       "      <th></th>\n",
       "      <th></th>\n",
       "      <th></th>\n",
       "      <th></th>\n",
       "      <th></th>\n",
       "    </tr>\n",
       "  </thead>\n",
       "  <tbody>\n",
       "    <tr>\n",
       "      <th>2013-10-01</th>\n",
       "      <td>123.65499</td>\n",
       "      <td>25</td>\n",
       "      <td>NaN</td>\n",
       "      <td>NaN</td>\n",
       "      <td>NaN</td>\n",
       "      <td>NaN</td>\n",
       "      <td>NaN</td>\n",
       "      <td>NaN</td>\n",
       "      <td>NaN</td>\n",
       "    </tr>\n",
       "    <tr>\n",
       "      <th>2013-10-02</th>\n",
       "      <td>125.45500</td>\n",
       "      <td>25</td>\n",
       "      <td>123.65499</td>\n",
       "      <td>NaN</td>\n",
       "      <td>NaN</td>\n",
       "      <td>NaN</td>\n",
       "      <td>NaN</td>\n",
       "      <td>NaN</td>\n",
       "      <td>NaN</td>\n",
       "    </tr>\n",
       "    <tr>\n",
       "      <th>2013-10-03</th>\n",
       "      <td>108.58483</td>\n",
       "      <td>25</td>\n",
       "      <td>125.45500</td>\n",
       "      <td>123.65499</td>\n",
       "      <td>NaN</td>\n",
       "      <td>NaN</td>\n",
       "      <td>NaN</td>\n",
       "      <td>NaN</td>\n",
       "      <td>NaN</td>\n",
       "    </tr>\n",
       "    <tr>\n",
       "      <th>2013-10-04</th>\n",
       "      <td>118.67466</td>\n",
       "      <td>25</td>\n",
       "      <td>108.58483</td>\n",
       "      <td>125.45500</td>\n",
       "      <td>123.65499</td>\n",
       "      <td>NaN</td>\n",
       "      <td>NaN</td>\n",
       "      <td>NaN</td>\n",
       "      <td>NaN</td>\n",
       "    </tr>\n",
       "    <tr>\n",
       "      <th>2013-10-05</th>\n",
       "      <td>121.33866</td>\n",
       "      <td>25</td>\n",
       "      <td>118.67466</td>\n",
       "      <td>108.58483</td>\n",
       "      <td>125.45500</td>\n",
       "      <td>123.65499</td>\n",
       "      <td>NaN</td>\n",
       "      <td>NaN</td>\n",
       "      <td>NaN</td>\n",
       "    </tr>\n",
       "    <tr>\n",
       "      <th>2013-10-06</th>\n",
       "      <td>120.65533</td>\n",
       "      <td>25</td>\n",
       "      <td>121.33866</td>\n",
       "      <td>118.67466</td>\n",
       "      <td>108.58483</td>\n",
       "      <td>125.45500</td>\n",
       "      <td>123.65499</td>\n",
       "      <td>NaN</td>\n",
       "      <td>NaN</td>\n",
       "    </tr>\n",
       "    <tr>\n",
       "      <th>2013-10-07</th>\n",
       "      <td>121.79500</td>\n",
       "      <td>25</td>\n",
       "      <td>120.65533</td>\n",
       "      <td>121.33866</td>\n",
       "      <td>118.67466</td>\n",
       "      <td>108.58483</td>\n",
       "      <td>125.45500</td>\n",
       "      <td>123.65499</td>\n",
       "      <td>NaN</td>\n",
       "    </tr>\n",
       "    <tr>\n",
       "      <th>2013-10-08</th>\n",
       "      <td>123.03300</td>\n",
       "      <td>25</td>\n",
       "      <td>121.79500</td>\n",
       "      <td>120.65533</td>\n",
       "      <td>121.33866</td>\n",
       "      <td>118.67466</td>\n",
       "      <td>108.58483</td>\n",
       "      <td>125.45500</td>\n",
       "      <td>123.65499</td>\n",
       "    </tr>\n",
       "    <tr>\n",
       "      <th>2013-10-09</th>\n",
       "      <td>124.04900</td>\n",
       "      <td>25</td>\n",
       "      <td>123.03300</td>\n",
       "      <td>121.79500</td>\n",
       "      <td>120.65533</td>\n",
       "      <td>121.33866</td>\n",
       "      <td>118.67466</td>\n",
       "      <td>108.58483</td>\n",
       "      <td>125.45500</td>\n",
       "    </tr>\n",
       "    <tr>\n",
       "      <th>2013-10-10</th>\n",
       "      <td>125.96116</td>\n",
       "      <td>25</td>\n",
       "      <td>124.04900</td>\n",
       "      <td>123.03300</td>\n",
       "      <td>121.79500</td>\n",
       "      <td>120.65533</td>\n",
       "      <td>121.33866</td>\n",
       "      <td>118.67466</td>\n",
       "      <td>108.58483</td>\n",
       "    </tr>\n",
       "  </tbody>\n",
       "</table>\n",
       "</div>"
      ],
      "text/plain": [
       "                Price block_reward    Price+1  ...    Price+5    Price+6    Price+7\n",
       "Date                                           ...                                 \n",
       "2013-10-01  123.65499           25        NaN  ...        NaN        NaN        NaN\n",
       "2013-10-02  125.45500           25  123.65499  ...        NaN        NaN        NaN\n",
       "2013-10-03  108.58483           25  125.45500  ...        NaN        NaN        NaN\n",
       "2013-10-04  118.67466           25  108.58483  ...        NaN        NaN        NaN\n",
       "2013-10-05  121.33866           25  118.67466  ...        NaN        NaN        NaN\n",
       "2013-10-06  120.65533           25  121.33866  ...  123.65499        NaN        NaN\n",
       "2013-10-07  121.79500           25  120.65533  ...  125.45500  123.65499        NaN\n",
       "2013-10-08  123.03300           25  121.79500  ...  108.58483  125.45500  123.65499\n",
       "2013-10-09  124.04900           25  123.03300  ...  118.67466  108.58483  125.45500\n",
       "2013-10-10  125.96116           25  124.04900  ...  121.33866  118.67466  108.58483\n",
       "\n",
       "[10 rows x 9 columns]"
      ]
     },
     "execution_count": 85,
     "metadata": {},
     "output_type": "execute_result"
    }
   ],
   "source": [
    "# Make a copy of the Bitcoin historical data with block reward feature\n",
    "bitcoin_prices_windowed = bitcoin_prices_block.copy()\n",
    "\n",
    "# Add windowed columns\n",
    "for i in range(WINDOW_SIZE): # Shift values for each step in WINDOW_SIZE\n",
    "  bitcoin_prices_windowed[f\"Price+{i+1}\"] = bitcoin_prices_windowed[\"Price\"].shift(periods=i+1)\n",
    "bitcoin_prices_windowed.head(10)"
   ]
  },
  {
   "cell_type": "code",
   "execution_count": 86,
   "metadata": {
    "colab": {
     "base_uri": "https://localhost:8080/",
     "height": 235
    },
    "id": "GzVD-qCFZduN",
    "outputId": "835ff2f5-6271-4976-b9b5-439dd08b35f4"
   },
   "outputs": [
    {
     "data": {
      "text/html": [
       "<div>\n",
       "<style scoped>\n",
       "    .dataframe tbody tr th:only-of-type {\n",
       "        vertical-align: middle;\n",
       "    }\n",
       "\n",
       "    .dataframe tbody tr th {\n",
       "        vertical-align: top;\n",
       "    }\n",
       "\n",
       "    .dataframe thead th {\n",
       "        text-align: right;\n",
       "    }\n",
       "</style>\n",
       "<table border=\"1\" class=\"dataframe\">\n",
       "  <thead>\n",
       "    <tr style=\"text-align: right;\">\n",
       "      <th></th>\n",
       "      <th>block_reward</th>\n",
       "      <th>Price+1</th>\n",
       "      <th>Price+2</th>\n",
       "      <th>Price+3</th>\n",
       "      <th>Price+4</th>\n",
       "      <th>Price+5</th>\n",
       "      <th>Price+6</th>\n",
       "      <th>Price+7</th>\n",
       "    </tr>\n",
       "    <tr>\n",
       "      <th>Date</th>\n",
       "      <th></th>\n",
       "      <th></th>\n",
       "      <th></th>\n",
       "      <th></th>\n",
       "      <th></th>\n",
       "      <th></th>\n",
       "      <th></th>\n",
       "      <th></th>\n",
       "    </tr>\n",
       "  </thead>\n",
       "  <tbody>\n",
       "    <tr>\n",
       "      <th>2013-10-08</th>\n",
       "      <td>25.0</td>\n",
       "      <td>121.794998</td>\n",
       "      <td>120.655327</td>\n",
       "      <td>121.338661</td>\n",
       "      <td>118.674660</td>\n",
       "      <td>108.584831</td>\n",
       "      <td>125.455002</td>\n",
       "      <td>123.654991</td>\n",
       "    </tr>\n",
       "    <tr>\n",
       "      <th>2013-10-09</th>\n",
       "      <td>25.0</td>\n",
       "      <td>123.032997</td>\n",
       "      <td>121.794998</td>\n",
       "      <td>120.655327</td>\n",
       "      <td>121.338661</td>\n",
       "      <td>118.674660</td>\n",
       "      <td>108.584831</td>\n",
       "      <td>125.455002</td>\n",
       "    </tr>\n",
       "    <tr>\n",
       "      <th>2013-10-10</th>\n",
       "      <td>25.0</td>\n",
       "      <td>124.049004</td>\n",
       "      <td>123.032997</td>\n",
       "      <td>121.794998</td>\n",
       "      <td>120.655327</td>\n",
       "      <td>121.338661</td>\n",
       "      <td>118.674660</td>\n",
       "      <td>108.584831</td>\n",
       "    </tr>\n",
       "    <tr>\n",
       "      <th>2013-10-11</th>\n",
       "      <td>25.0</td>\n",
       "      <td>125.961159</td>\n",
       "      <td>124.049004</td>\n",
       "      <td>123.032997</td>\n",
       "      <td>121.794998</td>\n",
       "      <td>120.655327</td>\n",
       "      <td>121.338661</td>\n",
       "      <td>118.674660</td>\n",
       "    </tr>\n",
       "    <tr>\n",
       "      <th>2013-10-12</th>\n",
       "      <td>25.0</td>\n",
       "      <td>125.279663</td>\n",
       "      <td>125.961159</td>\n",
       "      <td>124.049004</td>\n",
       "      <td>123.032997</td>\n",
       "      <td>121.794998</td>\n",
       "      <td>120.655327</td>\n",
       "      <td>121.338661</td>\n",
       "    </tr>\n",
       "  </tbody>\n",
       "</table>\n",
       "</div>"
      ],
      "text/plain": [
       "            block_reward     Price+1  ...     Price+6     Price+7\n",
       "Date                                  ...                        \n",
       "2013-10-08          25.0  121.794998  ...  125.455002  123.654991\n",
       "2013-10-09          25.0  123.032997  ...  108.584831  125.455002\n",
       "2013-10-10          25.0  124.049004  ...  118.674660  108.584831\n",
       "2013-10-11          25.0  125.961159  ...  121.338661  118.674660\n",
       "2013-10-12          25.0  125.279663  ...  120.655327  121.338661\n",
       "\n",
       "[5 rows x 8 columns]"
      ]
     },
     "execution_count": 86,
     "metadata": {},
     "output_type": "execute_result"
    }
   ],
   "source": [
    "# Let's create X & y, remove the NaN's and convert to float32 to prevent TensorFlow errors \n",
    "X = bitcoin_prices_windowed.dropna().drop(\"Price\", axis=1).astype(np.float32) \n",
    "y = bitcoin_prices_windowed.dropna()[\"Price\"].astype(np.float32)\n",
    "X.head()"
   ]
  },
  {
   "cell_type": "code",
   "execution_count": 87,
   "metadata": {
    "colab": {
     "base_uri": "https://localhost:8080/"
    },
    "id": "31oTI-jeZf8N",
    "outputId": "b0300dd6-8c12-426a-ef9e-828a119df2a9"
   },
   "outputs": [
    {
     "data": {
      "text/plain": [
       "Date\n",
       "2013-10-08    123.032997\n",
       "2013-10-09    124.049004\n",
       "2013-10-10    125.961159\n",
       "2013-10-11    125.279663\n",
       "2013-10-12    125.927498\n",
       "Name: Price, dtype: float32"
      ]
     },
     "execution_count": 87,
     "metadata": {},
     "output_type": "execute_result"
    }
   ],
   "source": [
    "# View labels\n",
    "y.head()"
   ]
  },
  {
   "cell_type": "code",
   "execution_count": 88,
   "metadata": {
    "colab": {
     "base_uri": "https://localhost:8080/"
    },
    "id": "BGU4bezNZh6F",
    "outputId": "a601ae08-4a7b-46d3-ee8c-55341026034c"
   },
   "outputs": [
    {
     "data": {
      "text/plain": [
       "(2224, 2224, 556, 556)"
      ]
     },
     "execution_count": 88,
     "metadata": {},
     "output_type": "execute_result"
    }
   ],
   "source": [
    "# Make train and test sets\n",
    "split_size = int(len(X) * 0.8)\n",
    "X_train, y_train = X[:split_size], y[:split_size]\n",
    "X_test, y_test = X[split_size:], y[split_size:]\n",
    "len(X_train), len(y_train), len(X_test), len(y_test)"
   ]
  },
  {
   "cell_type": "markdown",
   "metadata": {
    "id": "RKaPMuW0Zlk2"
   },
   "source": [
    "\n",
    "**Model 6: Dense (multivariate time series)**"
   ]
  },
  {
   "cell_type": "code",
   "execution_count": 89,
   "metadata": {
    "colab": {
     "base_uri": "https://localhost:8080/"
    },
    "id": "FyR--UjGZkCt",
    "outputId": "062694dc-1af9-46ad-940e-d337181fa623"
   },
   "outputs": [
    {
     "name": "stdout",
     "output_type": "stream",
     "text": [
      "INFO:tensorflow:Assets written to: model_experiments/model_6_dense_multivariate/assets\n"
     ]
    },
    {
     "name": "stderr",
     "output_type": "stream",
     "text": [
      "INFO:tensorflow:Assets written to: model_experiments/model_6_dense_multivariate/assets\n"
     ]
    },
    {
     "name": "stdout",
     "output_type": "stream",
     "text": [
      "INFO:tensorflow:Assets written to: model_experiments/model_6_dense_multivariate/assets\n"
     ]
    },
    {
     "name": "stderr",
     "output_type": "stream",
     "text": [
      "INFO:tensorflow:Assets written to: model_experiments/model_6_dense_multivariate/assets\n"
     ]
    },
    {
     "name": "stdout",
     "output_type": "stream",
     "text": [
      "INFO:tensorflow:Assets written to: model_experiments/model_6_dense_multivariate/assets\n"
     ]
    },
    {
     "name": "stderr",
     "output_type": "stream",
     "text": [
      "INFO:tensorflow:Assets written to: model_experiments/model_6_dense_multivariate/assets\n"
     ]
    },
    {
     "name": "stdout",
     "output_type": "stream",
     "text": [
      "INFO:tensorflow:Assets written to: model_experiments/model_6_dense_multivariate/assets\n"
     ]
    },
    {
     "name": "stderr",
     "output_type": "stream",
     "text": [
      "INFO:tensorflow:Assets written to: model_experiments/model_6_dense_multivariate/assets\n"
     ]
    },
    {
     "name": "stdout",
     "output_type": "stream",
     "text": [
      "INFO:tensorflow:Assets written to: model_experiments/model_6_dense_multivariate/assets\n"
     ]
    },
    {
     "name": "stderr",
     "output_type": "stream",
     "text": [
      "INFO:tensorflow:Assets written to: model_experiments/model_6_dense_multivariate/assets\n"
     ]
    },
    {
     "name": "stdout",
     "output_type": "stream",
     "text": [
      "INFO:tensorflow:Assets written to: model_experiments/model_6_dense_multivariate/assets\n"
     ]
    },
    {
     "name": "stderr",
     "output_type": "stream",
     "text": [
      "INFO:tensorflow:Assets written to: model_experiments/model_6_dense_multivariate/assets\n"
     ]
    },
    {
     "name": "stdout",
     "output_type": "stream",
     "text": [
      "INFO:tensorflow:Assets written to: model_experiments/model_6_dense_multivariate/assets\n"
     ]
    },
    {
     "name": "stderr",
     "output_type": "stream",
     "text": [
      "INFO:tensorflow:Assets written to: model_experiments/model_6_dense_multivariate/assets\n"
     ]
    },
    {
     "name": "stdout",
     "output_type": "stream",
     "text": [
      "INFO:tensorflow:Assets written to: model_experiments/model_6_dense_multivariate/assets\n"
     ]
    },
    {
     "name": "stderr",
     "output_type": "stream",
     "text": [
      "INFO:tensorflow:Assets written to: model_experiments/model_6_dense_multivariate/assets\n"
     ]
    },
    {
     "name": "stdout",
     "output_type": "stream",
     "text": [
      "INFO:tensorflow:Assets written to: model_experiments/model_6_dense_multivariate/assets\n"
     ]
    },
    {
     "name": "stderr",
     "output_type": "stream",
     "text": [
      "INFO:tensorflow:Assets written to: model_experiments/model_6_dense_multivariate/assets\n"
     ]
    },
    {
     "name": "stdout",
     "output_type": "stream",
     "text": [
      "INFO:tensorflow:Assets written to: model_experiments/model_6_dense_multivariate/assets\n"
     ]
    },
    {
     "name": "stderr",
     "output_type": "stream",
     "text": [
      "INFO:tensorflow:Assets written to: model_experiments/model_6_dense_multivariate/assets\n"
     ]
    },
    {
     "name": "stdout",
     "output_type": "stream",
     "text": [
      "INFO:tensorflow:Assets written to: model_experiments/model_6_dense_multivariate/assets\n"
     ]
    },
    {
     "name": "stderr",
     "output_type": "stream",
     "text": [
      "INFO:tensorflow:Assets written to: model_experiments/model_6_dense_multivariate/assets\n"
     ]
    },
    {
     "name": "stdout",
     "output_type": "stream",
     "text": [
      "INFO:tensorflow:Assets written to: model_experiments/model_6_dense_multivariate/assets\n"
     ]
    },
    {
     "name": "stderr",
     "output_type": "stream",
     "text": [
      "INFO:tensorflow:Assets written to: model_experiments/model_6_dense_multivariate/assets\n"
     ]
    },
    {
     "name": "stdout",
     "output_type": "stream",
     "text": [
      "INFO:tensorflow:Assets written to: model_experiments/model_6_dense_multivariate/assets\n"
     ]
    },
    {
     "name": "stderr",
     "output_type": "stream",
     "text": [
      "INFO:tensorflow:Assets written to: model_experiments/model_6_dense_multivariate/assets\n"
     ]
    },
    {
     "name": "stdout",
     "output_type": "stream",
     "text": [
      "INFO:tensorflow:Assets written to: model_experiments/model_6_dense_multivariate/assets\n"
     ]
    },
    {
     "name": "stderr",
     "output_type": "stream",
     "text": [
      "INFO:tensorflow:Assets written to: model_experiments/model_6_dense_multivariate/assets\n"
     ]
    },
    {
     "name": "stdout",
     "output_type": "stream",
     "text": [
      "INFO:tensorflow:Assets written to: model_experiments/model_6_dense_multivariate/assets\n"
     ]
    },
    {
     "name": "stderr",
     "output_type": "stream",
     "text": [
      "INFO:tensorflow:Assets written to: model_experiments/model_6_dense_multivariate/assets\n"
     ]
    },
    {
     "name": "stdout",
     "output_type": "stream",
     "text": [
      "INFO:tensorflow:Assets written to: model_experiments/model_6_dense_multivariate/assets\n"
     ]
    },
    {
     "name": "stderr",
     "output_type": "stream",
     "text": [
      "INFO:tensorflow:Assets written to: model_experiments/model_6_dense_multivariate/assets\n"
     ]
    },
    {
     "name": "stdout",
     "output_type": "stream",
     "text": [
      "INFO:tensorflow:Assets written to: model_experiments/model_6_dense_multivariate/assets\n"
     ]
    },
    {
     "name": "stderr",
     "output_type": "stream",
     "text": [
      "INFO:tensorflow:Assets written to: model_experiments/model_6_dense_multivariate/assets\n"
     ]
    },
    {
     "name": "stdout",
     "output_type": "stream",
     "text": [
      "INFO:tensorflow:Assets written to: model_experiments/model_6_dense_multivariate/assets\n"
     ]
    },
    {
     "name": "stderr",
     "output_type": "stream",
     "text": [
      "INFO:tensorflow:Assets written to: model_experiments/model_6_dense_multivariate/assets\n"
     ]
    },
    {
     "name": "stdout",
     "output_type": "stream",
     "text": [
      "INFO:tensorflow:Assets written to: model_experiments/model_6_dense_multivariate/assets\n"
     ]
    },
    {
     "name": "stderr",
     "output_type": "stream",
     "text": [
      "INFO:tensorflow:Assets written to: model_experiments/model_6_dense_multivariate/assets\n"
     ]
    },
    {
     "name": "stdout",
     "output_type": "stream",
     "text": [
      "INFO:tensorflow:Assets written to: model_experiments/model_6_dense_multivariate/assets\n"
     ]
    },
    {
     "name": "stderr",
     "output_type": "stream",
     "text": [
      "INFO:tensorflow:Assets written to: model_experiments/model_6_dense_multivariate/assets\n"
     ]
    },
    {
     "name": "stdout",
     "output_type": "stream",
     "text": [
      "INFO:tensorflow:Assets written to: model_experiments/model_6_dense_multivariate/assets\n"
     ]
    },
    {
     "name": "stderr",
     "output_type": "stream",
     "text": [
      "INFO:tensorflow:Assets written to: model_experiments/model_6_dense_multivariate/assets\n"
     ]
    },
    {
     "name": "stdout",
     "output_type": "stream",
     "text": [
      "INFO:tensorflow:Assets written to: model_experiments/model_6_dense_multivariate/assets\n"
     ]
    },
    {
     "name": "stderr",
     "output_type": "stream",
     "text": [
      "INFO:tensorflow:Assets written to: model_experiments/model_6_dense_multivariate/assets\n"
     ]
    },
    {
     "name": "stdout",
     "output_type": "stream",
     "text": [
      "INFO:tensorflow:Assets written to: model_experiments/model_6_dense_multivariate/assets\n"
     ]
    },
    {
     "name": "stderr",
     "output_type": "stream",
     "text": [
      "INFO:tensorflow:Assets written to: model_experiments/model_6_dense_multivariate/assets\n"
     ]
    },
    {
     "name": "stdout",
     "output_type": "stream",
     "text": [
      "INFO:tensorflow:Assets written to: model_experiments/model_6_dense_multivariate/assets\n"
     ]
    },
    {
     "name": "stderr",
     "output_type": "stream",
     "text": [
      "INFO:tensorflow:Assets written to: model_experiments/model_6_dense_multivariate/assets\n"
     ]
    },
    {
     "name": "stdout",
     "output_type": "stream",
     "text": [
      "INFO:tensorflow:Assets written to: model_experiments/model_6_dense_multivariate/assets\n"
     ]
    },
    {
     "name": "stderr",
     "output_type": "stream",
     "text": [
      "INFO:tensorflow:Assets written to: model_experiments/model_6_dense_multivariate/assets\n"
     ]
    },
    {
     "name": "stdout",
     "output_type": "stream",
     "text": [
      "INFO:tensorflow:Assets written to: model_experiments/model_6_dense_multivariate/assets\n"
     ]
    },
    {
     "name": "stderr",
     "output_type": "stream",
     "text": [
      "INFO:tensorflow:Assets written to: model_experiments/model_6_dense_multivariate/assets\n"
     ]
    },
    {
     "name": "stdout",
     "output_type": "stream",
     "text": [
      "INFO:tensorflow:Assets written to: model_experiments/model_6_dense_multivariate/assets\n"
     ]
    },
    {
     "name": "stderr",
     "output_type": "stream",
     "text": [
      "INFO:tensorflow:Assets written to: model_experiments/model_6_dense_multivariate/assets\n"
     ]
    },
    {
     "name": "stdout",
     "output_type": "stream",
     "text": [
      "INFO:tensorflow:Assets written to: model_experiments/model_6_dense_multivariate/assets\n"
     ]
    },
    {
     "name": "stderr",
     "output_type": "stream",
     "text": [
      "INFO:tensorflow:Assets written to: model_experiments/model_6_dense_multivariate/assets\n"
     ]
    },
    {
     "name": "stdout",
     "output_type": "stream",
     "text": [
      "INFO:tensorflow:Assets written to: model_experiments/model_6_dense_multivariate/assets\n"
     ]
    },
    {
     "name": "stderr",
     "output_type": "stream",
     "text": [
      "INFO:tensorflow:Assets written to: model_experiments/model_6_dense_multivariate/assets\n"
     ]
    },
    {
     "name": "stdout",
     "output_type": "stream",
     "text": [
      "INFO:tensorflow:Assets written to: model_experiments/model_6_dense_multivariate/assets\n"
     ]
    },
    {
     "name": "stderr",
     "output_type": "stream",
     "text": [
      "INFO:tensorflow:Assets written to: model_experiments/model_6_dense_multivariate/assets\n"
     ]
    },
    {
     "name": "stdout",
     "output_type": "stream",
     "text": [
      "INFO:tensorflow:Assets written to: model_experiments/model_6_dense_multivariate/assets\n"
     ]
    },
    {
     "name": "stderr",
     "output_type": "stream",
     "text": [
      "INFO:tensorflow:Assets written to: model_experiments/model_6_dense_multivariate/assets\n"
     ]
    },
    {
     "name": "stdout",
     "output_type": "stream",
     "text": [
      "INFO:tensorflow:Assets written to: model_experiments/model_6_dense_multivariate/assets\n"
     ]
    },
    {
     "name": "stderr",
     "output_type": "stream",
     "text": [
      "INFO:tensorflow:Assets written to: model_experiments/model_6_dense_multivariate/assets\n"
     ]
    },
    {
     "name": "stdout",
     "output_type": "stream",
     "text": [
      "INFO:tensorflow:Assets written to: model_experiments/model_6_dense_multivariate/assets\n"
     ]
    },
    {
     "name": "stderr",
     "output_type": "stream",
     "text": [
      "INFO:tensorflow:Assets written to: model_experiments/model_6_dense_multivariate/assets\n"
     ]
    },
    {
     "name": "stdout",
     "output_type": "stream",
     "text": [
      "INFO:tensorflow:Assets written to: model_experiments/model_6_dense_multivariate/assets\n"
     ]
    },
    {
     "name": "stderr",
     "output_type": "stream",
     "text": [
      "INFO:tensorflow:Assets written to: model_experiments/model_6_dense_multivariate/assets\n"
     ]
    },
    {
     "name": "stdout",
     "output_type": "stream",
     "text": [
      "INFO:tensorflow:Assets written to: model_experiments/model_6_dense_multivariate/assets\n"
     ]
    },
    {
     "name": "stderr",
     "output_type": "stream",
     "text": [
      "INFO:tensorflow:Assets written to: model_experiments/model_6_dense_multivariate/assets\n"
     ]
    },
    {
     "name": "stdout",
     "output_type": "stream",
     "text": [
      "INFO:tensorflow:Assets written to: model_experiments/model_6_dense_multivariate/assets\n"
     ]
    },
    {
     "name": "stderr",
     "output_type": "stream",
     "text": [
      "INFO:tensorflow:Assets written to: model_experiments/model_6_dense_multivariate/assets\n"
     ]
    },
    {
     "name": "stdout",
     "output_type": "stream",
     "text": [
      "INFO:tensorflow:Assets written to: model_experiments/model_6_dense_multivariate/assets\n"
     ]
    },
    {
     "name": "stderr",
     "output_type": "stream",
     "text": [
      "INFO:tensorflow:Assets written to: model_experiments/model_6_dense_multivariate/assets\n"
     ]
    },
    {
     "name": "stdout",
     "output_type": "stream",
     "text": [
      "INFO:tensorflow:Assets written to: model_experiments/model_6_dense_multivariate/assets\n"
     ]
    },
    {
     "name": "stderr",
     "output_type": "stream",
     "text": [
      "INFO:tensorflow:Assets written to: model_experiments/model_6_dense_multivariate/assets\n"
     ]
    },
    {
     "data": {
      "text/plain": [
       "<keras.callbacks.History at 0x7faff3a78d10>"
      ]
     },
     "execution_count": 89,
     "metadata": {},
     "output_type": "execute_result"
    }
   ],
   "source": [
    "tf.random.set_seed(42)\n",
    "\n",
    "# Make multivariate time series model\n",
    "model_6 = tf.keras.Sequential([\n",
    "  layers.Dense(128, activation=\"relu\"),\n",
    "  # layers.Dense(128, activation=\"relu\"), # adding an extra layer here should lead to beating the naive model\n",
    "  layers.Dense(HORIZON)\n",
    "], name=\"model_6_dense_multivariate\")\n",
    "\n",
    "# Compile\n",
    "model_6.compile(loss=\"mae\",\n",
    "                optimizer=tf.keras.optimizers.Adam())\n",
    "\n",
    "# Fit\n",
    "model_6.fit(X_train, y_train,\n",
    "            epochs=100,\n",
    "            batch_size=128,\n",
    "            verbose=0, # only print 1 line per epoch\n",
    "            validation_data=(X_test, y_test),\n",
    "            callbacks=[create_model_checkpoint(model_name=model_6.name)])"
   ]
  },
  {
   "cell_type": "code",
   "execution_count": 90,
   "metadata": {
    "colab": {
     "base_uri": "https://localhost:8080/"
    },
    "id": "opxz-ZPrZv4m",
    "outputId": "4b88ad7a-ff3d-4eb3-c7f9-2cf503a3a591"
   },
   "outputs": [
    {
     "name": "stdout",
     "output_type": "stream",
     "text": [
      "18/18 [==============================] - 0s 2ms/step - loss: 567.5873\n"
     ]
    },
    {
     "data": {
      "text/plain": [
       "567.5873413085938"
      ]
     },
     "execution_count": 90,
     "metadata": {},
     "output_type": "execute_result"
    }
   ],
   "source": [
    "\n",
    "# Make sure best model is loaded and evaluate\n",
    "model_6 = tf.keras.models.load_model(\"model_experiments/model_6_dense_multivariate\")\n",
    "model_6.evaluate(X_test, y_test)"
   ]
  },
  {
   "cell_type": "code",
   "execution_count": 91,
   "metadata": {
    "colab": {
     "base_uri": "https://localhost:8080/"
    },
    "id": "Ud91ue1haJmD",
    "outputId": "90303a97-57a9-42db-df89-174f9903971d"
   },
   "outputs": [
    {
     "data": {
      "text/plain": [
       "<tf.Tensor: shape=(10,), dtype=float32, numpy=\n",
       "array([8836.276, 8763.8  , 9040.486, 8741.225, 8719.326, 8765.071,\n",
       "       8661.102, 8496.891, 8463.231, 8521.585], dtype=float32)>"
      ]
     },
     "execution_count": 91,
     "metadata": {},
     "output_type": "execute_result"
    }
   ],
   "source": [
    "# Make predictions on multivariate data\n",
    "model_6_preds = tf.squeeze(model_6.predict(X_test))\n",
    "model_6_preds[:10]"
   ]
  },
  {
   "cell_type": "code",
   "execution_count": 92,
   "metadata": {
    "colab": {
     "base_uri": "https://localhost:8080/"
    },
    "id": "9z5rf0iFaMST",
    "outputId": "9dbe2cd9-4b11-4697-9891-bd62890888dc"
   },
   "outputs": [
    {
     "data": {
      "text/plain": [
       "{'mae': 567.5874,\n",
       " 'mape': 2.541387,\n",
       " 'mase': 0.99709386,\n",
       " 'mse': 1161688.4,\n",
       " 'rmse': 1077.8165}"
      ]
     },
     "execution_count": 92,
     "metadata": {},
     "output_type": "execute_result"
    }
   ],
   "source": [
    "# Evaluate preds\n",
    "model_6_results = evaluate_preds(y_true=y_test,\n",
    "                                 y_pred=model_6_preds)\n",
    "model_6_results"
   ]
  },
  {
   "cell_type": "code",
   "execution_count": 93,
   "metadata": {
    "colab": {
     "base_uri": "https://localhost:8080/"
    },
    "id": "UU2qaV6jaOXb",
    "outputId": "3c2c05a9-e0df-4e32-e8b6-a7fed56f9f73"
   },
   "outputs": [
    {
     "data": {
      "text/plain": [
       "{'mae': 568.95123,\n",
       " 'mape': 2.5448983,\n",
       " 'mase': 0.9994897,\n",
       " 'mse': 1171744.0,\n",
       " 'rmse': 1082.4713}"
      ]
     },
     "execution_count": 93,
     "metadata": {},
     "output_type": "execute_result"
    }
   ],
   "source": [
    "\n",
    "model_1_results"
   ]
  },
  {
   "cell_type": "markdown",
   "metadata": {
    "id": "Eyuug5XQiBii"
   },
   "source": [
    "\n",
    "**Model 9: Train a model on the full historical data to make predictions into future**"
   ]
  },
  {
   "cell_type": "code",
   "execution_count": 118,
   "metadata": {
    "colab": {
     "base_uri": "https://localhost:8080/",
     "height": 235
    },
    "id": "DtfWS3QYh91h",
    "outputId": "2e0aeede-dbde-49c3-de52-3e1abc0a6df3"
   },
   "outputs": [
    {
     "data": {
      "text/html": [
       "<div>\n",
       "<style scoped>\n",
       "    .dataframe tbody tr th:only-of-type {\n",
       "        vertical-align: middle;\n",
       "    }\n",
       "\n",
       "    .dataframe tbody tr th {\n",
       "        vertical-align: top;\n",
       "    }\n",
       "\n",
       "    .dataframe thead th {\n",
       "        text-align: right;\n",
       "    }\n",
       "</style>\n",
       "<table border=\"1\" class=\"dataframe\">\n",
       "  <thead>\n",
       "    <tr style=\"text-align: right;\">\n",
       "      <th></th>\n",
       "      <th>Price</th>\n",
       "      <th>block_reward</th>\n",
       "      <th>Price+1</th>\n",
       "      <th>Price+2</th>\n",
       "      <th>Price+3</th>\n",
       "      <th>Price+4</th>\n",
       "      <th>Price+5</th>\n",
       "      <th>Price+6</th>\n",
       "      <th>Price+7</th>\n",
       "    </tr>\n",
       "    <tr>\n",
       "      <th>Date</th>\n",
       "      <th></th>\n",
       "      <th></th>\n",
       "      <th></th>\n",
       "      <th></th>\n",
       "      <th></th>\n",
       "      <th></th>\n",
       "      <th></th>\n",
       "      <th></th>\n",
       "      <th></th>\n",
       "    </tr>\n",
       "  </thead>\n",
       "  <tbody>\n",
       "    <tr>\n",
       "      <th>2013-10-01</th>\n",
       "      <td>123.65499</td>\n",
       "      <td>25</td>\n",
       "      <td>NaN</td>\n",
       "      <td>NaN</td>\n",
       "      <td>NaN</td>\n",
       "      <td>NaN</td>\n",
       "      <td>NaN</td>\n",
       "      <td>NaN</td>\n",
       "      <td>NaN</td>\n",
       "    </tr>\n",
       "    <tr>\n",
       "      <th>2013-10-02</th>\n",
       "      <td>125.45500</td>\n",
       "      <td>25</td>\n",
       "      <td>123.65499</td>\n",
       "      <td>NaN</td>\n",
       "      <td>NaN</td>\n",
       "      <td>NaN</td>\n",
       "      <td>NaN</td>\n",
       "      <td>NaN</td>\n",
       "      <td>NaN</td>\n",
       "    </tr>\n",
       "    <tr>\n",
       "      <th>2013-10-03</th>\n",
       "      <td>108.58483</td>\n",
       "      <td>25</td>\n",
       "      <td>125.45500</td>\n",
       "      <td>123.65499</td>\n",
       "      <td>NaN</td>\n",
       "      <td>NaN</td>\n",
       "      <td>NaN</td>\n",
       "      <td>NaN</td>\n",
       "      <td>NaN</td>\n",
       "    </tr>\n",
       "    <tr>\n",
       "      <th>2013-10-04</th>\n",
       "      <td>118.67466</td>\n",
       "      <td>25</td>\n",
       "      <td>108.58483</td>\n",
       "      <td>125.45500</td>\n",
       "      <td>123.65499</td>\n",
       "      <td>NaN</td>\n",
       "      <td>NaN</td>\n",
       "      <td>NaN</td>\n",
       "      <td>NaN</td>\n",
       "    </tr>\n",
       "    <tr>\n",
       "      <th>2013-10-05</th>\n",
       "      <td>121.33866</td>\n",
       "      <td>25</td>\n",
       "      <td>118.67466</td>\n",
       "      <td>108.58483</td>\n",
       "      <td>125.45500</td>\n",
       "      <td>123.65499</td>\n",
       "      <td>NaN</td>\n",
       "      <td>NaN</td>\n",
       "      <td>NaN</td>\n",
       "    </tr>\n",
       "  </tbody>\n",
       "</table>\n",
       "</div>"
      ],
      "text/plain": [
       "                Price block_reward    Price+1  ...  Price+5  Price+6  Price+7\n",
       "Date                                           ...                           \n",
       "2013-10-01  123.65499           25        NaN  ...      NaN      NaN      NaN\n",
       "2013-10-02  125.45500           25  123.65499  ...      NaN      NaN      NaN\n",
       "2013-10-03  108.58483           25  125.45500  ...      NaN      NaN      NaN\n",
       "2013-10-04  118.67466           25  108.58483  ...      NaN      NaN      NaN\n",
       "2013-10-05  121.33866           25  118.67466  ...      NaN      NaN      NaN\n",
       "\n",
       "[5 rows x 9 columns]"
      ]
     },
     "execution_count": 118,
     "metadata": {},
     "output_type": "execute_result"
    }
   ],
   "source": [
    "bitcoin_prices_windowed.head()"
   ]
  },
  {
   "cell_type": "code",
   "execution_count": 119,
   "metadata": {
    "id": "pynYpRrkiFqI"
   },
   "outputs": [],
   "source": [
    "# Train model on entire data to make prediction for the next day \n",
    "X_all = bitcoin_prices_windowed.drop([\"Price\", \"block_reward\"], axis=1).dropna().to_numpy() # only want prices, our future model can be a univariate model\n",
    "y_all = bitcoin_prices_windowed.dropna()[\"Price\"].to_numpy()"
   ]
  },
  {
   "cell_type": "code",
   "execution_count": 120,
   "metadata": {
    "colab": {
     "base_uri": "https://localhost:8080/"
    },
    "id": "OIJtJGhHiIFB",
    "outputId": "e035a24e-4087-483b-fd25-62a684b5b027"
   },
   "outputs": [
    {
     "data": {
      "text/plain": [
       "<PrefetchDataset shapes: ((None, 7), (None,)), types: (tf.float64, tf.float64)>"
      ]
     },
     "execution_count": 120,
     "metadata": {},
     "output_type": "execute_result"
    }
   ],
   "source": [
    "\n",
    "# 1. Turn X and y into tensor Datasets\n",
    "features_dataset_all = tf.data.Dataset.from_tensor_slices(X_all)\n",
    "labels_dataset_all = tf.data.Dataset.from_tensor_slices(y_all)\n",
    "\n",
    "# 2. Combine features & labels\n",
    "dataset_all = tf.data.Dataset.zip((features_dataset_all, labels_dataset_all))\n",
    "\n",
    "# 3. Batch and prefetch for optimal performance\n",
    "BATCH_SIZE = 1024 # taken from Appendix D in N-BEATS paper\n",
    "dataset_all = dataset_all.batch(BATCH_SIZE).prefetch(tf.data.AUTOTUNE)\n",
    "\n",
    "dataset_all"
   ]
  },
  {
   "cell_type": "code",
   "execution_count": 121,
   "metadata": {
    "colab": {
     "base_uri": "https://localhost:8080/"
    },
    "id": "T7cTS59RiKRx",
    "outputId": "28a1d684-d636-4111-9e3d-123641bba1ba"
   },
   "outputs": [
    {
     "data": {
      "text/plain": [
       "<keras.callbacks.History at 0x7faf7ddedd90>"
      ]
     },
     "execution_count": 121,
     "metadata": {},
     "output_type": "execute_result"
    }
   ],
   "source": [
    "tf.random.set_seed(42)\n",
    "\n",
    "# Create model (nice and simple, just to test)\n",
    "model_9 = tf.keras.Sequential([\n",
    "  layers.Dense(128, activation=\"relu\"),\n",
    "  layers.Dense(128, activation=\"relu\"),\n",
    "  layers.Dense(HORIZON)\n",
    "])\n",
    "\n",
    "# Compile\n",
    "model_9.compile(loss=tf.keras.losses.mae,\n",
    "                optimizer=tf.keras.optimizers.Adam())\n",
    "\n",
    "# Fit model on all of the data to make future forecasts\n",
    "model_9.fit(dataset_all,\n",
    "            epochs=100,\n",
    "            verbose=0) # don't print out anything, we've seen this all before"
   ]
  },
  {
   "cell_type": "markdown",
   "metadata": {
    "id": "uzBHJqaviRNI"
   },
   "source": [
    "\n",
    "Make predictions on the future"
   ]
  },
  {
   "cell_type": "code",
   "execution_count": 122,
   "metadata": {
    "id": "LuxIMlppiM5A"
   },
   "outputs": [],
   "source": [
    "# How many timesteps to predict into the future?\n",
    "INTO_FUTURE = 14 # since our Bitcoin data is daily, this is for 14 days"
   ]
  },
  {
   "cell_type": "code",
   "execution_count": 123,
   "metadata": {
    "id": "K3--AEyiiTzR"
   },
   "outputs": [],
   "source": [
    "# 1. Create function to make predictions into the future\n",
    "def make_future_forecast(values, model, into_future, window_size=WINDOW_SIZE) -> list:\n",
    "  \"\"\"\n",
    "  Makes future forecasts into_future steps after values ends.\n",
    "\n",
    "  Returns future forecasts as list of floats.\n",
    "  \"\"\"\n",
    "  # 2. Make an empty list for future forecasts/prepare data to forecast on\n",
    "  future_forecast = []\n",
    "  last_window = values[-WINDOW_SIZE:] # only want preds from the last window (this will get updated)\n",
    "\n",
    "  # 3. Make INTO_FUTURE number of predictions, altering the data which gets predicted on each time \n",
    "  for _ in range(into_future):\n",
    "    \n",
    "    # Predict on last window then append it again, again, again (model starts to make forecasts on its own forecasts)\n",
    "    future_pred = model.predict(tf.expand_dims(last_window, axis=0))\n",
    "    print(f\"Predicting on: \\n {last_window} -> Prediction: {tf.squeeze(future_pred).numpy()}\\n\")\n",
    "    \n",
    "    # Append predictions to future_forecast\n",
    "    future_forecast.append(tf.squeeze(future_pred).numpy())\n",
    "    # print(future_forecast)\n",
    "\n",
    "    # Update last window with new pred and get WINDOW_SIZE most recent preds (model was trained on WINDOW_SIZE windows)\n",
    "    last_window = np.append(last_window, future_pred)[-WINDOW_SIZE:]\n",
    "  \n",
    "  return future_forecast"
   ]
  },
  {
   "cell_type": "code",
   "execution_count": 124,
   "metadata": {
    "colab": {
     "base_uri": "https://localhost:8080/"
    },
    "id": "uin7xq96iWOB",
    "outputId": "6a13c994-bf4f-46b4-e8c5-20d81291af51"
   },
   "outputs": [
    {
     "name": "stdout",
     "output_type": "stream",
     "text": [
      "Predicting on: \n",
      " [56573.5554719  52147.82118698 49764.1320816  50032.69313676\n",
      " 47885.62525472 45604.61575361 43144.47129086] -> Prediction: 55764.46484375\n",
      "\n",
      "Predicting on: \n",
      " [52147.82118698 49764.1320816  50032.69313676 47885.62525472\n",
      " 45604.61575361 43144.47129086 55764.46484375] -> Prediction: 50985.9453125\n",
      "\n",
      "Predicting on: \n",
      " [49764.1320816  50032.69313676 47885.62525472 45604.61575361\n",
      " 43144.47129086 55764.46484375 50985.9453125 ] -> Prediction: 48522.96484375\n",
      "\n",
      "Predicting on: \n",
      " [50032.69313676 47885.62525472 45604.61575361 43144.47129086\n",
      " 55764.46484375 50985.9453125  48522.96484375] -> Prediction: 48137.203125\n",
      "\n",
      "Predicting on: \n",
      " [47885.62525472 45604.61575361 43144.47129086 55764.46484375\n",
      " 50985.9453125  48522.96484375 48137.203125  ] -> Prediction: 47880.63671875\n",
      "\n",
      "Predicting on: \n",
      " [45604.61575361 43144.47129086 55764.46484375 50985.9453125\n",
      " 48522.96484375 48137.203125   47880.63671875] -> Prediction: 46879.71875\n",
      "\n",
      "Predicting on: \n",
      " [43144.47129086 55764.46484375 50985.9453125  48522.96484375\n",
      " 48137.203125   47880.63671875 46879.71875   ] -> Prediction: 48227.6015625\n",
      "\n",
      "Predicting on: \n",
      " [55764.46484375 50985.9453125  48522.96484375 48137.203125\n",
      " 47880.63671875 46879.71875    48227.6015625 ] -> Prediction: 53963.69140625\n",
      "\n",
      "Predicting on: \n",
      " [50985.9453125  48522.96484375 48137.203125   47880.63671875\n",
      " 46879.71875    48227.6015625  53963.69140625] -> Prediction: 49685.55859375\n",
      "\n",
      "Predicting on: \n",
      " [48522.96484375 48137.203125   47880.63671875 46879.71875\n",
      " 48227.6015625  53963.69140625 49685.55859375] -> Prediction: 47596.17578125\n",
      "\n",
      "Predicting on: \n",
      " [48137.203125   47880.63671875 46879.71875    48227.6015625\n",
      " 53963.69140625 49685.55859375 47596.17578125] -> Prediction: 48114.4296875\n",
      "\n",
      "Predicting on: \n",
      " [47880.63671875 46879.71875    48227.6015625  53963.69140625\n",
      " 49685.55859375 47596.17578125 48114.4296875 ] -> Prediction: 48808.0078125\n",
      "\n",
      "Predicting on: \n",
      " [46879.71875    48227.6015625  53963.69140625 49685.55859375\n",
      " 47596.17578125 48114.4296875  48808.0078125 ] -> Prediction: 48623.85546875\n",
      "\n",
      "Predicting on: \n",
      " [48227.6015625  53963.69140625 49685.55859375 47596.17578125\n",
      " 48114.4296875  48808.0078125  48623.85546875] -> Prediction: 50178.72265625\n",
      "\n"
     ]
    }
   ],
   "source": [
    "\n",
    "# Make forecasts into future of the price of Bitcoin\n",
    "# Note: if you're reading this at a later date, you may already be in the future, so the forecasts \n",
    "# we're making may not actually be forecasts, if that's the case, readjust the training data.\n",
    "future_forecast = make_future_forecast(values=y_all,\n",
    "                                       model=model_9,\n",
    "                                       into_future=INTO_FUTURE,\n",
    "                                       window_size=WINDOW_SIZE)"
   ]
  },
  {
   "cell_type": "code",
   "execution_count": 125,
   "metadata": {
    "colab": {
     "base_uri": "https://localhost:8080/"
    },
    "id": "zrZklJMkiYrh",
    "outputId": "b6833493-0ae7-46e7-a96a-a3c4bd343afc"
   },
   "outputs": [
    {
     "data": {
      "text/plain": [
       "[55764.465,\n",
       " 50985.945,\n",
       " 48522.965,\n",
       " 48137.203,\n",
       " 47880.637,\n",
       " 46879.72,\n",
       " 48227.6,\n",
       " 53963.69,\n",
       " 49685.56,\n",
       " 47596.176]"
      ]
     },
     "execution_count": 125,
     "metadata": {},
     "output_type": "execute_result"
    }
   ],
   "source": [
    "future_forecast[:10]"
   ]
  },
  {
   "cell_type": "markdown",
   "metadata": {
    "id": "6d54latkiewI"
   },
   "source": [
    "\n",
    "Plot future forecasts\n",
    "This is so exciting! Forecasts made!\n",
    "\n",
    "But right now, they're just numbers on a page.\n",
    "\n",
    "Let's bring them to life by adhering to the data explorer's motto: visualize, visualize, visualize!\n",
    "\n",
    "To plot our model's future forecasts against the historical data of Bitcoin, we're going to need a series of future dates (future dates from the final date of where our dataset ends).\n",
    "\n",
    "How about we create a function to return a date range from some specified start date to a specified number of days into the future (INTO_FUTURE).\n",
    "\n",
    "To do so, we'll use a combination of NumPy's datetime64 datatype (our Bitcoin dates are already in this datatype) as well as NumPy's timedelta64 method which helps to create date ranges."
   ]
  },
  {
   "cell_type": "code",
   "execution_count": 126,
   "metadata": {
    "id": "4JUGXd0xibSY"
   },
   "outputs": [],
   "source": [
    "\n",
    "def get_future_dates(start_date, into_future, offset=1):\n",
    "  \"\"\"\n",
    "  Returns array of datetime values from ranging from start_date to start_date+horizon.\n",
    "\n",
    "  start_date: date to start range (np.datetime64)\n",
    "  into_future: number of days to add onto start date for range (int)\n",
    "  offset: number of days to offset start_date by (default 1)\n",
    "  \"\"\"\n",
    "  start_date = start_date + np.timedelta64(offset, \"D\") # specify start date, \"D\" stands for day\n",
    "  end_date = start_date + np.timedelta64(into_future, \"D\") # specify end date\n",
    "  return np.arange(start_date, end_date, dtype=\"datetime64[D]\") # return a date range between start date and end date"
   ]
  },
  {
   "cell_type": "code",
   "execution_count": 127,
   "metadata": {
    "colab": {
     "base_uri": "https://localhost:8080/"
    },
    "id": "SyrmpTGwihin",
    "outputId": "b2bcdd6c-746b-45d1-e1c2-9193a6c1005e"
   },
   "outputs": [
    {
     "data": {
      "text/plain": [
       "Timestamp('2021-05-18 00:00:00')"
      ]
     },
     "execution_count": 127,
     "metadata": {},
     "output_type": "execute_result"
    }
   ],
   "source": [
    "\n",
    "# Last timestep of timesteps (currently in np.datetime64 format)\n",
    "last_timestep = bitcoin_prices.index[-1]\n",
    "last_timestep"
   ]
  },
  {
   "cell_type": "code",
   "execution_count": 128,
   "metadata": {
    "colab": {
     "base_uri": "https://localhost:8080/"
    },
    "id": "IaXkz4WSipVi",
    "outputId": "c701c2db-8687-42b7-b77d-6372d7fabbc9"
   },
   "outputs": [
    {
     "data": {
      "text/plain": [
       "array(['2021-05-19', '2021-05-20', '2021-05-21', '2021-05-22',\n",
       "       '2021-05-23', '2021-05-24', '2021-05-25', '2021-05-26',\n",
       "       '2021-05-27', '2021-05-28', '2021-05-29', '2021-05-30',\n",
       "       '2021-05-31', '2021-06-01'], dtype='datetime64[D]')"
      ]
     },
     "execution_count": 128,
     "metadata": {},
     "output_type": "execute_result"
    }
   ],
   "source": [
    "# Get next two weeks of timesteps\n",
    "next_time_steps = get_future_dates(start_date=last_timestep, \n",
    "                                   into_future=INTO_FUTURE)\n",
    "next_time_steps"
   ]
  },
  {
   "cell_type": "code",
   "execution_count": 129,
   "metadata": {
    "colab": {
     "base_uri": "https://localhost:8080/"
    },
    "id": "vMsRIuI-irnx",
    "outputId": "15e97c0f-e89c-4bc5-e47c-d080eec40cac"
   },
   "outputs": [
    {
     "data": {
      "text/plain": [
       "(array(['2021-05-18', '2021-05-19', '2021-05-20', '2021-05-21',\n",
       "        '2021-05-22', '2021-05-23', '2021-05-24', '2021-05-25',\n",
       "        '2021-05-26', '2021-05-27', '2021-05-28', '2021-05-29',\n",
       "        '2021-05-30', '2021-05-31', '2021-06-01'], dtype='datetime64[D]'),\n",
       " array([43144.473, 55764.465, 50985.945, 48522.965, 48137.203, 47880.637,\n",
       "        46879.72 , 48227.6  , 53963.69 , 49685.56 , 47596.176, 48114.43 ,\n",
       "        48808.008, 48623.855, 50178.723], dtype=float32))"
      ]
     },
     "execution_count": 129,
     "metadata": {},
     "output_type": "execute_result"
    }
   ],
   "source": [
    "\n",
    "# Insert last timestep/final price so the graph doesn't look messed\n",
    "next_time_steps = np.insert(next_time_steps, 0, last_timestep)\n",
    "future_forecast = np.insert(future_forecast, 0, btc_price[-1])\n",
    "next_time_steps, future_forecast"
   ]
  },
  {
   "cell_type": "code",
   "execution_count": 130,
   "metadata": {
    "colab": {
     "base_uri": "https://localhost:8080/",
     "height": 442
    },
    "id": "6ExwIpY7itq5",
    "outputId": "552a0295-c19e-4360-de4b-5ed8bfd87d66"
   },
   "outputs": [
    {
     "data": {
      "image/png": "[encoded data removed]",
      "text/plain": [
       "<Figure size 720x504 with 1 Axes>"
      ]
     },
     "metadata": {
      "needs_background": "light"
     },
     "output_type": "display_data"
    }
   ],
   "source": [
    "# Plot future price predictions of Bitcoin\n",
    "plt.figure(figsize=(10, 7))\n",
    "plot_time_series(bitcoin_prices.index, btc_price, start=2500, format=\"-\", label=\"Actual BTC Price\")\n",
    "plot_time_series(next_time_steps, future_forecast, format=\"-\", label=\"Predicted BTC Price\")"
   ]
  }
 ],
 "metadata": {
  "accelerator": "GPU",
  "colab": {
   "name": "Time series forecasting in TensorFlow (BitPredict 💰📈).ipynb",
   "provenance": []
  },
  "kernelspec": {
   "display_name": "Python 3 (ipykernel)",
   "language": "python",
   "name": "python3"
  },
  "language_info": {
   "codemirror_mode": {
    "name": "ipython",
    "version": 3
   },
   "file_extension": ".py",
   "mimetype": "text/x-python",
   "name": "python",
   "nbconvert_exporter": "python",
   "pygments_lexer": "ipython3",
   "version": "3.9.7"
  }
 },
 "nbformat": 4,
 "nbformat_minor": 1
}
